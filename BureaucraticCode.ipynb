{
 "cells": [
  {
   "cell_type": "markdown",
   "metadata": {
    "collapsed": true,
    "pycharm": {
     "name": "#%% md\n"
    }
   },
   "source": [
    "Procedo a analizar la relacion entre el codigo burocratico y si la operacion\n",
    "es exitosa o no en base al porcentaje de closed Won sobre closed Lost."
   ]
  },
  {
   "cell_type": "code",
   "execution_count": 156,
   "metadata": {
    "pycharm": {
     "name": "#%%\n"
    }
   },
   "outputs": [],
   "source": [
    "import pandas as pd\n",
    "import seaborn as sb\n",
    "\n",
    "data = pd.read_csv('Entrenamieto_ECI_2020.csv')\n",
    "\n",
    "data.drop_duplicates(subset=['Opportunity_ID'], inplace=True) #No cuento opportunities repetidos, el resultado igual es por opportunity\n",
    "                                                                #y no por producto asi que no es que pierdo resultados\n",
    "bureaucraticCode = data[['Bureaucratic_Code', 'Stage']]\n",
    "\n",
    "bureaucraticCode = bureaucraticCode[bureaucraticCode['Stage'].isin(values=['Closed Won', 'Closed Lost'])]\n",
    "\n",
    "bureaucraticCode.replace(to_replace=['Closed Won', 'Closed Lost'], value=[1, 0], inplace=True)\n",
    "\n",
    "bureaucraticCode.replace(to_replace=['Bureaucratic_Code_0', 'Bureaucratic_Code_1', 'Bureaucratic_Code_2',\n",
    "                                     'Bureaucratic_Code_3', 'Bureaucratic_Code_4',\n",
    "                                     'Bureaucratic_Code_5', 'Bureaucratic_Code_6'],\n",
    "                         value=['0', '1', '2', '3', '4', '5', '6'], inplace=True)"
   ]
  },
  {
   "cell_type": "markdown",
   "source": [
    "Analizo cuantos datos tengo de cada Bureaucratic Code para ver cuales considero\n",
    "estadisticamente suficientes"
   ],
   "metadata": {
    "collapsed": false,
    "pycharm": {
     "name": "#%% md\n"
    }
   }
  },
  {
   "cell_type": "code",
   "execution_count": 157,
   "outputs": [
    {
     "data": {
      "text/plain": "<matplotlib.axes._subplots.AxesSubplot at 0x7fc4fee42730>"
     },
     "execution_count": 157,
     "metadata": {},
     "output_type": "execute_result"
    },
    {
     "data": {
      "text/plain": "<Figure size 432x288 with 1 Axes>",
      "image/png": "[encoded data removed]"
     },
     "metadata": {
      "needs_background": "light"
     },
     "output_type": "display_data"
    }
   ],
   "source": [
    "codesCount = bureaucraticCode.groupby('Bureaucratic_Code').agg({'Stage':'count'}).reset_index()\n",
    "sb.barplot(x='Bureaucratic Code', y='Occurrences', data=(codesCount.rename(columns=\n",
    "            {'Bureaucratic_Code':'Bureaucratic Code', 'Stage':'Occurrences'})))"
   ],
   "metadata": {
    "collapsed": false,
    "pycharm": {
     "name": "#%%\n"
    }
   }
  },
  {
   "cell_type": "markdown",
   "source": [
    "Haciendo zoom en el Code 1 y Code 2"
   ],
   "metadata": {
    "collapsed": false,
    "pycharm": {
     "name": "#%% md\n"
    }
   }
  },
  {
   "cell_type": "code",
   "source": [
    "sb.barplot(x='Bureaucratic Code', y='Occurrences', data=(codesCount.rename(columns=\n",
    "            {'Bureaucratic_Code':'Bureaucratic Code', 'Stage':'Occurrences'})), order='15')"
   ],
   "metadata": {
    "collapsed": false,
    "pycharm": {
     "name": "#%% md VER QUE HACER CON ESTO\n"
    }
   },
   "execution_count": null,
   "outputs": []
  },
  {
   "cell_type": "code",
   "execution_count": 159,
   "outputs": [
    {
     "data": {
      "text/plain": "<matplotlib.axes._subplots.AxesSubplot at 0x7fc500d3d2e0>"
     },
     "execution_count": 159,
     "metadata": {},
     "output_type": "execute_result"
    },
    {
     "data": {
      "text/plain": "<Figure size 432x288 with 1 Axes>",
      "image/png": "[encoded data removed]"
     },
     "metadata": {
      "needs_background": "light"
     },
     "output_type": "display_data"
    }
   ],
   "source": [
    "wonOpportunityRate = bureaucraticCode.groupby('Bureaucratic_Code').agg({'Stage':'mean'}).reset_index()\n",
    "\n",
    "wonOpportunityRate.rename(columns={'Bureaucratic_Code':'Bureaucratic Code', 'Stage':'Won Opportunity Rate'}, inplace=True)\n",
    "\n",
    "sb.barplot(x='Bureaucratic Code', y='Won Opportunity Rate', data=wonOpportunityRate)"
   ],
   "metadata": {
    "collapsed": false,
    "pycharm": {
     "name": "#%%\n"
    }
   }
  }
 ],
 "metadata": {
  "kernelspec": {
   "display_name": "Python 3",
   "language": "python",
   "name": "python3"
  },
  "language_info": {
   "codemirror_mode": {
    "name": "ipython",
    "version": 3
   },
   "file_extension": ".py",
   "mimetype": "text/x-python",
   "name": "python",
   "nbconvert_exporter": "python",
   "pygments_lexer": "ipython3",
   "version": "3.8.3"
  }
 },
 "nbformat": 4,
 "nbformat_minor": 1
}