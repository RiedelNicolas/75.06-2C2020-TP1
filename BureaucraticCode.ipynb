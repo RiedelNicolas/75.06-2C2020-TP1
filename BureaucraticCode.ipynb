{
 "cells": [
  {
   "cell_type": "markdown",
   "metadata": {
    "collapsed": true,
    "pycharm": {
     "name": "#%% md\n"
    }
   },
   "source": [
    "Procedo a analizar la relacion entre el codigo burocratico y si la operacion\n",
    "es exitosa o no en base al porcentaje de closed Won sobre closed Lost."
   ]
  },
  {
   "cell_type": "code",
   "execution_count": 22,
   "metadata": {
    "pycharm": {
     "name": "#%%\n"
    }
   },
   "outputs": [
    {
     "data": {
      "text/plain": "         Bureaucratic_Code        Stage\n0      Bureaucratic_Code_4  Closed Lost\n1      Bureaucratic_Code_4   Closed Won\n2      Bureaucratic_Code_4   Closed Won\n3      Bureaucratic_Code_5  Closed Lost\n4      Bureaucratic_Code_5  Closed Lost\n...                    ...          ...\n16942  Bureaucratic_Code_4   Closed Won\n16943  Bureaucratic_Code_4   Closed Won\n16944  Bureaucratic_Code_4   Closed Won\n16945  Bureaucratic_Code_4  Closed Lost\n16946  Bureaucratic_Code_4  Closed Lost\n\n[16883 rows x 2 columns]",
      "text/html": "<div>\n<style scoped>\n    .dataframe tbody tr th:only-of-type {\n        vertical-align: middle;\n    }\n\n    .dataframe tbody tr th {\n        vertical-align: top;\n    }\n\n    .dataframe thead th {\n        text-align: right;\n    }\n</style>\n<table border=\"1\" class=\"dataframe\">\n  <thead>\n    <tr style=\"text-align: right;\">\n      <th></th>\n      <th>Bureaucratic_Code</th>\n      <th>Stage</th>\n    </tr>\n  </thead>\n  <tbody>\n    <tr>\n      <th>0</th>\n      <td>Bureaucratic_Code_4</td>\n      <td>Closed Lost</td>\n    </tr>\n    <tr>\n      <th>1</th>\n      <td>Bureaucratic_Code_4</td>\n      <td>Closed Won</td>\n    </tr>\n    <tr>\n      <th>2</th>\n      <td>Bureaucratic_Code_4</td>\n      <td>Closed Won</td>\n    </tr>\n    <tr>\n      <th>3</th>\n      <td>Bureaucratic_Code_5</td>\n      <td>Closed Lost</td>\n    </tr>\n    <tr>\n      <th>4</th>\n      <td>Bureaucratic_Code_5</td>\n      <td>Closed Lost</td>\n    </tr>\n    <tr>\n      <th>...</th>\n      <td>...</td>\n      <td>...</td>\n    </tr>\n    <tr>\n      <th>16942</th>\n      <td>Bureaucratic_Code_4</td>\n      <td>Closed Won</td>\n    </tr>\n    <tr>\n      <th>16943</th>\n      <td>Bureaucratic_Code_4</td>\n      <td>Closed Won</td>\n    </tr>\n    <tr>\n      <th>16944</th>\n      <td>Bureaucratic_Code_4</td>\n      <td>Closed Won</td>\n    </tr>\n    <tr>\n      <th>16945</th>\n      <td>Bureaucratic_Code_4</td>\n      <td>Closed Lost</td>\n    </tr>\n    <tr>\n      <th>16946</th>\n      <td>Bureaucratic_Code_4</td>\n      <td>Closed Lost</td>\n    </tr>\n  </tbody>\n</table>\n<p>16883 rows × 2 columns</p>\n</div>"
     },
     "execution_count": 22,
     "metadata": {},
     "output_type": "execute_result"
    }
   ],
   "source": [
    "import pandas as pd\n",
    "import seaborn as sb\n",
    "\n",
    "data = pd.read_csv('Entrenamieto_ECI_2020.csv')\n",
    "bureaucraticCode = data[['Bureaucratic_Code', 'Stage']]\n",
    "bureaucraticCode = bureaucraticCode[bureaucraticCode['Stage'].isin(values=['Closed Won', 'Closed Lost'])]\n",
    "bureaucraticCode.groupby('Bureaucratic_Code').agg()\n",
    "#sb.countplot(x='Bureaucratic_Code', data=bureaucraticCode)"
   ]
  }
 ],
 "metadata": {
  "kernelspec": {
   "display_name": "Python 3",
   "language": "python",
   "name": "python3"
  },
  "language_info": {
   "codemirror_mode": {
    "name": "ipython",
    "version": 3
   },
   "file_extension": ".py",
   "mimetype": "text/x-python",
   "name": "python",
   "nbconvert_exporter": "python",
   "pygments_lexer": "ipython3",
   "version": "3.8.3"
  }
 },
 "nbformat": 4,
 "nbformat_minor": 1
}