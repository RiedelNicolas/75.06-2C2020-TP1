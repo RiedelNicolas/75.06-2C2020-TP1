{
 "cells": [
  {
   "cell_type": "code",
   "execution_count": 51,
   "metadata": {},
   "outputs": [],
   "source": [
    "import pandas as pd\n",
    "import numpy as np\n",
    "import matplotlib.pyplot as plt\n",
    "import seaborn as sns\n",
    "import matplotlib.cm as cm\n",
    "import matplotlib as mpl\n",
    "import numpy as np"
   ]
  },
  {
   "cell_type": "code",
   "execution_count": 52,
   "metadata": {},
   "outputs": [],
   "source": [
    "#### Primero filtramos las columnas que no tienen peso. Ya sea porque son"
   ]
  },
  {
   "cell_type": "code",
   "execution_count": 53,
   "metadata": {},
   "outputs": [],
   "source": [
    "cmap = plt.get_cmap('YlGnBu')"
   ]
  },
  {
   "cell_type": "code",
   "execution_count": 54,
   "metadata": {},
   "outputs": [],
   "source": [
    "def imprimir_proporciones_none(dataframe):\n",
    "    aux=0\n",
    "    for i in range(0, len(datos.columns)):\n",
    "        print(\"Columna: \" + datos.columns[i])\n",
    "        aux = datos[datos.columns[i]].value_counts()\n",
    "        if \"None\" in aux.index:\n",
    "            print(\"Hay \" + aux[\"None\"].astype(str) + \" None\")\n",
    "            print(\"El porcentaje de None es: \" + (aux[\"None\"]*100/aux.sum()).astype(str) + \"%\")\n",
    "        else:\n",
    "            print(\"No hay None\")\n",
    "        print(\"\")\n",
    "\n",
    "def filtrar_columnas_nulas(dataframe):\n",
    "    aux = 0\n",
    "    ret_list = []\n",
    "    for i in range(0, len(dataframe.columns)):\n",
    "        aux = datos[dataframe.columns[i]].value_counts()\n",
    "        if \"None\" in aux.index:\n",
    "            if aux[\"None\"]==len(dataframe):\n",
    "                print(dataframe.columns[i])\n",
    "                continue\n",
    "        ret_list.append(dataframe.columns[i])\n",
    "    return ret_list\n",
    "\n",
    "def columnas_invariantes(dataframe):\n",
    "    for i in range(0,len(dataframe.columns)):\n",
    "        if (len(dataframe[dataframe.columns[i]].value_counts())==1):\n",
    "            print(\"La columna \" + dataframe.columns[i] + \" tiene un solo dato\")\n",
    "            print(\"\")"
   ]
  },
  {
   "cell_type": "code",
   "execution_count": 55,
   "metadata": {},
   "outputs": [
    {
     "name": "stdout",
     "output_type": "stream",
     "text": [
      "Last_Activity\n",
      "Actual_Delivery_Date\n",
      "Columna: ID\n",
      "No hay None\n",
      "\n",
      "Columna: Region\n",
      "No hay None\n",
      "\n",
      "Columna: Territory\n",
      "Hay 4999 None\n",
      "El porcentaje de None es: 29.497846226470763%\n",
      "\n",
      "Columna: Pricing, Delivery_Terms_Quote_Appr\n",
      "No hay None\n",
      "\n",
      "Columna: Pricing, Delivery_Terms_Approved\n",
      "No hay None\n",
      "\n",
      "Columna: Bureaucratic_Code_0_Approval\n",
      "No hay None\n",
      "\n",
      "Columna: Bureaucratic_Code_0_Approved\n",
      "No hay None\n",
      "\n",
      "Columna: Submitted_for_Approval\n",
      "No hay None\n",
      "\n",
      "Columna: Bureaucratic_Code\n",
      "No hay None\n",
      "\n",
      "Columna: Account_Created_Date\n",
      "No hay None\n",
      "\n",
      "Columna: Source\n",
      "Hay 9497 None\n",
      "El porcentaje de None es: 56.039417005959756%\n",
      "\n",
      "Columna: Billing_Country\n",
      "Hay 27 None\n",
      "El porcentaje de None es: 0.15932023366967604%\n",
      "\n",
      "Columna: Account_Name\n",
      "No hay None\n",
      "\n",
      "Columna: Opportunity_Name\n",
      "No hay None\n",
      "\n",
      "Columna: Opportunity_ID\n",
      "No hay None\n",
      "\n",
      "Columna: Sales_Contract_No\n",
      "Hay 6973 None\n",
      "El porcentaje de None es: 41.145925532542634%\n",
      "\n",
      "Columna: Account_Owner\n",
      "No hay None\n",
      "\n",
      "Columna: Opportunity_Owner\n",
      "No hay None\n",
      "\n",
      "Columna: Account_Type\n",
      "Hay 112 None\n",
      "El porcentaje de None es: 0.6608839322593969%\n",
      "\n",
      "Columna: Opportunity_Type\n",
      "No hay None\n",
      "\n",
      "Columna: Quote_Type\n",
      "No hay None\n",
      "\n",
      "Columna: Delivery_Terms\n",
      "No hay None\n",
      "\n",
      "Columna: Opportunity_Created_Date\n",
      "No hay None\n",
      "\n",
      "Columna: Brand\n",
      "Hay 15911 None\n",
      "El porcentaje de None es: 93.88682362660057%\n",
      "\n",
      "Columna: Product_Type\n",
      "Hay 15935 None\n",
      "El porcentaje de None es: 94.02844161208473%\n",
      "\n",
      "Columna: Size\n",
      "Hay 15967 None\n",
      "El porcentaje de None es: 94.21726559273027%\n",
      "\n",
      "Columna: Product_Category_B\n",
      "Hay 15928 None\n",
      "El porcentaje de None es: 93.98713636631852%\n",
      "\n",
      "Columna: Price\n",
      "No hay None\n",
      "\n",
      "Columna: Currency\n",
      "Hay 16052 None\n",
      "El porcentaje de None es: 94.71882929131999%\n",
      "\n",
      "Columna: Quote_Expiry_Date\n",
      "No hay None\n",
      "\n",
      "Columna: Last_Modified_Date\n",
      "No hay None\n",
      "\n",
      "Columna: Last_Modified_By\n",
      "No hay None\n",
      "\n",
      "Columna: Product_Family\n",
      "No hay None\n",
      "\n",
      "Columna: Product_Name\n",
      "No hay None\n",
      "\n",
      "Columna: ASP_Currency\n",
      "No hay None\n",
      "\n",
      "Columna: ASP\n",
      "No hay None\n",
      "\n",
      "Columna: ASP_(converted)_Currency\n",
      "No hay None\n",
      "\n",
      "Columna: ASP_(converted)\n",
      "No hay None\n",
      "\n",
      "Columna: Planned_Delivery_Start_Date\n",
      "No hay None\n",
      "\n",
      "Columna: Planned_Delivery_End_Date\n",
      "Hay 75 None\n",
      "El porcentaje de None es: 0.442556204637989%\n",
      "\n",
      "Columna: Month\n",
      "No hay None\n",
      "\n",
      "Columna: Delivery_Quarter\n",
      "No hay None\n",
      "\n",
      "Columna: Delivery_Year\n",
      "No hay None\n",
      "\n",
      "Columna: TRF\n",
      "No hay None\n",
      "\n",
      "Columna: Total_Amount_Currency\n",
      "No hay None\n",
      "\n",
      "Columna: Total_Amount\n",
      "No hay None\n",
      "\n",
      "Columna: Total_Taxable_Amount_Currency\n",
      "No hay None\n",
      "\n",
      "Columna: Total_Taxable_Amount\n",
      "No hay None\n",
      "\n",
      "Columna: Stage\n",
      "No hay None\n",
      "\n",
      "Columna: Prod_Category_A\n",
      "No hay None\n",
      "\n",
      "La columna Submitted_for_Approval tiene un solo dato\n",
      "\n",
      "La columna ASP_(converted)_Currency tiene un solo dato\n",
      "\n",
      "La columna Prod_Category_A tiene un solo dato\n",
      "\n"
     ]
    }
   ],
   "source": [
    "datos_csv = pd.read_csv(\"Entrenamieto_ECI_2020.csv\")\n",
    "datos = datos_csv.replace({\"NaT\":\"None\", \"nan\":\"None\", \"NaN\":\"None\"})\n",
    "\n",
    "datos = datos[filtrar_columnas_nulas(datos)]\n",
    "datos[\"Price\"] = pd.to_numeric(datos[\"Price\"], errors=\"coerce\")\n",
    "datos[\"Quote_Expiry_Date\"] = pd.to_numeric(datos[\"Price\"], errors=\"coerce\")\n",
    "datos[\"Last_Modified_Date\"] = pd.to_numeric(datos[\"Price\"], errors=\"coerce\")\n",
    "#datos[\"Actual_Delivery_Date\"] = pd.to_numeric(datos[\"Actual_Delivery_Date\"], errors=\"coerce\")\n",
    "\n",
    "imprimir_proporciones_none(datos)    \n",
    "columnas_invariantes(datos)"
   ]
  },
  {
   "cell_type": "code",
   "execution_count": 56,
   "metadata": {
    "scrolled": true
   },
   "outputs": [
    {
     "name": "stdout",
     "output_type": "stream",
     "text": [
      "<class 'pandas.core.frame.DataFrame'>\n",
      "RangeIndex: 16947 entries, 0 to 16946\n",
      "Data columns (total 50 columns):\n",
      " #   Column                              Non-Null Count  Dtype  \n",
      "---  ------                              --------------  -----  \n",
      " 0   ID                                  16947 non-null  int64  \n",
      " 1   Region                              16947 non-null  object \n",
      " 2   Territory                           16947 non-null  object \n",
      " 3   Pricing, Delivery_Terms_Quote_Appr  16947 non-null  int64  \n",
      " 4   Pricing, Delivery_Terms_Approved    16947 non-null  int64  \n",
      " 5   Bureaucratic_Code_0_Approval        16947 non-null  int64  \n",
      " 6   Bureaucratic_Code_0_Approved        16947 non-null  int64  \n",
      " 7   Submitted_for_Approval              16947 non-null  int64  \n",
      " 8   Bureaucratic_Code                   16947 non-null  object \n",
      " 9   Account_Created_Date                16947 non-null  object \n",
      " 10  Source                              16947 non-null  object \n",
      " 11  Billing_Country                     16947 non-null  object \n",
      " 12  Account_Name                        16947 non-null  object \n",
      " 13  Opportunity_Name                    16947 non-null  object \n",
      " 14  Opportunity_ID                      16947 non-null  int64  \n",
      " 15  Sales_Contract_No                   16947 non-null  object \n",
      " 16  Account_Owner                       16947 non-null  object \n",
      " 17  Opportunity_Owner                   16947 non-null  object \n",
      " 18  Account_Type                        16947 non-null  object \n",
      " 19  Opportunity_Type                    16947 non-null  object \n",
      " 20  Quote_Type                          16947 non-null  object \n",
      " 21  Delivery_Terms                      16947 non-null  object \n",
      " 22  Opportunity_Created_Date            16947 non-null  object \n",
      " 23  Brand                               16947 non-null  object \n",
      " 24  Product_Type                        16947 non-null  object \n",
      " 25  Size                                16947 non-null  object \n",
      " 26  Product_Category_B                  16947 non-null  object \n",
      " 27  Price                               356 non-null    float64\n",
      " 28  Currency                            16947 non-null  object \n",
      " 29  Quote_Expiry_Date                   356 non-null    float64\n",
      " 30  Last_Modified_Date                  356 non-null    float64\n",
      " 31  Last_Modified_By                    16947 non-null  object \n",
      " 32  Product_Family                      16947 non-null  object \n",
      " 33  Product_Name                        16947 non-null  object \n",
      " 34  ASP_Currency                        16947 non-null  object \n",
      " 35  ASP                                 13738 non-null  float64\n",
      " 36  ASP_(converted)_Currency            16947 non-null  object \n",
      " 37  ASP_(converted)                     13738 non-null  float64\n",
      " 38  Planned_Delivery_Start_Date         16947 non-null  object \n",
      " 39  Planned_Delivery_End_Date           16947 non-null  object \n",
      " 40  Month                               16947 non-null  object \n",
      " 41  Delivery_Quarter                    16947 non-null  object \n",
      " 42  Delivery_Year                       16947 non-null  int64  \n",
      " 43  TRF                                 16947 non-null  int64  \n",
      " 44  Total_Amount_Currency               16947 non-null  object \n",
      " 45  Total_Amount                        16888 non-null  float64\n",
      " 46  Total_Taxable_Amount_Currency       16947 non-null  object \n",
      " 47  Total_Taxable_Amount                16947 non-null  float64\n",
      " 48  Stage                               16947 non-null  object \n",
      " 49  Prod_Category_A                     16947 non-null  object \n",
      "dtypes: float64(7), int64(9), object(34)\n",
      "memory usage: 6.5+ MB\n"
     ]
    }
   ],
   "source": [
    "datos.info()"
   ]
  },
  {
   "cell_type": "markdown",
   "metadata": {},
   "source": [
    "### En este notebook vamos a analizar geografia."
   ]
  },
  {
   "cell_type": "markdown",
   "metadata": {
    "pycharm": {
     "name": "#%% md\n"
    }
   },
   "source": [
    "### AL mismo tiempo vamos a analizar sobre oportunidad, por lo tanto filtramos los duplicados en base a esto.\n"
   ]
  },
  {
   "cell_type": "code",
   "execution_count": 57,
   "metadata": {},
   "outputs": [],
   "source": [
    "datos.drop_duplicates('Opportunity_ID',inplace = True)"
   ]
  },
  {
   "cell_type": "code",
   "execution_count": 58,
   "metadata": {
    "scrolled": false
   },
   "outputs": [
    {
     "data": {
      "text/plain": [
       "EMEA           3241\n",
       "Americas       2459\n",
       "APAC           2086\n",
       "Japan          1906\n",
       "Middle East     149\n",
       "Name: Region, dtype: int64"
      ]
     },
     "execution_count": 58,
     "metadata": {},
     "output_type": "execute_result"
    }
   ],
   "source": [
    "datos['Region'].value_counts()"
   ]
  },
  {
   "cell_type": "code",
   "execution_count": 59,
   "metadata": {},
   "outputs": [],
   "source": [
    "saltos = np.linspace(0.6, 0.3,5 )\n",
    "colores = cmap(saltos)\n"
   ]
  },
  {
   "cell_type": "code",
   "execution_count": 60,
   "metadata": {
    "scrolled": false
   },
   "outputs": [
    {
     "data": {
      "text/plain": [
       "[Text(0, 0.5, 'Apariciones'), Text(0.5, 0, 'Region')]"
      ]
     },
     "execution_count": 60,
     "metadata": {},
     "output_type": "execute_result"
    },
    {
     "data": {
      "image/png": "[encoded data removed]",
      "text/plain": [
       "<Figure size 1152x648 with 1 Axes>"
      ]
     },
     "metadata": {},
     "output_type": "display_data"
    }
   ],
   "source": [
    "regiones = datos['Region'].value_counts()\n",
    "\n",
    "ax = sns.barplot(x=regiones.index, y=regiones.values,\n",
    "                 palette=colores)\n",
    "ax.set(xlabel='Region', ylabel='Apariciones')\n",
    "\n",
    "#ax = sns.countplot(x=\"Region\", data=datos)"
   ]
  },
  {
   "cell_type": "code",
   "execution_count": 61,
   "metadata": {},
   "outputs": [],
   "source": [
    "saltos = np.linspace(0.6, 0.3,15 )\n",
    "colores = cmap(saltos)"
   ]
  },
  {
   "cell_type": "code",
   "execution_count": 62,
   "metadata": {},
   "outputs": [
    {
     "data": {
      "text/plain": [
       "[Text(0, 0, 'None'),\n",
       " Text(0, 0, 'Germany'),\n",
       " Text(0, 0, 'NW America'),\n",
       " Text(0, 0, 'India'),\n",
       " Text(0, 0, 'Japan'),\n",
       " Text(0, 0, 'Australia'),\n",
       " Text(0, 0, 'NE America'),\n",
       " Text(0, 0, 'France'),\n",
       " Text(0, 0, 'Netherlands'),\n",
       " Text(0, 0, 'SE America'),\n",
       " Text(0, 0, 'Singapore'),\n",
       " Text(0, 0, 'United Kingdom'),\n",
       " Text(0, 0, 'Italy'),\n",
       " Text(0, 0, 'Belgium'),\n",
       " Text(0, 0, 'Spain')]"
      ]
     },
     "execution_count": 62,
     "metadata": {},
     "output_type": "execute_result"
    },
    {
     "data": {
      "image/png": "[encoded data removed]",
      "text/plain": [
       "<Figure size 1152x648 with 1 Axes>"
      ]
     },
     "metadata": {},
     "output_type": "display_data"
    }
   ],
   "source": [
    "territorios = datos['Territory'].value_counts().head(15)\n",
    "\n",
    "ax = sns.barplot(x=territorios.index, y=territorios.values,\n",
    "                 palette=colores)\n",
    "ax.set(xlabel='15 most repeated territories', ylabel='Apariciones')\n",
    "sns.set(rc={'figure.figsize':(16,9)})\n",
    "\n",
    "ax.set_xticklabels(ax.get_xticklabels(), rotation=45)"
   ]
  },
  {
   "cell_type": "code",
   "execution_count": 63,
   "metadata": {},
   "outputs": [],
   "source": [
    "#### En este ultimo grafico tenemos algo interesante, gran parte de los territorios son NONE."
   ]
  },
  {
   "cell_type": "code",
   "execution_count": 64,
   "metadata": {},
   "outputs": [
    {
     "data": {
      "text/plain": [
       "None              1867\n",
       "Germany           1080\n",
       "NW America         878\n",
       "India              680\n",
       "Japan              607\n",
       "Australia          579\n",
       "NE America         518\n",
       "France             393\n",
       "Netherlands        384\n",
       "SE America         340\n",
       "Singapore          293\n",
       "United Kingdom     228\n",
       "Italy              208\n",
       "Belgium            179\n",
       "Spain              160\n",
       "Name: Territory, dtype: int64"
      ]
     },
     "execution_count": 64,
     "metadata": {},
     "output_type": "execute_result"
    }
   ],
   "source": [
    "territorios"
   ]
  },
  {
   "cell_type": "code",
   "execution_count": 65,
   "metadata": {},
   "outputs": [
    {
     "data": {
      "text/plain": [
       "1867"
      ]
     },
     "execution_count": 65,
     "metadata": {},
     "output_type": "execute_result"
    }
   ],
   "source": [
    "territorios['None']"
   ]
  },
  {
   "cell_type": "code",
   "execution_count": 66,
   "metadata": {
    "pycharm": {
     "name": "#%%\n"
    }
   },
   "outputs": [
    {
     "data": {
      "text/plain": [
       "<bound method Series.sum of None              1867\n",
       "Germany           1080\n",
       "NW America         878\n",
       "India              680\n",
       "Japan              607\n",
       "Australia          579\n",
       "NE America         518\n",
       "France             393\n",
       "Netherlands        384\n",
       "SE America         340\n",
       "Singapore          293\n",
       "United Kingdom     228\n",
       "Italy              208\n",
       "Belgium            179\n",
       "Spain              160\n",
       "Name: Territory, dtype: int64>"
      ]
     },
     "execution_count": 66,
     "metadata": {},
     "output_type": "execute_result"
    }
   ],
   "source": [
    "territorios.sum"
   ]
  },
  {
   "cell_type": "code",
   "execution_count": 67,
   "metadata": {},
   "outputs": [],
   "source": [
    "saltos = np.linspace(0.3, 0.5,2 )\n",
    "colores = cmap(saltos)"
   ]
  },
  {
   "cell_type": "code",
   "execution_count": 68,
   "metadata": {
    "scrolled": true
   },
   "outputs": [
    {
     "data": {
      "image/png": "[encoded data removed]",
      "text/plain": [
       "<Figure size 1152x648 with 1 Axes>"
      ]
     },
     "metadata": {},
     "output_type": "display_data"
    }
   ],
   "source": [
    "labels = ['None', 'Teritorio Valido']\n",
    "territorios = datos['Territory'].value_counts()\n",
    "\n",
    "sizes = [datos['Territory'].value_counts()['None'],\n",
    "        len(datos['Territory']) - datos['Territory'].value_counts()['None'] ]\n",
    "fig1, ax1 = plt.subplots()\n",
    "ax1.pie(sizes, labels=labels, autopct='%1.1f%%', shadow=False, colors = colores)\n",
    "ax1.axis('equal')\n",
    "plt.show()"
   ]
  },
  {
   "cell_type": "markdown",
   "metadata": {
    "pycharm": {
     "name": "#%% md\n"
    }
   },
   "source": [
    "### Stage Segun Region."
   ]
  },
  {
   "cell_type": "code",
   "execution_count": 69,
   "metadata": {},
   "outputs": [],
   "source": [
    "region = datos[ ['Region', 'Stage'] ]"
   ]
  },
  {
   "cell_type": "code",
   "execution_count": 70,
   "metadata": {
    "scrolled": false
   },
   "outputs": [
    {
     "data": {
      "text/html": [
       "<div>\n",
       "<style scoped>\n",
       "    .dataframe tbody tr th:only-of-type {\n",
       "        vertical-align: middle;\n",
       "    }\n",
       "\n",
       "    .dataframe tbody tr th {\n",
       "        vertical-align: top;\n",
       "    }\n",
       "\n",
       "    .dataframe thead th {\n",
       "        text-align: right;\n",
       "    }\n",
       "</style>\n",
       "<table border=\"1\" class=\"dataframe\">\n",
       "  <thead>\n",
       "    <tr style=\"text-align: right;\">\n",
       "      <th>Stage</th>\n",
       "      <th>Closed Lost</th>\n",
       "      <th>Closed Won</th>\n",
       "      <th>Negotiation</th>\n",
       "      <th>Proposal</th>\n",
       "      <th>Qualification</th>\n",
       "    </tr>\n",
       "    <tr>\n",
       "      <th>Region</th>\n",
       "      <th></th>\n",
       "      <th></th>\n",
       "      <th></th>\n",
       "      <th></th>\n",
       "      <th></th>\n",
       "    </tr>\n",
       "  </thead>\n",
       "  <tbody>\n",
       "    <tr>\n",
       "      <th>APAC</th>\n",
       "      <td>924.0</td>\n",
       "      <td>1155.0</td>\n",
       "      <td>NaN</td>\n",
       "      <td>5.0</td>\n",
       "      <td>2.0</td>\n",
       "    </tr>\n",
       "    <tr>\n",
       "      <th>Americas</th>\n",
       "      <td>1358.0</td>\n",
       "      <td>1094.0</td>\n",
       "      <td>4.0</td>\n",
       "      <td>3.0</td>\n",
       "      <td>NaN</td>\n",
       "    </tr>\n",
       "    <tr>\n",
       "      <th>EMEA</th>\n",
       "      <td>1737.0</td>\n",
       "      <td>1500.0</td>\n",
       "      <td>1.0</td>\n",
       "      <td>3.0</td>\n",
       "      <td>NaN</td>\n",
       "    </tr>\n",
       "    <tr>\n",
       "      <th>Japan</th>\n",
       "      <td>595.0</td>\n",
       "      <td>1290.0</td>\n",
       "      <td>1.0</td>\n",
       "      <td>13.0</td>\n",
       "      <td>7.0</td>\n",
       "    </tr>\n",
       "    <tr>\n",
       "      <th>Middle East</th>\n",
       "      <td>105.0</td>\n",
       "      <td>33.0</td>\n",
       "      <td>5.0</td>\n",
       "      <td>6.0</td>\n",
       "      <td>NaN</td>\n",
       "    </tr>\n",
       "  </tbody>\n",
       "</table>\n",
       "</div>"
      ],
      "text/plain": [
       "Stage        Closed Lost  Closed Won  Negotiation  Proposal  Qualification\n",
       "Region                                                                    \n",
       "APAC               924.0      1155.0          NaN       5.0            2.0\n",
       "Americas          1358.0      1094.0          4.0       3.0            NaN\n",
       "EMEA              1737.0      1500.0          1.0       3.0            NaN\n",
       "Japan              595.0      1290.0          1.0      13.0            7.0\n",
       "Middle East        105.0        33.0          5.0       6.0            NaN"
      ]
     },
     "execution_count": 70,
     "metadata": {},
     "output_type": "execute_result"
    }
   ],
   "source": [
    "region.pivot_table(index = 'Region', columns = 'Stage', aggfunc='size')"
   ]
  },
  {
   "cell_type": "markdown",
   "metadata": {
    "pycharm": {
     "name": "#%% md\n"
    }
   },
   "source": [
    "### Para veitar demoivre (analizado en otros notebooks), se procede a eliminar los casos que no son Closed Lost ni Closed Won."
   ]
  },
  {
   "cell_type": "code",
   "execution_count": 71,
   "metadata": {
    "pycharm": {
     "name": "#%%\n"
    },
    "scrolled": false
   },
   "outputs": [
    {
     "data": {
      "text/html": [
       "<div>\n",
       "<style scoped>\n",
       "    .dataframe tbody tr th:only-of-type {\n",
       "        vertical-align: middle;\n",
       "    }\n",
       "\n",
       "    .dataframe tbody tr th {\n",
       "        vertical-align: top;\n",
       "    }\n",
       "\n",
       "    .dataframe thead th {\n",
       "        text-align: right;\n",
       "    }\n",
       "</style>\n",
       "<table border=\"1\" class=\"dataframe\">\n",
       "  <thead>\n",
       "    <tr style=\"text-align: right;\">\n",
       "      <th>Stage</th>\n",
       "      <th>Region</th>\n",
       "      <th>Closed Lost</th>\n",
       "      <th>Closed Won</th>\n",
       "      <th>Total</th>\n",
       "    </tr>\n",
       "  </thead>\n",
       "  <tbody>\n",
       "    <tr>\n",
       "      <th>0</th>\n",
       "      <td>EMEA</td>\n",
       "      <td>1737</td>\n",
       "      <td>1500</td>\n",
       "      <td>3237</td>\n",
       "    </tr>\n",
       "    <tr>\n",
       "      <th>1</th>\n",
       "      <td>Americas</td>\n",
       "      <td>1358</td>\n",
       "      <td>1094</td>\n",
       "      <td>2452</td>\n",
       "    </tr>\n",
       "    <tr>\n",
       "      <th>2</th>\n",
       "      <td>APAC</td>\n",
       "      <td>924</td>\n",
       "      <td>1155</td>\n",
       "      <td>2079</td>\n",
       "    </tr>\n",
       "    <tr>\n",
       "      <th>3</th>\n",
       "      <td>Japan</td>\n",
       "      <td>595</td>\n",
       "      <td>1290</td>\n",
       "      <td>1885</td>\n",
       "    </tr>\n",
       "    <tr>\n",
       "      <th>4</th>\n",
       "      <td>Middle East</td>\n",
       "      <td>105</td>\n",
       "      <td>33</td>\n",
       "      <td>138</td>\n",
       "    </tr>\n",
       "  </tbody>\n",
       "</table>\n",
       "</div>"
      ],
      "text/plain": [
       "Stage       Region  Closed Lost  Closed Won  Total\n",
       "0             EMEA         1737        1500   3237\n",
       "1         Americas         1358        1094   2452\n",
       "2             APAC          924        1155   2079\n",
       "3            Japan          595        1290   1885\n",
       "4      Middle East          105          33    138"
      ]
     },
     "execution_count": 71,
     "metadata": {},
     "output_type": "execute_result"
    }
   ],
   "source": [
    "region = datos[ ['Region', 'Stage'] ]\n",
    "filtro =  ['Closed Lost','Closed Won' ]\n",
    "region = region [region['Stage'].isin(filtro) ]\n",
    "tabla = region.pivot_table(index = 'Region', columns = 'Stage', aggfunc='size')\n",
    "tabla['Total'] = tabla['Closed Lost'] + tabla ['Closed Won']\n",
    "tabla = tabla.sort_values(\"Total\", ascending=False)\n",
    "tabla = tabla.reset_index() \n",
    "tabla"
   ]
  },
  {
   "cell_type": "code",
   "execution_count": 72,
   "metadata": {},
   "outputs": [
    {
     "data": {
      "text/plain": [
       "array([[0.14196078, 0.59764706, 0.75607843, 1.        ],\n",
       "       [0.44941176, 0.78588235, 0.74039216, 1.        ]])"
      ]
     },
     "execution_count": 72,
     "metadata": {},
     "output_type": "execute_result"
    }
   ],
   "source": [
    "saltos = np.linspace(0.6, 0.4,2 )\n",
    "colores = cmap(saltos)\n",
    "colores"
   ]
  },
  {
   "cell_type": "code",
   "execution_count": 73,
   "metadata": {
    "scrolled": true
   },
   "outputs": [
    {
     "data": {
      "image/png": "[encoded data removed]",
      "text/plain": [
       "<Figure size 936x432 with 1 Axes>"
      ]
     },
     "metadata": {},
     "output_type": "display_data"
    }
   ],
   "source": [
    "sns.set_theme(style=\"whitegrid\")\n",
    "\n",
    "# Initialize the matplotlib figure\n",
    "f, ax = plt.subplots(figsize=(13, 6))\n",
    "\n",
    "# Load the example car crash dataset\n",
    "aPlotear = tabla \n",
    "\n",
    "# Plot the total crashes\n",
    "sns.set_color_codes(\"pastel\")\n",
    "sns.barplot(x=\"Total\", y=\"Region\", data=aPlotear,\n",
    "            label=\"Total\", color=colores[0])\n",
    "\n",
    "# Plot the crashes where alcohol was involved\n",
    "sns.set_color_codes(\"muted\")\n",
    "sns.barplot(x=\"Closed Won\", y=\"Region\", data=aPlotear,\n",
    "            label=\"Closed Won\", color=colores[1])\n",
    "\n",
    "# Add a legend and informative axis label\n",
    "ax.legend(ncol=2, loc=\"lower right\", frameon=True)\n",
    "ax.set(xlim=(0, 3500), ylabel=\"\",\n",
    "       xlabel=\"Closed Won cases over Total\")\n",
    "ax.set_xticks(np.arange(0, 3500, 250))\n",
    "sns.despine(left=True, bottom=True)"
   ]
  },
  {
   "cell_type": "markdown",
   "metadata": {
    "pycharm": {
     "name": "#%% md\n"
    }
   },
   "source": [
    "### Relacion de Closed Won over cases en los 10 territorios mas populares."
   ]
  },
  {
   "cell_type": "code",
   "execution_count": 74,
   "metadata": {
    "pycharm": {
     "name": "#%%\n"
    },
    "scrolled": true
   },
   "outputs": [
    {
     "data": {
      "text/html": [
       "<div>\n",
       "<style scoped>\n",
       "    .dataframe tbody tr th:only-of-type {\n",
       "        vertical-align: middle;\n",
       "    }\n",
       "\n",
       "    .dataframe tbody tr th {\n",
       "        vertical-align: top;\n",
       "    }\n",
       "\n",
       "    .dataframe thead th {\n",
       "        text-align: right;\n",
       "    }\n",
       "</style>\n",
       "<table border=\"1\" class=\"dataframe\">\n",
       "  <thead>\n",
       "    <tr style=\"text-align: right;\">\n",
       "      <th>Stage</th>\n",
       "      <th>Territory</th>\n",
       "      <th>Closed Lost</th>\n",
       "      <th>Closed Won</th>\n",
       "      <th>Negotiation</th>\n",
       "      <th>Proposal</th>\n",
       "      <th>Qualification</th>\n",
       "      <th>Total</th>\n",
       "    </tr>\n",
       "  </thead>\n",
       "  <tbody>\n",
       "    <tr>\n",
       "      <th>0</th>\n",
       "      <td>None</td>\n",
       "      <td>859.0</td>\n",
       "      <td>992.0</td>\n",
       "      <td>1.0</td>\n",
       "      <td>9.0</td>\n",
       "      <td>6.0</td>\n",
       "      <td>1851.0</td>\n",
       "    </tr>\n",
       "    <tr>\n",
       "      <th>1</th>\n",
       "      <td>Germany</td>\n",
       "      <td>488.0</td>\n",
       "      <td>592.0</td>\n",
       "      <td>NaN</td>\n",
       "      <td>NaN</td>\n",
       "      <td>NaN</td>\n",
       "      <td>1080.0</td>\n",
       "    </tr>\n",
       "    <tr>\n",
       "      <th>2</th>\n",
       "      <td>NW America</td>\n",
       "      <td>321.0</td>\n",
       "      <td>553.0</td>\n",
       "      <td>4.0</td>\n",
       "      <td>NaN</td>\n",
       "      <td>NaN</td>\n",
       "      <td>874.0</td>\n",
       "    </tr>\n",
       "    <tr>\n",
       "      <th>3</th>\n",
       "      <td>India</td>\n",
       "      <td>368.0</td>\n",
       "      <td>310.0</td>\n",
       "      <td>NaN</td>\n",
       "      <td>1.0</td>\n",
       "      <td>1.0</td>\n",
       "      <td>678.0</td>\n",
       "    </tr>\n",
       "    <tr>\n",
       "      <th>4</th>\n",
       "      <td>Japan</td>\n",
       "      <td>119.0</td>\n",
       "      <td>483.0</td>\n",
       "      <td>NaN</td>\n",
       "      <td>4.0</td>\n",
       "      <td>1.0</td>\n",
       "      <td>602.0</td>\n",
       "    </tr>\n",
       "    <tr>\n",
       "      <th>5</th>\n",
       "      <td>Australia</td>\n",
       "      <td>194.0</td>\n",
       "      <td>383.0</td>\n",
       "      <td>NaN</td>\n",
       "      <td>1.0</td>\n",
       "      <td>1.0</td>\n",
       "      <td>577.0</td>\n",
       "    </tr>\n",
       "    <tr>\n",
       "      <th>6</th>\n",
       "      <td>NE America</td>\n",
       "      <td>338.0</td>\n",
       "      <td>180.0</td>\n",
       "      <td>NaN</td>\n",
       "      <td>NaN</td>\n",
       "      <td>NaN</td>\n",
       "      <td>518.0</td>\n",
       "    </tr>\n",
       "    <tr>\n",
       "      <th>7</th>\n",
       "      <td>France</td>\n",
       "      <td>277.0</td>\n",
       "      <td>116.0</td>\n",
       "      <td>NaN</td>\n",
       "      <td>NaN</td>\n",
       "      <td>NaN</td>\n",
       "      <td>393.0</td>\n",
       "    </tr>\n",
       "    <tr>\n",
       "      <th>8</th>\n",
       "      <td>Netherlands</td>\n",
       "      <td>223.0</td>\n",
       "      <td>160.0</td>\n",
       "      <td>1.0</td>\n",
       "      <td>NaN</td>\n",
       "      <td>NaN</td>\n",
       "      <td>383.0</td>\n",
       "    </tr>\n",
       "    <tr>\n",
       "      <th>9</th>\n",
       "      <td>SE America</td>\n",
       "      <td>213.0</td>\n",
       "      <td>124.0</td>\n",
       "      <td>NaN</td>\n",
       "      <td>3.0</td>\n",
       "      <td>NaN</td>\n",
       "      <td>337.0</td>\n",
       "    </tr>\n",
       "  </tbody>\n",
       "</table>\n",
       "</div>"
      ],
      "text/plain": [
       "Stage    Territory  Closed Lost  Closed Won  Negotiation  Proposal  \\\n",
       "0             None        859.0       992.0          1.0       9.0   \n",
       "1          Germany        488.0       592.0          NaN       NaN   \n",
       "2       NW America        321.0       553.0          4.0       NaN   \n",
       "3            India        368.0       310.0          NaN       1.0   \n",
       "4            Japan        119.0       483.0          NaN       4.0   \n",
       "5        Australia        194.0       383.0          NaN       1.0   \n",
       "6       NE America        338.0       180.0          NaN       NaN   \n",
       "7           France        277.0       116.0          NaN       NaN   \n",
       "8      Netherlands        223.0       160.0          1.0       NaN   \n",
       "9       SE America        213.0       124.0          NaN       3.0   \n",
       "\n",
       "Stage  Qualification   Total  \n",
       "0                6.0  1851.0  \n",
       "1                NaN  1080.0  \n",
       "2                NaN   874.0  \n",
       "3                1.0   678.0  \n",
       "4                1.0   602.0  \n",
       "5                1.0   577.0  \n",
       "6                NaN   518.0  \n",
       "7                NaN   393.0  \n",
       "8                NaN   383.0  \n",
       "9                NaN   337.0  "
      ]
     },
     "execution_count": 74,
     "metadata": {},
     "output_type": "execute_result"
    }
   ],
   "source": [
    "top10 = datos['Territory'].value_counts().head(10).index\n",
    "datos_filtrado = datos[ datos['Territory'].isin(top10) ]\n",
    "datos_filtrado = datos_filtrado [ ['Territory','Stage' ] ]\n",
    "filtro = [ 'Closed Lost', 'Closed Won']\n",
    "tabla = datos_filtrado.pivot_table(index = 'Territory', columns = 'Stage', aggfunc='size')\n",
    "tabla['Total'] = tabla['Closed Lost'] + tabla ['Closed Won']\n",
    "tabla = tabla.sort_values(\"Total\", ascending=False)\n",
    "tabla = tabla.reset_index() \n",
    "tabla"
   ]
  },
  {
   "cell_type": "code",
   "execution_count": 75,
   "metadata": {},
   "outputs": [
    {
     "data": {
      "text/plain": [
       "array([[0.14196078, 0.59764706, 0.75607843, 1.        ],\n",
       "       [0.44941176, 0.78588235, 0.74039216, 1.        ]])"
      ]
     },
     "execution_count": 75,
     "metadata": {},
     "output_type": "execute_result"
    }
   ],
   "source": [
    "saltos = np.linspace(0.6, 0.4,2 )\n",
    "colores = cmap(saltos)\n",
    "colores"
   ]
  },
  {
   "cell_type": "code",
   "execution_count": 76,
   "metadata": {
    "scrolled": true
   },
   "outputs": [
    {
     "data": {
      "image/png": "[encoded data removed]",
      "text/plain": [
       "<Figure size 936x432 with 1 Axes>"
      ]
     },
     "metadata": {},
     "output_type": "display_data"
    }
   ],
   "source": [
    "sns.set_theme(style=\"whitegrid\")\n",
    "\n",
    "# Initialize the matplotlib figure\n",
    "f, ax = plt.subplots(figsize=(13, 6))\n",
    "\n",
    "# Load the example car crash dataset\n",
    "aPlotear = tabla \n",
    "\n",
    "# Plot the total crashes\n",
    "sns.set_color_codes(\"pastel\")\n",
    "sns.barplot(x=\"Total\", y=\"Territory\", data=aPlotear,\n",
    "            label=\"Total\", color=colores[0])\n",
    "\n",
    "# Plot the crashes where alcohol was involved\n",
    "sns.set_color_codes(\"muted\")\n",
    "sns.barplot(x=\"Closed Won\", y=\"Territory\", data=aPlotear,\n",
    "            label=\"Closed Won\", color=colores[1])\n",
    "\n",
    "# Add a legend and informative axis label\n",
    "ax.legend(ncol=2, loc=\"lower right\", frameon=True)\n",
    "ax.set(xlim=(0, 2000), ylabel=\"\",\n",
    "       xlabel=\"Closed Won cases over Total, Para las 10 regiones mas populares\")\n",
    "ax.set_xticks(np.arange(0, 2250, 250))\n",
    "sns.despine(left=True, bottom=True)"
   ]
  },
  {
   "cell_type": "markdown",
   "metadata": {
    "pycharm": {
     "name": "#%% md\n"
    }
   },
   "source": [
    "### Ahora quiero las regiones con mayor ratio de aprobacion."
   ]
  },
  {
   "cell_type": "code",
   "execution_count": 77,
   "metadata": {},
   "outputs": [],
   "source": [
    "datos['Aprobado'] = (datos['Stage'] == \"Closed Won\")"
   ]
  },
  {
   "cell_type": "code",
   "execution_count": 78,
   "metadata": {
    "scrolled": true
   },
   "outputs": [
    {
     "data": {
      "text/html": [
       "<div>\n",
       "<style scoped>\n",
       "    .dataframe tbody tr th:only-of-type {\n",
       "        vertical-align: middle;\n",
       "    }\n",
       "\n",
       "    .dataframe tbody tr th {\n",
       "        vertical-align: top;\n",
       "    }\n",
       "\n",
       "    .dataframe thead th {\n",
       "        text-align: right;\n",
       "    }\n",
       "</style>\n",
       "<table border=\"1\" class=\"dataframe\">\n",
       "  <thead>\n",
       "    <tr style=\"text-align: right;\">\n",
       "      <th></th>\n",
       "      <th>ID</th>\n",
       "      <th>Region</th>\n",
       "      <th>Territory</th>\n",
       "      <th>Pricing, Delivery_Terms_Quote_Appr</th>\n",
       "      <th>Pricing, Delivery_Terms_Approved</th>\n",
       "      <th>Bureaucratic_Code_0_Approval</th>\n",
       "      <th>Bureaucratic_Code_0_Approved</th>\n",
       "      <th>Submitted_for_Approval</th>\n",
       "      <th>Bureaucratic_Code</th>\n",
       "      <th>Account_Created_Date</th>\n",
       "      <th>...</th>\n",
       "      <th>Delivery_Quarter</th>\n",
       "      <th>Delivery_Year</th>\n",
       "      <th>TRF</th>\n",
       "      <th>Total_Amount_Currency</th>\n",
       "      <th>Total_Amount</th>\n",
       "      <th>Total_Taxable_Amount_Currency</th>\n",
       "      <th>Total_Taxable_Amount</th>\n",
       "      <th>Stage</th>\n",
       "      <th>Prod_Category_A</th>\n",
       "      <th>Aprobado</th>\n",
       "    </tr>\n",
       "  </thead>\n",
       "  <tbody>\n",
       "    <tr>\n",
       "      <th>13507</th>\n",
       "      <td>6190</td>\n",
       "      <td>EMEA</td>\n",
       "      <td>Italy</td>\n",
       "      <td>1</td>\n",
       "      <td>1</td>\n",
       "      <td>0</td>\n",
       "      <td>0</td>\n",
       "      <td>0</td>\n",
       "      <td>Bureaucratic_Code_4</td>\n",
       "      <td>1/10/2017</td>\n",
       "      <td>...</td>\n",
       "      <td>Q2</td>\n",
       "      <td>2018</td>\n",
       "      <td>0</td>\n",
       "      <td>EUR</td>\n",
       "      <td>71156.25</td>\n",
       "      <td>EUR</td>\n",
       "      <td>7.115625e+04</td>\n",
       "      <td>Closed Won</td>\n",
       "      <td>Prod_Category_A_None</td>\n",
       "      <td>True</td>\n",
       "    </tr>\n",
       "    <tr>\n",
       "      <th>1607</th>\n",
       "      <td>9778</td>\n",
       "      <td>EMEA</td>\n",
       "      <td>Spain</td>\n",
       "      <td>1</td>\n",
       "      <td>1</td>\n",
       "      <td>1</td>\n",
       "      <td>1</td>\n",
       "      <td>0</td>\n",
       "      <td>Bureaucratic_Code_4</td>\n",
       "      <td>2/28/2017</td>\n",
       "      <td>...</td>\n",
       "      <td>Q3</td>\n",
       "      <td>2017</td>\n",
       "      <td>13</td>\n",
       "      <td>EUR</td>\n",
       "      <td>4375481.25</td>\n",
       "      <td>EUR</td>\n",
       "      <td>4.375481e+06</td>\n",
       "      <td>Closed Lost</td>\n",
       "      <td>Prod_Category_A_None</td>\n",
       "      <td>False</td>\n",
       "    </tr>\n",
       "    <tr>\n",
       "      <th>2200</th>\n",
       "      <td>27692</td>\n",
       "      <td>Japan</td>\n",
       "      <td>None</td>\n",
       "      <td>1</td>\n",
       "      <td>1</td>\n",
       "      <td>1</td>\n",
       "      <td>1</td>\n",
       "      <td>0</td>\n",
       "      <td>Bureaucratic_Code_4</td>\n",
       "      <td>6/11/2015</td>\n",
       "      <td>...</td>\n",
       "      <td>Q1</td>\n",
       "      <td>2016</td>\n",
       "      <td>0</td>\n",
       "      <td>USD</td>\n",
       "      <td>12194000.00</td>\n",
       "      <td>JPY</td>\n",
       "      <td>1.356339e+09</td>\n",
       "      <td>Closed Won</td>\n",
       "      <td>Prod_Category_A_None</td>\n",
       "      <td>True</td>\n",
       "    </tr>\n",
       "  </tbody>\n",
       "</table>\n",
       "<p>3 rows × 51 columns</p>\n",
       "</div>"
      ],
      "text/plain": [
       "          ID Region Territory  Pricing, Delivery_Terms_Quote_Appr  \\\n",
       "13507   6190   EMEA     Italy                                   1   \n",
       "1607    9778   EMEA     Spain                                   1   \n",
       "2200   27692  Japan      None                                   1   \n",
       "\n",
       "       Pricing, Delivery_Terms_Approved  Bureaucratic_Code_0_Approval  \\\n",
       "13507                                 1                             0   \n",
       "1607                                  1                             1   \n",
       "2200                                  1                             1   \n",
       "\n",
       "       Bureaucratic_Code_0_Approved  Submitted_for_Approval  \\\n",
       "13507                             0                       0   \n",
       "1607                              1                       0   \n",
       "2200                              1                       0   \n",
       "\n",
       "         Bureaucratic_Code Account_Created_Date  ... Delivery_Quarter  \\\n",
       "13507  Bureaucratic_Code_4            1/10/2017  ...               Q2   \n",
       "1607   Bureaucratic_Code_4            2/28/2017  ...               Q3   \n",
       "2200   Bureaucratic_Code_4            6/11/2015  ...               Q1   \n",
       "\n",
       "      Delivery_Year TRF Total_Amount_Currency  Total_Amount  \\\n",
       "13507          2018   0                   EUR      71156.25   \n",
       "1607           2017  13                   EUR    4375481.25   \n",
       "2200           2016   0                   USD   12194000.00   \n",
       "\n",
       "      Total_Taxable_Amount_Currency Total_Taxable_Amount        Stage  \\\n",
       "13507                           EUR         7.115625e+04   Closed Won   \n",
       "1607                            EUR         4.375481e+06  Closed Lost   \n",
       "2200                            JPY         1.356339e+09   Closed Won   \n",
       "\n",
       "            Prod_Category_A Aprobado  \n",
       "13507  Prod_Category_A_None     True  \n",
       "1607   Prod_Category_A_None    False  \n",
       "2200   Prod_Category_A_None     True  \n",
       "\n",
       "[3 rows x 51 columns]"
      ]
     },
     "execution_count": 78,
     "metadata": {},
     "output_type": "execute_result"
    }
   ],
   "source": [
    "datos.sample(3)"
   ]
  },
  {
   "cell_type": "code",
   "execution_count": 79,
   "metadata": {
    "scrolled": false
   },
   "outputs": [
    {
     "data": {
      "text/html": [
       "<div>\n",
       "<style scoped>\n",
       "    .dataframe tbody tr th:only-of-type {\n",
       "        vertical-align: middle;\n",
       "    }\n",
       "\n",
       "    .dataframe tbody tr th {\n",
       "        vertical-align: top;\n",
       "    }\n",
       "\n",
       "    .dataframe thead th {\n",
       "        text-align: right;\n",
       "    }\n",
       "</style>\n",
       "<table border=\"1\" class=\"dataframe\">\n",
       "  <thead>\n",
       "    <tr style=\"text-align: right;\">\n",
       "      <th></th>\n",
       "      <th>Aprobado</th>\n",
       "    </tr>\n",
       "    <tr>\n",
       "      <th>Region</th>\n",
       "      <th></th>\n",
       "    </tr>\n",
       "  </thead>\n",
       "  <tbody>\n",
       "    <tr>\n",
       "      <th>APAC</th>\n",
       "      <td>0.553691</td>\n",
       "    </tr>\n",
       "    <tr>\n",
       "      <th>Americas</th>\n",
       "      <td>0.444896</td>\n",
       "    </tr>\n",
       "    <tr>\n",
       "      <th>EMEA</th>\n",
       "      <td>0.462820</td>\n",
       "    </tr>\n",
       "    <tr>\n",
       "      <th>Japan</th>\n",
       "      <td>0.676810</td>\n",
       "    </tr>\n",
       "    <tr>\n",
       "      <th>Middle East</th>\n",
       "      <td>0.221477</td>\n",
       "    </tr>\n",
       "  </tbody>\n",
       "</table>\n",
       "</div>"
      ],
      "text/plain": [
       "             Aprobado\n",
       "Region               \n",
       "APAC         0.553691\n",
       "Americas     0.444896\n",
       "EMEA         0.462820\n",
       "Japan        0.676810\n",
       "Middle East  0.221477"
      ]
     },
     "execution_count": 79,
     "metadata": {},
     "output_type": "execute_result"
    }
   ],
   "source": [
    "grouped = datos[ ['Region', 'Aprobado'] ].groupby(\"Region\").mean()\n",
    "grouped"
   ]
  },
  {
   "cell_type": "code",
   "execution_count": null,
   "metadata": {
    "scrolled": true
   },
   "outputs": [],
   "source": []
  },
  {
   "cell_type": "code",
   "execution_count": 80,
   "metadata": {},
   "outputs": [],
   "source": [
    "saltos = np.linspace(0.3, 0.5,2 )\n",
    "colores = cmap(saltos)"
   ]
  },
  {
   "cell_type": "code",
   "execution_count": 81,
   "metadata": {
    "scrolled": false
   },
   "outputs": [
    {
     "data": {
      "image/png": "[encoded data removed]",
      "text/plain": [
       "<Figure size 720x720 with 6 Axes>"
      ]
     },
     "metadata": {},
     "output_type": "display_data"
    }
   ],
   "source": [
    "fig, axs = plt.subplots(2,3,figsize=(10,10))\n",
    "plt.subplots_adjust(hspace = 0.8)\n",
    "\n",
    "labels = ['Closed Won', 'Closed Lost']\n",
    "\n",
    "sizes = [grouped.iloc[0].values[0],\n",
    "        1 - grouped.iloc[0].values[0] ]\n",
    "    \n",
    "axs[0][0].pie(sizes, labels=labels, autopct='%1.1f%%', shadow=False, colors = colores)\n",
    "#axs[i].axis('equal')\n",
    "axs[0][0].set_title(grouped.index[0])\n",
    "\n",
    "sizes = [grouped.iloc[1].values[0],\n",
    "        1 - grouped.iloc[1].values[0] ]\n",
    "    \n",
    "axs[0][1].pie(sizes, labels=labels, autopct='%1.1f%%', shadow=False, colors = colores)\n",
    "#axs[i].axis('equal')\n",
    "axs[0][1].set_title(grouped.index[1])\n",
    "\n",
    "\n",
    "sizes = [grouped.iloc[2].values[0],\n",
    "        1 - grouped.iloc[2].values[0] ]\n",
    "    \n",
    "axs[0][2].pie(sizes, labels=labels, autopct='%1.1f%%', shadow=False, colors = colores)\n",
    "#axs[i].axis('equal')\n",
    "axs[0][2].set_title(grouped.index[2])\n",
    "\n",
    "\n",
    "sizes = [grouped.iloc[3].values[0],\n",
    "        1 - grouped.iloc[3].values[0] ]\n",
    "    \n",
    "axs[1][0].pie(sizes, labels=labels, autopct='%1.1f%%', shadow=False, colors = colores)\n",
    "#axs[i].axis('equal')\n",
    "axs[1][0].set_title(grouped.index[3])\n",
    "\n",
    "\n",
    "sizes = [grouped.iloc[4].values[0],\n",
    "        1 - grouped.iloc[4].values[0] ]\n",
    "    \n",
    "axs[1][2].pie(sizes, labels=labels, autopct='%1.1f%%', shadow=False, colors = colores)\n",
    "#axs[i].axis('equal')\n",
    "axs[1][2].set_title(grouped.index[4])\n",
    "\n",
    "axs[1][1].axis('off')\n",
    "\n",
    "fig.subplots_adjust(wspace=0.05, hspace=0.05)\n",
    "fig.suptitle(\"Final state of stage in Region\" )\n",
    "\n",
    "\n",
    "plt.show()\n"
   ]
  },
  {
   "cell_type": "markdown",
   "metadata": {},
   "source": [
    "### Total taxable amount por region"
   ]
  },
  {
   "cell_type": "code",
   "execution_count": 82,
   "metadata": {
    "scrolled": true
   },
   "outputs": [],
   "source": [
    "datos_short = datos[['Region','Total_Taxable_Amount', 'Total_Taxable_Amount_Currency']]"
   ]
  },
  {
   "cell_type": "markdown",
   "metadata": {},
   "source": [
    "### Paso todo a USD al cambio del 15/11/2020"
   ]
  },
  {
   "cell_type": "code",
   "execution_count": 83,
   "metadata": {
    "scrolled": false
   },
   "outputs": [
    {
     "data": {
      "text/plain": [
       "USD    4785\n",
       "EUR    3135\n",
       "JPY    1605\n",
       "AUD     315\n",
       "GBP       1\n",
       "Name: Total_Taxable_Amount_Currency, dtype: int64"
      ]
     },
     "execution_count": 83,
     "metadata": {},
     "output_type": "execute_result"
    }
   ],
   "source": [
    "datos_short['Total_Taxable_Amount_Currency'].value_counts()"
   ]
  },
  {
   "cell_type": "code",
   "execution_count": 84,
   "metadata": {},
   "outputs": [],
   "source": [
    "### Me quedo con un elemento por cada operacion."
   ]
  },
  {
   "cell_type": "code",
   "execution_count": 85,
   "metadata": {},
   "outputs": [
    {
     "data": {
      "text/html": [
       "<div>\n",
       "<style scoped>\n",
       "    .dataframe tbody tr th:only-of-type {\n",
       "        vertical-align: middle;\n",
       "    }\n",
       "\n",
       "    .dataframe tbody tr th {\n",
       "        vertical-align: top;\n",
       "    }\n",
       "\n",
       "    .dataframe thead th {\n",
       "        text-align: right;\n",
       "    }\n",
       "</style>\n",
       "<table border=\"1\" class=\"dataframe\">\n",
       "  <thead>\n",
       "    <tr style=\"text-align: right;\">\n",
       "      <th></th>\n",
       "      <th>Region</th>\n",
       "      <th>Total_Taxable_Amount</th>\n",
       "      <th>Total_Taxable_Amount_Currency</th>\n",
       "    </tr>\n",
       "  </thead>\n",
       "  <tbody>\n",
       "    <tr>\n",
       "      <th>0</th>\n",
       "      <td>EMEA</td>\n",
       "      <td>5272800.0</td>\n",
       "      <td>EUR</td>\n",
       "    </tr>\n",
       "    <tr>\n",
       "      <th>1</th>\n",
       "      <td>EMEA</td>\n",
       "      <td>48230.0</td>\n",
       "      <td>EUR</td>\n",
       "    </tr>\n",
       "    <tr>\n",
       "      <th>2</th>\n",
       "      <td>Americas</td>\n",
       "      <td>83865.6</td>\n",
       "      <td>USD</td>\n",
       "    </tr>\n",
       "    <tr>\n",
       "      <th>3</th>\n",
       "      <td>Americas</td>\n",
       "      <td>7421881.5</td>\n",
       "      <td>USD</td>\n",
       "    </tr>\n",
       "    <tr>\n",
       "      <th>4</th>\n",
       "      <td>Americas</td>\n",
       "      <td>13357192.5</td>\n",
       "      <td>USD</td>\n",
       "    </tr>\n",
       "    <tr>\n",
       "      <th>...</th>\n",
       "      <td>...</td>\n",
       "      <td>...</td>\n",
       "      <td>...</td>\n",
       "    </tr>\n",
       "    <tr>\n",
       "      <th>16939</th>\n",
       "      <td>EMEA</td>\n",
       "      <td>401700.0</td>\n",
       "      <td>EUR</td>\n",
       "    </tr>\n",
       "    <tr>\n",
       "      <th>16940</th>\n",
       "      <td>Americas</td>\n",
       "      <td>21332500.0</td>\n",
       "      <td>USD</td>\n",
       "    </tr>\n",
       "    <tr>\n",
       "      <th>16942</th>\n",
       "      <td>EMEA</td>\n",
       "      <td>299715.0</td>\n",
       "      <td>EUR</td>\n",
       "    </tr>\n",
       "    <tr>\n",
       "      <th>16945</th>\n",
       "      <td>Americas</td>\n",
       "      <td>0.0</td>\n",
       "      <td>USD</td>\n",
       "    </tr>\n",
       "    <tr>\n",
       "      <th>16946</th>\n",
       "      <td>Americas</td>\n",
       "      <td>0.0</td>\n",
       "      <td>USD</td>\n",
       "    </tr>\n",
       "  </tbody>\n",
       "</table>\n",
       "<p>9841 rows × 3 columns</p>\n",
       "</div>"
      ],
      "text/plain": [
       "         Region  Total_Taxable_Amount Total_Taxable_Amount_Currency\n",
       "0          EMEA             5272800.0                           EUR\n",
       "1          EMEA               48230.0                           EUR\n",
       "2      Americas               83865.6                           USD\n",
       "3      Americas             7421881.5                           USD\n",
       "4      Americas            13357192.5                           USD\n",
       "...         ...                   ...                           ...\n",
       "16939      EMEA              401700.0                           EUR\n",
       "16940  Americas            21332500.0                           USD\n",
       "16942      EMEA              299715.0                           EUR\n",
       "16945  Americas                   0.0                           USD\n",
       "16946  Americas                   0.0                           USD\n",
       "\n",
       "[9841 rows x 3 columns]"
      ]
     },
     "execution_count": 85,
     "metadata": {},
     "output_type": "execute_result"
    }
   ],
   "source": [
    "datos_short"
   ]
  },
  {
   "cell_type": "code",
   "execution_count": 86,
   "metadata": {},
   "outputs": [],
   "source": [
    "def cambio(x):\n",
    "    currency = x['Total_Taxable_Amount_Currency']\n",
    "    amount = x['Total_Taxable_Amount']\n",
    "    if currency == 'USD':\n",
    "        return (amount)/1000000\n",
    "    if currency == 'JPY':\n",
    "        return (amount*0.0096)/1000000\n",
    "    if currency == 'EUR':\n",
    "        return (amount*1.18)/1000000\n",
    "    if currency == 'AUD':\n",
    "        return (amount*0.73)/1000000\n",
    "    if currency == 'GBP':\n",
    "        return (amount*1.29483)/1000000"
   ]
  },
  {
   "cell_type": "code",
   "execution_count": 87,
   "metadata": {
    "scrolled": false
   },
   "outputs": [
    {
     "name": "stderr",
     "output_type": "stream",
     "text": [
      "/home/riedel/anaconda3/lib/python3.7/site-packages/ipykernel_launcher.py:1: SettingWithCopyWarning: \n",
      "A value is trying to be set on a copy of a slice from a DataFrame.\n",
      "Try using .loc[row_indexer,col_indexer] = value instead\n",
      "\n",
      "See the caveats in the documentation: https://pandas.pydata.org/pandas-docs/stable/user_guide/indexing.html#returning-a-view-versus-a-copy\n",
      "  \"\"\"Entry point for launching an IPython kernel.\n"
     ]
    }
   ],
   "source": [
    "datos_short['Total_Taxable_Amount_MILL_USD'] = datos_short.apply(cambio, axis=1)"
   ]
  },
  {
   "cell_type": "code",
   "execution_count": 88,
   "metadata": {},
   "outputs": [],
   "source": [
    "datos_short = datos_short[ ['Region', 'Total_Taxable_Amount_MILL_USD'] ]"
   ]
  },
  {
   "cell_type": "code",
   "execution_count": 89,
   "metadata": {
    "scrolled": true
   },
   "outputs": [
    {
     "data": {
      "text/html": [
       "<div>\n",
       "<style scoped>\n",
       "    .dataframe tbody tr th:only-of-type {\n",
       "        vertical-align: middle;\n",
       "    }\n",
       "\n",
       "    .dataframe tbody tr th {\n",
       "        vertical-align: top;\n",
       "    }\n",
       "\n",
       "    .dataframe thead th {\n",
       "        text-align: right;\n",
       "    }\n",
       "</style>\n",
       "<table border=\"1\" class=\"dataframe\">\n",
       "  <thead>\n",
       "    <tr style=\"text-align: right;\">\n",
       "      <th></th>\n",
       "      <th>Total_Taxable_Amount_MILL_USD</th>\n",
       "    </tr>\n",
       "    <tr>\n",
       "      <th>Region</th>\n",
       "      <th></th>\n",
       "    </tr>\n",
       "  </thead>\n",
       "  <tbody>\n",
       "    <tr>\n",
       "      <th>APAC</th>\n",
       "      <td>1.803122</td>\n",
       "    </tr>\n",
       "    <tr>\n",
       "      <th>Americas</th>\n",
       "      <td>2.171713</td>\n",
       "    </tr>\n",
       "    <tr>\n",
       "      <th>EMEA</th>\n",
       "      <td>1.482286</td>\n",
       "    </tr>\n",
       "    <tr>\n",
       "      <th>Japan</th>\n",
       "      <td>0.212174</td>\n",
       "    </tr>\n",
       "    <tr>\n",
       "      <th>Middle East</th>\n",
       "      <td>2.012382</td>\n",
       "    </tr>\n",
       "  </tbody>\n",
       "</table>\n",
       "</div>"
      ],
      "text/plain": [
       "             Total_Taxable_Amount_MILL_USD\n",
       "Region                                    \n",
       "APAC                              1.803122\n",
       "Americas                          2.171713\n",
       "EMEA                              1.482286\n",
       "Japan                             0.212174\n",
       "Middle East                       2.012382"
      ]
     },
     "execution_count": 89,
     "metadata": {},
     "output_type": "execute_result"
    }
   ],
   "source": [
    "grouped = datos_short.groupby('Region').mean()\n",
    "grouped"
   ]
  },
  {
   "cell_type": "code",
   "execution_count": 90,
   "metadata": {},
   "outputs": [
    {
     "data": {
      "text/plain": [
       "Index(['Total_Taxable_Amount_MILL_USD'], dtype='object')"
      ]
     },
     "execution_count": 90,
     "metadata": {},
     "output_type": "execute_result"
    }
   ],
   "source": [
    "grouped.columns"
   ]
  },
  {
   "cell_type": "code",
   "execution_count": 91,
   "metadata": {},
   "outputs": [],
   "source": [
    "grouped.columns = ['Total_Taxable_Amount_Mean']"
   ]
  },
  {
   "cell_type": "code",
   "execution_count": 92,
   "metadata": {
    "scrolled": true
   },
   "outputs": [
    {
     "data": {
      "text/html": [
       "<div>\n",
       "<style scoped>\n",
       "    .dataframe tbody tr th:only-of-type {\n",
       "        vertical-align: middle;\n",
       "    }\n",
       "\n",
       "    .dataframe tbody tr th {\n",
       "        vertical-align: top;\n",
       "    }\n",
       "\n",
       "    .dataframe thead th {\n",
       "        text-align: right;\n",
       "    }\n",
       "</style>\n",
       "<table border=\"1\" class=\"dataframe\">\n",
       "  <thead>\n",
       "    <tr style=\"text-align: right;\">\n",
       "      <th></th>\n",
       "      <th>Total_Taxable_Amount_Mean</th>\n",
       "    </tr>\n",
       "    <tr>\n",
       "      <th>Region</th>\n",
       "      <th></th>\n",
       "    </tr>\n",
       "  </thead>\n",
       "  <tbody>\n",
       "    <tr>\n",
       "      <th>APAC</th>\n",
       "      <td>1.803122</td>\n",
       "    </tr>\n",
       "    <tr>\n",
       "      <th>Americas</th>\n",
       "      <td>2.171713</td>\n",
       "    </tr>\n",
       "    <tr>\n",
       "      <th>EMEA</th>\n",
       "      <td>1.482286</td>\n",
       "    </tr>\n",
       "    <tr>\n",
       "      <th>Japan</th>\n",
       "      <td>0.212174</td>\n",
       "    </tr>\n",
       "    <tr>\n",
       "      <th>Middle East</th>\n",
       "      <td>2.012382</td>\n",
       "    </tr>\n",
       "  </tbody>\n",
       "</table>\n",
       "</div>"
      ],
      "text/plain": [
       "             Total_Taxable_Amount_Mean\n",
       "Region                                \n",
       "APAC                          1.803122\n",
       "Americas                      2.171713\n",
       "EMEA                          1.482286\n",
       "Japan                         0.212174\n",
       "Middle East                   2.012382"
      ]
     },
     "execution_count": 92,
     "metadata": {},
     "output_type": "execute_result"
    }
   ],
   "source": [
    "grouped"
   ]
  },
  {
   "cell_type": "code",
   "execution_count": 93,
   "metadata": {
    "scrolled": true
   },
   "outputs": [
    {
     "data": {
      "text/html": [
       "<div>\n",
       "<style scoped>\n",
       "    .dataframe tbody tr th:only-of-type {\n",
       "        vertical-align: middle;\n",
       "    }\n",
       "\n",
       "    .dataframe tbody tr th {\n",
       "        vertical-align: top;\n",
       "    }\n",
       "\n",
       "    .dataframe thead th {\n",
       "        text-align: right;\n",
       "    }\n",
       "</style>\n",
       "<table border=\"1\" class=\"dataframe\">\n",
       "  <thead>\n",
       "    <tr style=\"text-align: right;\">\n",
       "      <th></th>\n",
       "      <th>Region</th>\n",
       "      <th>Total_Taxable_Amount_Mean</th>\n",
       "    </tr>\n",
       "  </thead>\n",
       "  <tbody>\n",
       "    <tr>\n",
       "      <th>0</th>\n",
       "      <td>APAC</td>\n",
       "      <td>1.803122</td>\n",
       "    </tr>\n",
       "    <tr>\n",
       "      <th>1</th>\n",
       "      <td>Americas</td>\n",
       "      <td>2.171713</td>\n",
       "    </tr>\n",
       "    <tr>\n",
       "      <th>2</th>\n",
       "      <td>EMEA</td>\n",
       "      <td>1.482286</td>\n",
       "    </tr>\n",
       "    <tr>\n",
       "      <th>3</th>\n",
       "      <td>Japan</td>\n",
       "      <td>0.212174</td>\n",
       "    </tr>\n",
       "    <tr>\n",
       "      <th>4</th>\n",
       "      <td>Middle East</td>\n",
       "      <td>2.012382</td>\n",
       "    </tr>\n",
       "  </tbody>\n",
       "</table>\n",
       "</div>"
      ],
      "text/plain": [
       "        Region  Total_Taxable_Amount_Mean\n",
       "0         APAC                   1.803122\n",
       "1     Americas                   2.171713\n",
       "2         EMEA                   1.482286\n",
       "3        Japan                   0.212174\n",
       "4  Middle East                   2.012382"
      ]
     },
     "execution_count": 93,
     "metadata": {},
     "output_type": "execute_result"
    }
   ],
   "source": [
    "grouped = grouped.reset_index()\n",
    "grouped"
   ]
  },
  {
   "cell_type": "code",
   "execution_count": 94,
   "metadata": {},
   "outputs": [],
   "source": [
    "saltos = np.linspace(0.7, 0.7,1 )\n",
    "colores = cmap(saltos)"
   ]
  },
  {
   "cell_type": "code",
   "execution_count": 95,
   "metadata": {
    "scrolled": false
   },
   "outputs": [
    {
     "data": {
      "text/plain": [
       "Text(0.5, 0, '(Millons of USD)')"
      ]
     },
     "execution_count": 95,
     "metadata": {},
     "output_type": "execute_result"
    },
    {
     "data": {
      "image/png": "[encoded data removed]",
      "text/plain": [
       "<Figure size 1152x576 with 1 Axes>"
      ]
     },
     "metadata": {},
     "output_type": "display_data"
    }
   ],
   "source": [
    "\n",
    "ordered_df = grouped.sort_values(by='Total_Taxable_Amount_Mean')\n",
    "my_range= range(1,len(ordered_df.index)+1)\n",
    "plt.figure(figsize=(16,8))\n",
    "import seaborn as sns\n",
    "plt.hlines(y=my_range, xmin=0, xmax=ordered_df['Total_Taxable_Amount_Mean'], color=colores)\n",
    "plt.plot(ordered_df['Total_Taxable_Amount_Mean'], my_range, \"o\")\n",
    " \n",
    "\n",
    "plt.yticks(my_range, ordered_df['Region'], size = 16)\n",
    "plt.xticks( np.arange(0, 2.6, 0.2) ) \n",
    "\n",
    "plt.title(\"Mean of taxable amount per Region\", loc='center', size = 18)\n",
    "plt.xlabel('(Millons of USD)', size = 16)\n",
    " "
   ]
  },
  {
   "cell_type": "code",
   "execution_count": null,
   "metadata": {},
   "outputs": [],
   "source": []
  }
 ],
 "metadata": {
  "kernelspec": {
   "display_name": "Python 3",
   "language": "python",
   "name": "python3"
  },
  "language_info": {
   "codemirror_mode": {
    "name": "ipython",
    "version": 3
   },
   "file_extension": ".py",
   "mimetype": "text/x-python",
   "name": "python",
   "nbconvert_exporter": "python",
   "pygments_lexer": "ipython3",
   "version": "3.7.6"
  }
 },
 "nbformat": 4,
 "nbformat_minor": 4
}
