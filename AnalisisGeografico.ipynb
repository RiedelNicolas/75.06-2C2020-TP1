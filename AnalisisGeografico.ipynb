{
 "cells": [
  {
   "cell_type": "code",
   "execution_count": 1,
   "metadata": {},
   "outputs": [],
   "source": [
    "import pandas as pd\n",
    "import numpy as np\n",
    "import matplotlib.pyplot as plt\n",
    "import seaborn as sns\n",
    "import matplotlib.cm as cm\n",
    "import matplotlib as mpl"
   ]
  },
  {
   "cell_type": "code",
   "execution_count": 2,
   "metadata": {},
   "outputs": [],
   "source": [
    "#### Primero filtramos las columnas que no tienen peso. Ya sea porque son"
   ]
  },
  {
   "cell_type": "code",
   "execution_count": 3,
   "metadata": {},
   "outputs": [],
   "source": [
    "def imprimir_proporciones_none(dataframe):\n",
    "    aux=0\n",
    "    for i in range(0, len(datos.columns)):\n",
    "        print(\"Columna: \" + datos.columns[i])\n",
    "        aux = datos[datos.columns[i]].value_counts()\n",
    "        if \"None\" in aux.index:\n",
    "            print(\"Hay \" + aux[\"None\"].astype(str) + \" None\")\n",
    "            print(\"El porcentaje de None es: \" + (aux[\"None\"]*100/aux.sum()).astype(str) + \"%\")\n",
    "        else:\n",
    "            print(\"No hay None\")\n",
    "        print(\"\")\n",
    "\n",
    "def filtrar_columnas_nulas(dataframe):\n",
    "    aux = 0\n",
    "    ret_list = []\n",
    "    for i in range(0, len(dataframe.columns)):\n",
    "        aux = datos[dataframe.columns[i]].value_counts()\n",
    "        if \"None\" in aux.index:\n",
    "            if aux[\"None\"]==len(dataframe):\n",
    "                print(dataframe.columns[i])\n",
    "                continue\n",
    "        ret_list.append(dataframe.columns[i])\n",
    "    return ret_list\n",
    "\n",
    "def columnas_invariantes(dataframe):\n",
    "    for i in range(0,len(dataframe.columns)):\n",
    "        if (len(dataframe[dataframe.columns[i]].value_counts())==1):\n",
    "            print(\"La columna \" + dataframe.columns[i] + \" tiene un solo dato\")\n",
    "            print(\"\")"
   ]
  },
  {
   "cell_type": "code",
   "execution_count": 4,
   "metadata": {},
   "outputs": [
    {
     "name": "stdout",
     "output_type": "stream",
     "text": [
      "Last_Activity\n",
      "Actual_Delivery_Date\n",
      "Columna: ID\n",
      "No hay None\n",
      "\n",
      "Columna: Region\n",
      "No hay None\n",
      "\n",
      "Columna: Territory\n",
      "Hay 4999 None\n",
      "El porcentaje de None es: 29.497846226470763%\n",
      "\n",
      "Columna: Pricing, Delivery_Terms_Quote_Appr\n",
      "No hay None\n",
      "\n",
      "Columna: Pricing, Delivery_Terms_Approved\n",
      "No hay None\n",
      "\n",
      "Columna: Bureaucratic_Code_0_Approval\n",
      "No hay None\n",
      "\n",
      "Columna: Bureaucratic_Code_0_Approved\n",
      "No hay None\n",
      "\n",
      "Columna: Submitted_for_Approval\n",
      "No hay None\n",
      "\n",
      "Columna: Bureaucratic_Code\n",
      "No hay None\n",
      "\n",
      "Columna: Account_Created_Date\n",
      "No hay None\n",
      "\n",
      "Columna: Source\n",
      "Hay 9497 None\n",
      "El porcentaje de None es: 56.039417005959756%\n",
      "\n",
      "Columna: Billing_Country\n",
      "Hay 27 None\n",
      "El porcentaje de None es: 0.15932023366967604%\n",
      "\n",
      "Columna: Account_Name\n",
      "No hay None\n",
      "\n",
      "Columna: Opportunity_Name\n",
      "No hay None\n",
      "\n",
      "Columna: Opportunity_ID\n",
      "No hay None\n",
      "\n",
      "Columna: Sales_Contract_No\n",
      "Hay 6973 None\n",
      "El porcentaje de None es: 41.145925532542634%\n",
      "\n",
      "Columna: Account_Owner\n",
      "No hay None\n",
      "\n",
      "Columna: Opportunity_Owner\n",
      "No hay None\n",
      "\n",
      "Columna: Account_Type\n",
      "Hay 112 None\n",
      "El porcentaje de None es: 0.6608839322593969%\n",
      "\n",
      "Columna: Opportunity_Type\n",
      "No hay None\n",
      "\n",
      "Columna: Quote_Type\n",
      "No hay None\n",
      "\n",
      "Columna: Delivery_Terms\n",
      "No hay None\n",
      "\n",
      "Columna: Opportunity_Created_Date\n",
      "No hay None\n",
      "\n",
      "Columna: Brand\n",
      "Hay 15911 None\n",
      "El porcentaje de None es: 93.88682362660057%\n",
      "\n",
      "Columna: Product_Type\n",
      "Hay 15935 None\n",
      "El porcentaje de None es: 94.02844161208473%\n",
      "\n",
      "Columna: Size\n",
      "Hay 15967 None\n",
      "El porcentaje de None es: 94.21726559273027%\n",
      "\n",
      "Columna: Product_Category_B\n",
      "Hay 15928 None\n",
      "El porcentaje de None es: 93.98713636631852%\n",
      "\n",
      "Columna: Price\n",
      "No hay None\n",
      "\n",
      "Columna: Currency\n",
      "Hay 16052 None\n",
      "El porcentaje de None es: 94.71882929131999%\n",
      "\n",
      "Columna: Quote_Expiry_Date\n",
      "No hay None\n",
      "\n",
      "Columna: Last_Modified_Date\n",
      "No hay None\n",
      "\n",
      "Columna: Last_Modified_By\n",
      "No hay None\n",
      "\n",
      "Columna: Product_Family\n",
      "No hay None\n",
      "\n",
      "Columna: Product_Name\n",
      "No hay None\n",
      "\n",
      "Columna: ASP_Currency\n",
      "No hay None\n",
      "\n",
      "Columna: ASP\n",
      "No hay None\n",
      "\n",
      "Columna: ASP_(converted)_Currency\n",
      "No hay None\n",
      "\n",
      "Columna: ASP_(converted)\n",
      "No hay None\n",
      "\n",
      "Columna: Planned_Delivery_Start_Date\n",
      "No hay None\n",
      "\n",
      "Columna: Planned_Delivery_End_Date\n",
      "Hay 75 None\n",
      "El porcentaje de None es: 0.442556204637989%\n",
      "\n",
      "Columna: Month\n",
      "No hay None\n",
      "\n",
      "Columna: Delivery_Quarter\n",
      "No hay None\n",
      "\n",
      "Columna: Delivery_Year\n",
      "No hay None\n",
      "\n",
      "Columna: TRF\n",
      "No hay None\n",
      "\n",
      "Columna: Total_Amount_Currency\n",
      "No hay None\n",
      "\n",
      "Columna: Total_Amount\n",
      "No hay None\n",
      "\n",
      "Columna: Total_Taxable_Amount_Currency\n",
      "No hay None\n",
      "\n",
      "Columna: Total_Taxable_Amount\n",
      "No hay None\n",
      "\n",
      "Columna: Stage\n",
      "No hay None\n",
      "\n",
      "Columna: Prod_Category_A\n",
      "No hay None\n",
      "\n",
      "La columna Submitted_for_Approval tiene un solo dato\n",
      "\n",
      "La columna ASP_(converted)_Currency tiene un solo dato\n",
      "\n",
      "La columna Prod_Category_A tiene un solo dato\n",
      "\n"
     ]
    }
   ],
   "source": [
    "datos_csv = pd.read_csv(\"Entrenamieto_ECI_2020.csv\")\n",
    "datos = datos_csv.replace({\"NaT\":\"None\", \"nan\":\"None\", \"NaN\":\"None\"})\n",
    "\n",
    "datos = datos[filtrar_columnas_nulas(datos)]\n",
    "datos[\"Price\"] = pd.to_numeric(datos[\"Price\"], errors=\"coerce\")\n",
    "datos[\"Quote_Expiry_Date\"] = pd.to_numeric(datos[\"Price\"], errors=\"coerce\")\n",
    "datos[\"Last_Modified_Date\"] = pd.to_numeric(datos[\"Price\"], errors=\"coerce\")\n",
    "#datos[\"Actual_Delivery_Date\"] = pd.to_numeric(datos[\"Actual_Delivery_Date\"], errors=\"coerce\")\n",
    "\n",
    "imprimir_proporciones_none(datos)    \n",
    "columnas_invariantes(datos)"
   ]
  },
  {
   "cell_type": "code",
   "execution_count": 5,
   "metadata": {
    "scrolled": true
   },
   "outputs": [
    {
     "name": "stdout",
     "output_type": "stream",
     "text": [
      "<class 'pandas.core.frame.DataFrame'>\n",
      "RangeIndex: 16947 entries, 0 to 16946\n",
      "Data columns (total 50 columns):\n",
      " #   Column                              Non-Null Count  Dtype  \n",
      "---  ------                              --------------  -----  \n",
      " 0   ID                                  16947 non-null  int64  \n",
      " 1   Region                              16947 non-null  object \n",
      " 2   Territory                           16947 non-null  object \n",
      " 3   Pricing, Delivery_Terms_Quote_Appr  16947 non-null  int64  \n",
      " 4   Pricing, Delivery_Terms_Approved    16947 non-null  int64  \n",
      " 5   Bureaucratic_Code_0_Approval        16947 non-null  int64  \n",
      " 6   Bureaucratic_Code_0_Approved        16947 non-null  int64  \n",
      " 7   Submitted_for_Approval              16947 non-null  int64  \n",
      " 8   Bureaucratic_Code                   16947 non-null  object \n",
      " 9   Account_Created_Date                16947 non-null  object \n",
      " 10  Source                              16947 non-null  object \n",
      " 11  Billing_Country                     16947 non-null  object \n",
      " 12  Account_Name                        16947 non-null  object \n",
      " 13  Opportunity_Name                    16947 non-null  object \n",
      " 14  Opportunity_ID                      16947 non-null  int64  \n",
      " 15  Sales_Contract_No                   16947 non-null  object \n",
      " 16  Account_Owner                       16947 non-null  object \n",
      " 17  Opportunity_Owner                   16947 non-null  object \n",
      " 18  Account_Type                        16947 non-null  object \n",
      " 19  Opportunity_Type                    16947 non-null  object \n",
      " 20  Quote_Type                          16947 non-null  object \n",
      " 21  Delivery_Terms                      16947 non-null  object \n",
      " 22  Opportunity_Created_Date            16947 non-null  object \n",
      " 23  Brand                               16947 non-null  object \n",
      " 24  Product_Type                        16947 non-null  object \n",
      " 25  Size                                16947 non-null  object \n",
      " 26  Product_Category_B                  16947 non-null  object \n",
      " 27  Price                               356 non-null    float64\n",
      " 28  Currency                            16947 non-null  object \n",
      " 29  Quote_Expiry_Date                   356 non-null    float64\n",
      " 30  Last_Modified_Date                  356 non-null    float64\n",
      " 31  Last_Modified_By                    16947 non-null  object \n",
      " 32  Product_Family                      16947 non-null  object \n",
      " 33  Product_Name                        16947 non-null  object \n",
      " 34  ASP_Currency                        16947 non-null  object \n",
      " 35  ASP                                 13738 non-null  float64\n",
      " 36  ASP_(converted)_Currency            16947 non-null  object \n",
      " 37  ASP_(converted)                     13738 non-null  float64\n",
      " 38  Planned_Delivery_Start_Date         16947 non-null  object \n",
      " 39  Planned_Delivery_End_Date           16947 non-null  object \n",
      " 40  Month                               16947 non-null  object \n",
      " 41  Delivery_Quarter                    16947 non-null  object \n",
      " 42  Delivery_Year                       16947 non-null  int64  \n",
      " 43  TRF                                 16947 non-null  int64  \n",
      " 44  Total_Amount_Currency               16947 non-null  object \n",
      " 45  Total_Amount                        16888 non-null  float64\n",
      " 46  Total_Taxable_Amount_Currency       16947 non-null  object \n",
      " 47  Total_Taxable_Amount                16947 non-null  float64\n",
      " 48  Stage                               16947 non-null  object \n",
      " 49  Prod_Category_A                     16947 non-null  object \n",
      "dtypes: float64(7), int64(9), object(34)\n",
      "memory usage: 6.5+ MB\n"
     ]
    }
   ],
   "source": [
    "datos.info()"
   ]
  },
  {
   "cell_type": "markdown",
   "metadata": {},
   "source": [
    "### En este notebook vamos a analizar geografia."
   ]
  },
  {
   "cell_type": "code",
   "execution_count": 6,
   "metadata": {
    "scrolled": false
   },
   "outputs": [
    {
     "data": {
      "text/plain": [
       "Japan          4892\n",
       "EMEA           4664\n",
       "Americas       3945\n",
       "APAC           3262\n",
       "Middle East     184\n",
       "Name: Region, dtype: int64"
      ]
     },
     "execution_count": 6,
     "metadata": {},
     "output_type": "execute_result"
    }
   ],
   "source": [
    "datos['Region'].value_counts()"
   ]
  },
  {
   "cell_type": "code",
   "execution_count": 7,
   "metadata": {
    "scrolled": true
   },
   "outputs": [
    {
     "data": {
      "text/plain": [
       "[Text(0, 0.5, 'Apariciones'), Text(0.5, 0, 'Region')]"
      ]
     },
     "execution_count": 7,
     "metadata": {},
     "output_type": "execute_result"
    },
    {
     "data": {
      "image/png": "[encoded data removed]",
      "text/plain": [
       "<Figure size 432x288 with 1 Axes>"
      ]
     },
     "metadata": {
      "needs_background": "light"
     },
     "output_type": "display_data"
    }
   ],
   "source": [
    "regiones = datos['Region'].value_counts()\n",
    "\n",
    "ax = sns.barplot(x=regiones.index, y=regiones.values,\n",
    "                 palette=\"Blues_d\")\n",
    "ax.set(xlabel='Region', ylabel='Apariciones')\n",
    "\n",
    "#ax = sns.countplot(x=\"Region\", data=datos)"
   ]
  },
  {
   "cell_type": "code",
   "execution_count": 8,
   "metadata": {},
   "outputs": [
    {
     "data": {
      "text/plain": [
       "[Text(0, 0, 'None'),\n",
       " Text(0, 0, 'Germany'),\n",
       " Text(0, 0, 'NW America'),\n",
       " Text(0, 0, 'Australia'),\n",
       " Text(0, 0, 'India'),\n",
       " Text(0, 0, 'NE America'),\n",
       " Text(0, 0, 'Japan'),\n",
       " Text(0, 0, 'Netherlands'),\n",
       " Text(0, 0, 'SE America'),\n",
       " Text(0, 0, 'France'),\n",
       " Text(0, 0, 'Singapore'),\n",
       " Text(0, 0, 'United Kingdom'),\n",
       " Text(0, 0, 'Belgium'),\n",
       " Text(0, 0, 'Italy'),\n",
       " Text(0, 0, 'Spain')]"
      ]
     },
     "execution_count": 8,
     "metadata": {},
     "output_type": "execute_result"
    },
    {
     "data": {
      "image/png": "[encoded data removed]",
      "text/plain": [
       "<Figure size 432x288 with 1 Axes>"
      ]
     },
     "metadata": {
      "needs_background": "light"
     },
     "output_type": "display_data"
    }
   ],
   "source": [
    "territorios = datos['Territory'].value_counts().head(15)\n",
    "\n",
    "ax = sns.barplot(x=territorios.index, y=territorios.values,\n",
    "                 palette=\"Blues_d\")\n",
    "ax.set(xlabel='15 most repeated territories', ylabel='Apariciones')\n",
    "ax.set_xticklabels(ax.get_xticklabels(), rotation=45)"
   ]
  },
  {
   "cell_type": "code",
   "execution_count": 9,
   "metadata": {},
   "outputs": [],
   "source": [
    "#### En este ultimo grafico tenemos algo interesante, gran parte de los territorios son NONE."
   ]
  },
  {
   "cell_type": "code",
   "execution_count": 10,
   "metadata": {},
   "outputs": [
    {
     "data": {
      "text/plain": [
       "None              4999\n",
       "Germany           1682\n",
       "NW America        1568\n",
       "Australia         1208\n",
       "India              809\n",
       "NE America         760\n",
       "Japan              681\n",
       "Netherlands        533\n",
       "SE America         493\n",
       "France             449\n",
       "Singapore          441\n",
       "United Kingdom     313\n",
       "Belgium            285\n",
       "Italy              283\n",
       "Spain              268\n",
       "Name: Territory, dtype: int64"
      ]
     },
     "execution_count": 10,
     "metadata": {},
     "output_type": "execute_result"
    }
   ],
   "source": [
    "territorios"
   ]
  },
  {
   "cell_type": "code",
   "execution_count": 11,
   "metadata": {},
   "outputs": [
    {
     "data": {
      "text/plain": [
       "4999"
      ]
     },
     "execution_count": 11,
     "metadata": {},
     "output_type": "execute_result"
    }
   ],
   "source": [
    "territorios['None']"
   ]
  },
  {
   "cell_type": "code",
   "execution_count": 12,
   "metadata": {},
   "outputs": [
    {
     "ename": "NameError",
     "evalue": "name 'le' is not defined",
     "output_type": "error",
     "traceback": [
      "\u001b[0;31m----------------------------------------------------------------------\u001b[0m",
      "\u001b[0;31mNameError\u001b[0m                            Traceback (most recent call last)",
      "\u001b[0;32m<ipython-input-12-286ef15a1c47>\u001b[0m in \u001b[0;36m<module>\u001b[0;34m\u001b[0m\n\u001b[0;32m----> 1\u001b[0;31m \u001b[0mle\u001b[0m\u001b[0;34m\u001b[0m\u001b[0;34m\u001b[0m\u001b[0m\n\u001b[0m",
      "\u001b[0;31mNameError\u001b[0m: name 'le' is not defined"
     ]
    }
   ],
   "source": []
  },
  {
   "cell_type": "code",
   "execution_count": null,
   "metadata": {},
   "outputs": [],
   "source": [
    "territorios.sum"
   ]
  },
  {
   "cell_type": "code",
   "execution_count": null,
   "metadata": {},
   "outputs": [],
   "source": [
    "labels = ['None', 'Teritorio Valido']\n",
    "territorios = datos['Territory'].value_counts()\n",
    "\n",
    "sizes = [datos['Territory'].value_counts()['None'],\n",
    "        len(datos['Territory']) - datos['Territory'].value_counts()['None'] ]\n",
    "fig1, ax1 = plt.subplots()\n",
    "ax1.pie(sizes, labels=labels, autopct='%1.1f%%', shadow=False)\n",
    "ax1.axis('equal')\n",
    "plt.show()"
   ]
  },
  {
   "cell_type": "markdown",
   "metadata": {},
   "source": [
    "### Ahora quiero las regiones con mayor ratio de aprobacion."
   ]
  },
  {
   "cell_type": "code",
   "execution_count": null,
   "metadata": {},
   "outputs": [],
   "source": [
    "aprobados = datos['Stage'] == \"Closed Won\""
   ]
  },
  {
   "cell_type": "code",
   "execution_count": null,
   "metadata": {},
   "outputs": [],
   "source": []
  }
 ],
 "metadata": {
  "kernelspec": {
   "display_name": "Python 3",
   "language": "python",
   "name": "python3"
  },
  "language_info": {
   "codemirror_mode": {
    "name": "ipython",
    "version": 3
   },
   "file_extension": ".py",
   "mimetype": "text/x-python",
   "name": "python",
   "nbconvert_exporter": "python",
   "pygments_lexer": "ipython3",
   "version": "3.7.6"
  }
 },
 "nbformat": 4,
 "nbformat_minor": 4
}
