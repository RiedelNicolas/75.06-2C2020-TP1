{
 "cells": [
  {
   "cell_type": "markdown",
   "source": [
    "Analizo relaciones entre region y territorio con distintos factores.\n",
    "En principio la idea es hacer un grafico orientado hacia el VisuChallenge\n",
    "donde la idea es dibujar las banderas para las regiones/territorios en donde\n",
    "cada punto es una oportunidad ganada, o sino hacer lo mismo pero haciendo\n",
    "los puntos sobre un MapaMundi (planisferio)."
   ],
   "metadata": {
    "collapsed": false,
    "pycharm": {
     "name": "#%% md\n"
    }
   }
  },
  {
   "cell_type": "code",
   "execution_count": 31,
   "outputs": [
    {
     "data": {
      "text/plain": "                             Stage      \n                              mean count\nRegion      Territory                   \nAPAC        Australia     0.663778   577\n            Burma         0.000000     1\n            Cambodia      0.500000     4\n            China (PRC)   0.865385    52\n            India         0.457227   678\n...                            ...   ...\nMiddle East Oman          0.000000     2\n            Pakistan      0.250000     4\n            Saudi Arabia  1.000000     1\n            UAE (Dubai)   0.125000    16\n            UAE (Others)  1.000000     2\n\n[84 rows x 2 columns]",
      "text/html": "<div>\n<style scoped>\n    .dataframe tbody tr th:only-of-type {\n        vertical-align: middle;\n    }\n\n    .dataframe tbody tr th {\n        vertical-align: top;\n    }\n\n    .dataframe thead tr th {\n        text-align: left;\n    }\n\n    .dataframe thead tr:last-of-type th {\n        text-align: right;\n    }\n</style>\n<table border=\"1\" class=\"dataframe\">\n  <thead>\n    <tr>\n      <th></th>\n      <th></th>\n      <th colspan=\"2\" halign=\"left\">Stage</th>\n    </tr>\n    <tr>\n      <th></th>\n      <th></th>\n      <th>mean</th>\n      <th>count</th>\n    </tr>\n    <tr>\n      <th>Region</th>\n      <th>Territory</th>\n      <th></th>\n      <th></th>\n    </tr>\n  </thead>\n  <tbody>\n    <tr>\n      <th rowspan=\"5\" valign=\"top\">APAC</th>\n      <th>Australia</th>\n      <td>0.663778</td>\n      <td>577</td>\n    </tr>\n    <tr>\n      <th>Burma</th>\n      <td>0.000000</td>\n      <td>1</td>\n    </tr>\n    <tr>\n      <th>Cambodia</th>\n      <td>0.500000</td>\n      <td>4</td>\n    </tr>\n    <tr>\n      <th>China (PRC)</th>\n      <td>0.865385</td>\n      <td>52</td>\n    </tr>\n    <tr>\n      <th>India</th>\n      <td>0.457227</td>\n      <td>678</td>\n    </tr>\n    <tr>\n      <th>...</th>\n      <th>...</th>\n      <td>...</td>\n      <td>...</td>\n    </tr>\n    <tr>\n      <th rowspan=\"5\" valign=\"top\">Middle East</th>\n      <th>Oman</th>\n      <td>0.000000</td>\n      <td>2</td>\n    </tr>\n    <tr>\n      <th>Pakistan</th>\n      <td>0.250000</td>\n      <td>4</td>\n    </tr>\n    <tr>\n      <th>Saudi Arabia</th>\n      <td>1.000000</td>\n      <td>1</td>\n    </tr>\n    <tr>\n      <th>UAE (Dubai)</th>\n      <td>0.125000</td>\n      <td>16</td>\n    </tr>\n    <tr>\n      <th>UAE (Others)</th>\n      <td>1.000000</td>\n      <td>2</td>\n    </tr>\n  </tbody>\n</table>\n<p>84 rows × 2 columns</p>\n</div>"
     },
     "execution_count": 31,
     "metadata": {},
     "output_type": "execute_result"
    }
   ],
   "source": [
    "import pandas as pd\n",
    "import seaborn as sns\n",
    "\n",
    "data = pd.read_csv('Entrenamieto_ECI_2020.csv')\n",
    "data.drop_duplicates(subset='Opportunity_ID', inplace=True)\n",
    "\n",
    "regions = data[['Region', 'Territory', 'Stage']]\n",
    "regions = regions[regions['Stage'].isin(['Closed Won', 'Closed Lost'])]\n",
    "regions.replace(['Closed Won', 'Closed Lost'], [1, 0], inplace=True)\n",
    "regionsStats = regions.groupby(['Region', 'Territory']).agg({'Stage':['mean', 'count']})\n",
    "\n",
    "regionsStats"
   ],
   "metadata": {
    "collapsed": false,
    "pycharm": {
     "name": "#%%\n"
    }
   }
  }
 ],
 "metadata": {
  "kernelspec": {
   "display_name": "Python 3",
   "language": "python",
   "name": "python3"
  },
  "language_info": {
   "codemirror_mode": {
    "name": "ipython",
    "version": 2
   },
   "file_extension": ".py",
   "mimetype": "text/x-python",
   "name": "python",
   "nbconvert_exporter": "python",
   "pygments_lexer": "ipython2",
   "version": "2.7.6"
  }
 },
 "nbformat": 4,
 "nbformat_minor": 0
}