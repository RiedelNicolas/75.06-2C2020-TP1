{
 "cells": [
  {
   "cell_type": "code",
   "execution_count": 1,
   "metadata": {},
   "outputs": [],
   "source": [
    "import pandas as pd\n",
    "import numpy as np\n",
    "import matplotlib.pyplot as plt\n",
    "import seaborn as sns"
   ]
  },
  {
   "cell_type": "code",
   "execution_count": 2,
   "metadata": {},
   "outputs": [],
   "source": [
    "opportunities = pd.read_csv(\"Entrenamieto_ECI_2020.csv\")"
   ]
  },
  {
   "cell_type": "code",
   "execution_count": 3,
   "metadata": {},
   "outputs": [
    {
     "data": {
      "text/html": [
       "<div>\n",
       "<style scoped>\n",
       "    .dataframe tbody tr th:only-of-type {\n",
       "        vertical-align: middle;\n",
       "    }\n",
       "\n",
       "    .dataframe tbody tr th {\n",
       "        vertical-align: top;\n",
       "    }\n",
       "\n",
       "    .dataframe thead th {\n",
       "        text-align: right;\n",
       "    }\n",
       "</style>\n",
       "<table border=\"1\" class=\"dataframe\">\n",
       "  <thead>\n",
       "    <tr style=\"text-align: right;\">\n",
       "      <th></th>\n",
       "      <th>Source</th>\n",
       "      <th>Total</th>\n",
       "    </tr>\n",
       "    <tr>\n",
       "      <th>Opportunity_ID</th>\n",
       "      <th></th>\n",
       "      <th></th>\n",
       "    </tr>\n",
       "  </thead>\n",
       "  <tbody>\n",
       "  </tbody>\n",
       "</table>\n",
       "</div>"
      ],
      "text/plain": [
       "Empty DataFrame\n",
       "Columns: [Source, Total]\n",
       "Index: []"
      ]
     },
     "execution_count": 3,
     "metadata": {},
     "output_type": "execute_result"
    }
   ],
   "source": [
    "sources = opportunities.groupby(\"Opportunity_ID\").agg({\"Source\":\"unique\"})\n",
    "sources[\"Total\"] = sources[\"Source\"].apply(lambda x: len(x))\n",
    "sources = sources[sources[\"Total\"] != 1]\n",
    "sources\n",
    "# VEO QUE TODAS LAS OPORTUNITIES TENGAN UN SOLO Source"
   ]
  },
  {
   "cell_type": "markdown",
   "metadata": {},
   "source": [
    "# Voy a ver la cantidad de veces que aparece cada Source"
   ]
  },
  {
   "cell_type": "code",
   "execution_count": 4,
   "metadata": {},
   "outputs": [
    {
     "data": {
      "text/html": [
       "<div>\n",
       "<style scoped>\n",
       "    .dataframe tbody tr th:only-of-type {\n",
       "        vertical-align: middle;\n",
       "    }\n",
       "\n",
       "    .dataframe tbody tr th {\n",
       "        vertical-align: top;\n",
       "    }\n",
       "\n",
       "    .dataframe thead th {\n",
       "        text-align: right;\n",
       "    }\n",
       "</style>\n",
       "<table border=\"1\" class=\"dataframe\">\n",
       "  <thead>\n",
       "    <tr style=\"text-align: right;\">\n",
       "      <th></th>\n",
       "      <th>Source</th>\n",
       "      <th>Cantidad</th>\n",
       "    </tr>\n",
       "  </thead>\n",
       "  <tbody>\n",
       "    <tr>\n",
       "      <th>0</th>\n",
       "      <td>5</td>\n",
       "      <td>1</td>\n",
       "    </tr>\n",
       "    <tr>\n",
       "      <th>1</th>\n",
       "      <td>12</td>\n",
       "      <td>2</td>\n",
       "    </tr>\n",
       "    <tr>\n",
       "      <th>2</th>\n",
       "      <td>0</td>\n",
       "      <td>4</td>\n",
       "    </tr>\n",
       "    <tr>\n",
       "      <th>3</th>\n",
       "      <td>6</td>\n",
       "      <td>17</td>\n",
       "    </tr>\n",
       "    <tr>\n",
       "      <th>4</th>\n",
       "      <td>4</td>\n",
       "      <td>32</td>\n",
       "    </tr>\n",
       "    <tr>\n",
       "      <th>5</th>\n",
       "      <td>2</td>\n",
       "      <td>68</td>\n",
       "    </tr>\n",
       "    <tr>\n",
       "      <th>6</th>\n",
       "      <td>1</td>\n",
       "      <td>88</td>\n",
       "    </tr>\n",
       "    <tr>\n",
       "      <th>7</th>\n",
       "      <td>10</td>\n",
       "      <td>89</td>\n",
       "    </tr>\n",
       "    <tr>\n",
       "      <th>8</th>\n",
       "      <td>3</td>\n",
       "      <td>305</td>\n",
       "    </tr>\n",
       "    <tr>\n",
       "      <th>9</th>\n",
       "      <td>13</td>\n",
       "      <td>536</td>\n",
       "    </tr>\n",
       "    <tr>\n",
       "      <th>10</th>\n",
       "      <td>11</td>\n",
       "      <td>847</td>\n",
       "    </tr>\n",
       "    <tr>\n",
       "      <th>11</th>\n",
       "      <td>9</td>\n",
       "      <td>873</td>\n",
       "    </tr>\n",
       "    <tr>\n",
       "      <th>12</th>\n",
       "      <td>7</td>\n",
       "      <td>2069</td>\n",
       "    </tr>\n",
       "    <tr>\n",
       "      <th>13</th>\n",
       "      <td>None</td>\n",
       "      <td>4910</td>\n",
       "    </tr>\n",
       "  </tbody>\n",
       "</table>\n",
       "</div>"
      ],
      "text/plain": [
       "   Source  Cantidad\n",
       "0       5         1\n",
       "1      12         2\n",
       "2       0         4\n",
       "3       6        17\n",
       "4       4        32\n",
       "5       2        68\n",
       "6       1        88\n",
       "7      10        89\n",
       "8       3       305\n",
       "9      13       536\n",
       "10     11       847\n",
       "11      9       873\n",
       "12      7      2069\n",
       "13   None      4910"
      ]
     },
     "execution_count": 4,
     "metadata": {},
     "output_type": "execute_result"
    }
   ],
   "source": [
    "opportunities.drop_duplicates(subset=\"Opportunity_ID\", inplace=True) #Hago esto porque algunas oportunidades tienen mas de una entrada\n",
    "sources = opportunities.groupby(\"Source\").agg({\"Opportunity_ID\":\"count\"}).sort_values(by=\"Opportunity_ID\").reset_index() #Cuantas veces aparece cada source\n",
    "sources[\"Source\"] = sources[\"Source\"].apply(lambda x: x.replace(\"Source_\",\"\")) #Saco Source_ de los nombres porque rompe los ejes\n",
    "sources.rename(columns={\"Opportunity_ID\":\"Cantidad\"},inplace=True)\n",
    "sources"
   ]
  },
  {
   "cell_type": "code",
   "execution_count": 5,
   "metadata": {},
   "outputs": [
    {
     "data": {
      "image/png": "[encoded data removed]",
      "text/plain": [
       "<Figure size 360x360 with 1 Axes>"
      ]
     },
     "metadata": {
      "needs_background": "light"
     },
     "output_type": "display_data"
    },
    {
     "data": {
      "image/png": "[encoded data removed]",
      "text/plain": [
       "<Figure size 360x360 with 1 Axes>"
      ]
     },
     "metadata": {
      "needs_background": "light"
     },
     "output_type": "display_data"
    }
   ],
   "source": [
    "fig1 = sns.catplot(y=\"Cantidad\", x=\"Source\",data=sources,kind=\"bar\",color=\"blue\"\\\n",
    "           ,palette=sns.color_palette(\"mako\")) #Cuantas veces aparece cada fuente\n",
    "plt.savefig(\"img/Source/CantidadSource.png\")\n",
    "plt.xlabel(\"Sources\")\n",
    "plt.ylabel(\"Cantidad\")\n",
    "plt.title(\"Cantidad de apariciones de cada Source considerando None\")\n",
    "plt.show(fig1)\n",
    "\n",
    "sources = sources[sources[\"Source\"] != \"None\"]\n",
    "fig2 = sns.catplot(y=\"Cantidad\", x=\"Source\",data=sources,kind=\"bar\",color=\"blue\",order=sources[\"Source\"]\\\n",
    "           ,palette=sns.color_palette(\"mako\")) #Cuantas veces aparece cada fuente sin contar None\n",
    "plt.savefig(\"img/Source/CantidadSourceSinNone.png\")\n",
    "plt.xlabel(\"Sources\")\n",
    "plt.ylabel(\"Cantidad\")\n",
    "plt.title(\"Cantidad de apariciones de cada Source\")\n",
    "plt.show(fig2)\n"
   ]
  },
  {
   "cell_type": "markdown",
   "metadata": {},
   "source": [
    "# Voy a ver con que porcentaje cada Source termina en Closed Won"
   ]
  },
  {
   "cell_type": "code",
   "execution_count": 6,
   "metadata": {},
   "outputs": [
    {
     "data": {
      "text/html": [
       "<div>\n",
       "<style scoped>\n",
       "    .dataframe tbody tr th:only-of-type {\n",
       "        vertical-align: middle;\n",
       "    }\n",
       "\n",
       "    .dataframe tbody tr th {\n",
       "        vertical-align: top;\n",
       "    }\n",
       "\n",
       "    .dataframe thead th {\n",
       "        text-align: right;\n",
       "    }\n",
       "</style>\n",
       "<table border=\"1\" class=\"dataframe\">\n",
       "  <thead>\n",
       "    <tr style=\"text-align: right;\">\n",
       "      <th>Stage</th>\n",
       "      <th>Source</th>\n",
       "      <th>Closed Lost</th>\n",
       "      <th>Closed Won</th>\n",
       "      <th>Negotiation</th>\n",
       "      <th>Proposal</th>\n",
       "      <th>Qualification</th>\n",
       "      <th>Total</th>\n",
       "    </tr>\n",
       "  </thead>\n",
       "  <tbody>\n",
       "    <tr>\n",
       "      <th>1</th>\n",
       "      <td>0</td>\n",
       "      <td>4.0</td>\n",
       "      <td>0.000000</td>\n",
       "      <td>0.0</td>\n",
       "      <td>0.0</td>\n",
       "      <td>0.0</td>\n",
       "      <td>4</td>\n",
       "    </tr>\n",
       "    <tr>\n",
       "      <th>5</th>\n",
       "      <td>12</td>\n",
       "      <td>2.0</td>\n",
       "      <td>0.000000</td>\n",
       "      <td>0.0</td>\n",
       "      <td>0.0</td>\n",
       "      <td>0.0</td>\n",
       "      <td>2</td>\n",
       "    </tr>\n",
       "    <tr>\n",
       "      <th>10</th>\n",
       "      <td>5</td>\n",
       "      <td>1.0</td>\n",
       "      <td>0.000000</td>\n",
       "      <td>0.0</td>\n",
       "      <td>0.0</td>\n",
       "      <td>0.0</td>\n",
       "      <td>1</td>\n",
       "    </tr>\n",
       "    <tr>\n",
       "      <th>11</th>\n",
       "      <td>6</td>\n",
       "      <td>12.0</td>\n",
       "      <td>0.294118</td>\n",
       "      <td>0.0</td>\n",
       "      <td>0.0</td>\n",
       "      <td>0.0</td>\n",
       "      <td>17</td>\n",
       "    </tr>\n",
       "    <tr>\n",
       "      <th>2</th>\n",
       "      <td>1</td>\n",
       "      <td>60.0</td>\n",
       "      <td>0.318182</td>\n",
       "      <td>0.0</td>\n",
       "      <td>0.0</td>\n",
       "      <td>0.0</td>\n",
       "      <td>88</td>\n",
       "    </tr>\n",
       "    <tr>\n",
       "      <th>3</th>\n",
       "      <td>10</td>\n",
       "      <td>58.0</td>\n",
       "      <td>0.348315</td>\n",
       "      <td>0.0</td>\n",
       "      <td>0.0</td>\n",
       "      <td>0.0</td>\n",
       "      <td>89</td>\n",
       "    </tr>\n",
       "    <tr>\n",
       "      <th>7</th>\n",
       "      <td>2</td>\n",
       "      <td>42.0</td>\n",
       "      <td>0.382353</td>\n",
       "      <td>0.0</td>\n",
       "      <td>0.0</td>\n",
       "      <td>0.0</td>\n",
       "      <td>68</td>\n",
       "    </tr>\n",
       "    <tr>\n",
       "      <th>12</th>\n",
       "      <td>7</td>\n",
       "      <td>1155.0</td>\n",
       "      <td>0.438859</td>\n",
       "      <td>2.0</td>\n",
       "      <td>3.0</td>\n",
       "      <td>1.0</td>\n",
       "      <td>2069</td>\n",
       "    </tr>\n",
       "    <tr>\n",
       "      <th>9</th>\n",
       "      <td>4</td>\n",
       "      <td>16.0</td>\n",
       "      <td>0.500000</td>\n",
       "      <td>0.0</td>\n",
       "      <td>0.0</td>\n",
       "      <td>0.0</td>\n",
       "      <td>32</td>\n",
       "    </tr>\n",
       "    <tr>\n",
       "      <th>0</th>\n",
       "      <td>None</td>\n",
       "      <td>2371.0</td>\n",
       "      <td>0.509776</td>\n",
       "      <td>7.0</td>\n",
       "      <td>21.0</td>\n",
       "      <td>8.0</td>\n",
       "      <td>4910</td>\n",
       "    </tr>\n",
       "    <tr>\n",
       "      <th>8</th>\n",
       "      <td>3</td>\n",
       "      <td>143.0</td>\n",
       "      <td>0.521311</td>\n",
       "      <td>0.0</td>\n",
       "      <td>3.0</td>\n",
       "      <td>0.0</td>\n",
       "      <td>305</td>\n",
       "    </tr>\n",
       "    <tr>\n",
       "      <th>13</th>\n",
       "      <td>9</td>\n",
       "      <td>385.0</td>\n",
       "      <td>0.556701</td>\n",
       "      <td>0.0</td>\n",
       "      <td>2.0</td>\n",
       "      <td>0.0</td>\n",
       "      <td>873</td>\n",
       "    </tr>\n",
       "    <tr>\n",
       "      <th>4</th>\n",
       "      <td>11</td>\n",
       "      <td>311.0</td>\n",
       "      <td>0.632822</td>\n",
       "      <td>0.0</td>\n",
       "      <td>0.0</td>\n",
       "      <td>0.0</td>\n",
       "      <td>847</td>\n",
       "    </tr>\n",
       "    <tr>\n",
       "      <th>6</th>\n",
       "      <td>13</td>\n",
       "      <td>159.0</td>\n",
       "      <td>0.697761</td>\n",
       "      <td>2.0</td>\n",
       "      <td>1.0</td>\n",
       "      <td>0.0</td>\n",
       "      <td>536</td>\n",
       "    </tr>\n",
       "  </tbody>\n",
       "</table>\n",
       "</div>"
      ],
      "text/plain": [
       "Stage Source  Closed Lost  Closed Won  Negotiation  Proposal  Qualification  \\\n",
       "1          0          4.0    0.000000          0.0       0.0            0.0   \n",
       "5         12          2.0    0.000000          0.0       0.0            0.0   \n",
       "10         5          1.0    0.000000          0.0       0.0            0.0   \n",
       "11         6         12.0    0.294118          0.0       0.0            0.0   \n",
       "2          1         60.0    0.318182          0.0       0.0            0.0   \n",
       "3         10         58.0    0.348315          0.0       0.0            0.0   \n",
       "7          2         42.0    0.382353          0.0       0.0            0.0   \n",
       "12         7       1155.0    0.438859          2.0       3.0            1.0   \n",
       "9          4         16.0    0.500000          0.0       0.0            0.0   \n",
       "0       None       2371.0    0.509776          7.0      21.0            8.0   \n",
       "8          3        143.0    0.521311          0.0       3.0            0.0   \n",
       "13         9        385.0    0.556701          0.0       2.0            0.0   \n",
       "4         11        311.0    0.632822          0.0       0.0            0.0   \n",
       "6         13        159.0    0.697761          2.0       1.0            0.0   \n",
       "\n",
       "Stage  Total  \n",
       "1          4  \n",
       "5          2  \n",
       "10         1  \n",
       "11        17  \n",
       "2         88  \n",
       "3         89  \n",
       "7         68  \n",
       "12      2069  \n",
       "9         32  \n",
       "0       4910  \n",
       "8        305  \n",
       "13       873  \n",
       "4        847  \n",
       "6        536  "
      ]
     },
     "execution_count": 6,
     "metadata": {},
     "output_type": "execute_result"
    }
   ],
   "source": [
    "sourcesVsWon = opportunities.pivot_table(columns=\"Stage\",index=\"Source\",values=\"Opportunity_ID\", aggfunc=\"count\").fillna(0)\n",
    "sourcesVsWon[\"Total\"] = opportunities[\"Source\"].value_counts()\n",
    "sourcesVsWon = sourcesVsWon.reset_index()\n",
    "sourcesVsWon[\"Source\"] = sourcesVsWon[\"Source\"].apply(lambda x: x.replace(\"Source_\",\"\"))\n",
    "sourcesVsWon[\"Closed Won\"] = sourcesVsWon[\"Closed Won\"]/sourcesVsWon[\"Total\"]\n",
    "sourcesVsWon = sourcesVsWon.sort_values(by=\"Closed Won\")\n",
    "sourcesVsWon"
   ]
  },
  {
   "cell_type": "code",
   "execution_count": 7,
   "metadata": {},
   "outputs": [
    {
     "data": {
      "image/png": "[encoded data removed]",
      "text/plain": [
       "<Figure size 360x360 with 1 Axes>"
      ]
     },
     "metadata": {
      "needs_background": "light"
     },
     "output_type": "display_data"
    },
    {
     "data": {
      "image/png": "[encoded data removed]",
      "text/plain": [
       "<Figure size 360x360 with 1 Axes>"
      ]
     },
     "metadata": {
      "needs_background": "light"
     },
     "output_type": "display_data"
    }
   ],
   "source": [
    "fig1 = sns.catplot(x=\"Source\", y=\"Closed Won\",kind=\"bar\", data=sourcesVsWon)\n",
    "plt.savefig(\"img/Source/PorcentajeClosedWonPorSource.png\")\n",
    "plt.xlabel(\"Sources\")\n",
    "plt.ylabel(\"Porcentaje Oportunidades Ganadas\")\n",
    "plt.title(\"Porcentaje Oportunidades Ganadas por Source considerando None\")\n",
    "plt.show(fig1)\n",
    "\n",
    "sourcesVsWonWithoutNone = sourcesVsWon[sourcesVsWon[\"Source\"] != \"None\"] #Saco los None\n",
    "fig2 = sns.catplot(x=\"Source\", y=\"Closed Won\",kind=\"bar\", data=sourcesVsWonWithoutNone,order=sourcesVsWonWithoutNone[\"Source\"])\n",
    "plt.savefig(\"img/Source/PorcentajeClosedWonPorSourceSinNone.png\")\n",
    "plt.xlabel(\"Sources\")\n",
    "plt.ylabel(\"Porcentaje Oportunidades Ganadas\")\n",
    "plt.title(\"Porcentaje Oportunidades Ganadas por Source\")\n",
    "plt.show(fig2)"
   ]
  },
  {
   "cell_type": "markdown",
   "metadata": {},
   "source": [
    "# Filtro los que tienen menos de 100 entradas"
   ]
  },
  {
   "cell_type": "code",
   "execution_count": 8,
   "metadata": {},
   "outputs": [
    {
     "data": {
      "text/html": [
       "<div>\n",
       "<style scoped>\n",
       "    .dataframe tbody tr th:only-of-type {\n",
       "        vertical-align: middle;\n",
       "    }\n",
       "\n",
       "    .dataframe tbody tr th {\n",
       "        vertical-align: top;\n",
       "    }\n",
       "\n",
       "    .dataframe thead th {\n",
       "        text-align: right;\n",
       "    }\n",
       "</style>\n",
       "<table border=\"1\" class=\"dataframe\">\n",
       "  <thead>\n",
       "    <tr style=\"text-align: right;\">\n",
       "      <th>Stage</th>\n",
       "      <th>Source</th>\n",
       "      <th>Closed Lost</th>\n",
       "      <th>Closed Won</th>\n",
       "      <th>Negotiation</th>\n",
       "      <th>Proposal</th>\n",
       "      <th>Qualification</th>\n",
       "      <th>Total</th>\n",
       "    </tr>\n",
       "  </thead>\n",
       "  <tbody>\n",
       "    <tr>\n",
       "      <th>12</th>\n",
       "      <td>7</td>\n",
       "      <td>1155.0</td>\n",
       "      <td>0.438859</td>\n",
       "      <td>2.0</td>\n",
       "      <td>3.0</td>\n",
       "      <td>1.0</td>\n",
       "      <td>2069</td>\n",
       "    </tr>\n",
       "    <tr>\n",
       "      <th>0</th>\n",
       "      <td>None</td>\n",
       "      <td>2371.0</td>\n",
       "      <td>0.509776</td>\n",
       "      <td>7.0</td>\n",
       "      <td>21.0</td>\n",
       "      <td>8.0</td>\n",
       "      <td>4910</td>\n",
       "    </tr>\n",
       "    <tr>\n",
       "      <th>8</th>\n",
       "      <td>3</td>\n",
       "      <td>143.0</td>\n",
       "      <td>0.521311</td>\n",
       "      <td>0.0</td>\n",
       "      <td>3.0</td>\n",
       "      <td>0.0</td>\n",
       "      <td>305</td>\n",
       "    </tr>\n",
       "    <tr>\n",
       "      <th>13</th>\n",
       "      <td>9</td>\n",
       "      <td>385.0</td>\n",
       "      <td>0.556701</td>\n",
       "      <td>0.0</td>\n",
       "      <td>2.0</td>\n",
       "      <td>0.0</td>\n",
       "      <td>873</td>\n",
       "    </tr>\n",
       "    <tr>\n",
       "      <th>4</th>\n",
       "      <td>11</td>\n",
       "      <td>311.0</td>\n",
       "      <td>0.632822</td>\n",
       "      <td>0.0</td>\n",
       "      <td>0.0</td>\n",
       "      <td>0.0</td>\n",
       "      <td>847</td>\n",
       "    </tr>\n",
       "    <tr>\n",
       "      <th>6</th>\n",
       "      <td>13</td>\n",
       "      <td>159.0</td>\n",
       "      <td>0.697761</td>\n",
       "      <td>2.0</td>\n",
       "      <td>1.0</td>\n",
       "      <td>0.0</td>\n",
       "      <td>536</td>\n",
       "    </tr>\n",
       "  </tbody>\n",
       "</table>\n",
       "</div>"
      ],
      "text/plain": [
       "Stage Source  Closed Lost  Closed Won  Negotiation  Proposal  Qualification  \\\n",
       "12         7       1155.0    0.438859          2.0       3.0            1.0   \n",
       "0       None       2371.0    0.509776          7.0      21.0            8.0   \n",
       "8          3        143.0    0.521311          0.0       3.0            0.0   \n",
       "13         9        385.0    0.556701          0.0       2.0            0.0   \n",
       "4         11        311.0    0.632822          0.0       0.0            0.0   \n",
       "6         13        159.0    0.697761          2.0       1.0            0.0   \n",
       "\n",
       "Stage  Total  \n",
       "12      2069  \n",
       "0       4910  \n",
       "8        305  \n",
       "13       873  \n",
       "4        847  \n",
       "6        536  "
      ]
     },
     "execution_count": 8,
     "metadata": {},
     "output_type": "execute_result"
    }
   ],
   "source": [
    "sourcesVsWonFiltered = sourcesVsWon[sourcesVsWon[\"Total\"]>100]\n",
    "sourcesVsWonFiltered"
   ]
  },
  {
   "cell_type": "code",
   "execution_count": 9,
   "metadata": {},
   "outputs": [
    {
     "data": {
      "image/png": "[encoded data removed]",
      "text/plain": [
       "<Figure size 360x360 with 1 Axes>"
      ]
     },
     "metadata": {
      "needs_background": "light"
     },
     "output_type": "display_data"
    },
    {
     "data": {
      "image/png": "[encoded data removed]",
      "text/plain": [
       "<Figure size 360x360 with 1 Axes>"
      ]
     },
     "metadata": {
      "needs_background": "light"
     },
     "output_type": "display_data"
    }
   ],
   "source": [
    "fig1 = sns.catplot(x=\"Source\", y=\"Closed Won\",kind=\"bar\", data=sourcesVsWonFiltered)\n",
    "plt.savefig(\"img/Source/PorcentajeClosedWonPorSourceMenosDe100.png\")\n",
    "plt.xlabel(\"Sources\")\n",
    "plt.ylabel(\"Porcentaje Oportunidades Ganadas\")\n",
    "plt.title(\"Porcentaje Oportunidades Ganadas por Source\")\n",
    "plt.show(fig1)\n",
    "\n",
    "sourcesVsWonFilteredWithoutNone = sourcesVsWonFiltered.drop(axis=0, labels=0) #Saco los None\n",
    "fig2 = sns.catplot(x=\"Source\", y=\"Closed Won\",kind=\"bar\", data=sourcesVsWonFilteredWithoutNone,order=sourcesVsWonFilteredWithoutNone[\"Source\"])\n",
    "plt.savefig(\"img/Source/PorcentajeClosedWonPorSourceSinNoneMenosDe100.png\")\n",
    "plt.xlabel(\"Sources\")\n",
    "plt.ylabel(\"Porcentaje Oportunidades Ganadas\")\n",
    "plt.title(\"Porcentaje Oportunidades Ganadas por Source\")\n",
    "plt.show(fig2)\n",
    "\n",
    "#VER EL TEMA DE LOS COLORES"
   ]
  },
  {
   "cell_type": "markdown",
   "metadata": {},
   "source": [
    "# Veo como termina cada Source que tenga mas de 100 entradas"
   ]
  },
  {
   "cell_type": "code",
   "execution_count": 16,
   "metadata": {},
   "outputs": [
    {
     "data": {
      "text/html": [
       "<div>\n",
       "<style scoped>\n",
       "    .dataframe tbody tr th:only-of-type {\n",
       "        vertical-align: middle;\n",
       "    }\n",
       "\n",
       "    .dataframe tbody tr th {\n",
       "        vertical-align: top;\n",
       "    }\n",
       "\n",
       "    .dataframe thead th {\n",
       "        text-align: right;\n",
       "    }\n",
       "</style>\n",
       "<table border=\"1\" class=\"dataframe\">\n",
       "  <thead>\n",
       "    <tr style=\"text-align: right;\">\n",
       "      <th></th>\n",
       "      <th>Source</th>\n",
       "      <th>Stage</th>\n",
       "      <th>Cantidad</th>\n",
       "      <th>Total</th>\n",
       "    </tr>\n",
       "  </thead>\n",
       "  <tbody>\n",
       "    <tr>\n",
       "      <th>0</th>\n",
       "      <td>None</td>\n",
       "      <td>Closed Lost</td>\n",
       "      <td>2371</td>\n",
       "      <td>4910</td>\n",
       "    </tr>\n",
       "    <tr>\n",
       "      <th>1</th>\n",
       "      <td>None</td>\n",
       "      <td>Closed Won</td>\n",
       "      <td>2503</td>\n",
       "      <td>4910</td>\n",
       "    </tr>\n",
       "    <tr>\n",
       "      <th>5</th>\n",
       "      <td>11</td>\n",
       "      <td>Closed Lost</td>\n",
       "      <td>311</td>\n",
       "      <td>847</td>\n",
       "    </tr>\n",
       "    <tr>\n",
       "      <th>6</th>\n",
       "      <td>11</td>\n",
       "      <td>Closed Won</td>\n",
       "      <td>536</td>\n",
       "      <td>847</td>\n",
       "    </tr>\n",
       "    <tr>\n",
       "      <th>7</th>\n",
       "      <td>13</td>\n",
       "      <td>Closed Lost</td>\n",
       "      <td>159</td>\n",
       "      <td>536</td>\n",
       "    </tr>\n",
       "    <tr>\n",
       "      <th>8</th>\n",
       "      <td>13</td>\n",
       "      <td>Closed Won</td>\n",
       "      <td>374</td>\n",
       "      <td>536</td>\n",
       "    </tr>\n",
       "    <tr>\n",
       "      <th>11</th>\n",
       "      <td>3</td>\n",
       "      <td>Closed Lost</td>\n",
       "      <td>143</td>\n",
       "      <td>305</td>\n",
       "    </tr>\n",
       "    <tr>\n",
       "      <th>12</th>\n",
       "      <td>3</td>\n",
       "      <td>Closed Won</td>\n",
       "      <td>159</td>\n",
       "      <td>305</td>\n",
       "    </tr>\n",
       "    <tr>\n",
       "      <th>14</th>\n",
       "      <td>7</td>\n",
       "      <td>Closed Lost</td>\n",
       "      <td>1155</td>\n",
       "      <td>2069</td>\n",
       "    </tr>\n",
       "    <tr>\n",
       "      <th>15</th>\n",
       "      <td>7</td>\n",
       "      <td>Closed Won</td>\n",
       "      <td>908</td>\n",
       "      <td>2069</td>\n",
       "    </tr>\n",
       "    <tr>\n",
       "      <th>19</th>\n",
       "      <td>9</td>\n",
       "      <td>Closed Lost</td>\n",
       "      <td>385</td>\n",
       "      <td>873</td>\n",
       "    </tr>\n",
       "    <tr>\n",
       "      <th>20</th>\n",
       "      <td>9</td>\n",
       "      <td>Closed Won</td>\n",
       "      <td>486</td>\n",
       "      <td>873</td>\n",
       "    </tr>\n",
       "  </tbody>\n",
       "</table>\n",
       "</div>"
      ],
      "text/plain": [
       "   Source        Stage  Cantidad  Total\n",
       "0    None  Closed Lost      2371   4910\n",
       "1    None   Closed Won      2503   4910\n",
       "5      11  Closed Lost       311    847\n",
       "6      11   Closed Won       536    847\n",
       "7      13  Closed Lost       159    536\n",
       "8      13   Closed Won       374    536\n",
       "11      3  Closed Lost       143    305\n",
       "12      3   Closed Won       159    305\n",
       "14      7  Closed Lost      1155   2069\n",
       "15      7   Closed Won       908   2069\n",
       "19      9  Closed Lost       385    873\n",
       "20      9   Closed Won       486    873"
      ]
     },
     "execution_count": 16,
     "metadata": {},
     "output_type": "execute_result"
    }
   ],
   "source": [
    "sourcesVsStage = opportunities.groupby([\"Source\",\"Stage\"]).agg({\"Opportunity_ID\":\"count\"})#Consigo la cantidad de veces de cada Stage por cada source\n",
    "sourcesVsStage = sourcesVsStage.reset_index()\n",
    "sourcesVsStage[\"Source\"] = sourcesVsStage[\"Source\"].apply(lambda x: x.replace(\"Source_\",\"\"))\n",
    "sourcesVsStage.rename(columns={\"Opportunity_ID\":\"Cantidad\"},inplace = True)\n",
    "total = sourcesVsStage.groupby(\"Source\").agg({\"Cantidad\":\"sum\"}) #La cantidad total de veces que aparece source\n",
    "sourcesVsStage.set_index(\"Source\",inplace=True)\n",
    "sourcesVsStage[\"Total\"] = total[\"Cantidad\"]\n",
    "sourcesVsStage = sourcesVsStage[sourcesVsStage[\"Total\"]>100]#Filtro a los q tienen mas de 100 entradas\n",
    "sourcesVsStage.reset_index(inplace=True)\n",
    "sourcesVsStage = sourcesVsStage[(sourcesVsStage[\"Stage\"]==\"Closed Won\") | (sourcesVsStage[\"Stage\"]==\"Closed Lost\")]\n",
    "sourcesVsStage"
   ]
  },
  {
   "cell_type": "code",
   "execution_count": 17,
   "metadata": {},
   "outputs": [
    {
     "data": {
      "image/png": "[encoded data removed]",
      "text/plain": [
       "<Figure size 454.25x360 with 1 Axes>"
      ]
     },
     "metadata": {
      "needs_background": "light"
     },
     "output_type": "display_data"
    },
    {
     "data": {
      "image/png": "[encoded data removed]",
      "text/plain": [
       "<Figure size 454.25x360 with 1 Axes>"
      ]
     },
     "metadata": {
      "needs_background": "light"
     },
     "output_type": "display_data"
    }
   ],
   "source": [
    "fig1 = sns.catplot(x=\"Source\",y=\"Cantidad\",hue=\"Stage\",data=sourcesVsStage,kind=\"bar\")\n",
    "plt.savefig(\"img/Source/ClosedWonVsClosedLostPorSource.png\")\n",
    "plt.xlabel(\"Sources\")\n",
    "plt.ylabel(\"Cantidad\")\n",
    "plt.title(\"Oportunidades Ganadas Vs Perdidas por Source considerando None\")\n",
    "plt.show(fig1)\n",
    "\n",
    "sourcesVsStage = sourcesVsStage[sourcesVsStage[\"Source\"] != \"None\"]\n",
    "fig2 = sns.catplot(x=\"Source\",y=\"Cantidad\",hue=\"Stage\",data=sourcesVsStage,kind=\"bar\")\n",
    "plt.savefig(\"img/Source/ClosedWonVsClosedLostPorSourceSinNone.png\")\n",
    "plt.xlabel(\"Sources\")\n",
    "plt.ylabel(\"Cantidad\")\n",
    "plt.title(\"Oportunidades Ganadas Vs Perdidas por Source\")\n",
    "plt.show(fig2)\n"
   ]
  },
  {
   "cell_type": "markdown",
   "metadata": {},
   "source": [
    "# Veo el ASP(En dolares) de cada source"
   ]
  },
  {
   "cell_type": "code",
   "execution_count": 12,
   "metadata": {},
   "outputs": [
    {
     "data": {
      "text/html": [
       "<div>\n",
       "<style scoped>\n",
       "    .dataframe tbody tr th:only-of-type {\n",
       "        vertical-align: middle;\n",
       "    }\n",
       "\n",
       "    .dataframe tbody tr th {\n",
       "        vertical-align: top;\n",
       "    }\n",
       "\n",
       "    .dataframe thead th {\n",
       "        text-align: right;\n",
       "    }\n",
       "</style>\n",
       "<table border=\"1\" class=\"dataframe\">\n",
       "  <thead>\n",
       "    <tr style=\"text-align: right;\">\n",
       "      <th></th>\n",
       "      <th>Source</th>\n",
       "      <th>ASP(USD)</th>\n",
       "      <th>Cantidad</th>\n",
       "    </tr>\n",
       "  </thead>\n",
       "  <tbody>\n",
       "    <tr>\n",
       "      <th>3</th>\n",
       "      <td>9</td>\n",
       "      <td>0.417443</td>\n",
       "      <td>873</td>\n",
       "    </tr>\n",
       "    <tr>\n",
       "      <th>4</th>\n",
       "      <td>13</td>\n",
       "      <td>0.421584</td>\n",
       "      <td>536</td>\n",
       "    </tr>\n",
       "    <tr>\n",
       "      <th>5</th>\n",
       "      <td>7</td>\n",
       "      <td>0.424303</td>\n",
       "      <td>2069</td>\n",
       "    </tr>\n",
       "    <tr>\n",
       "      <th>6</th>\n",
       "      <td>11</td>\n",
       "      <td>0.428097</td>\n",
       "      <td>847</td>\n",
       "    </tr>\n",
       "    <tr>\n",
       "      <th>13</th>\n",
       "      <td>3</td>\n",
       "      <td>0.645817</td>\n",
       "      <td>305</td>\n",
       "    </tr>\n",
       "  </tbody>\n",
       "</table>\n",
       "</div>"
      ],
      "text/plain": [
       "   Source  ASP(USD)  Cantidad\n",
       "3       9  0.417443       873\n",
       "4      13  0.421584       536\n",
       "5       7  0.424303      2069\n",
       "6      11  0.428097       847\n",
       "13      3  0.645817       305"
      ]
     },
     "execution_count": 12,
     "metadata": {},
     "output_type": "execute_result"
    }
   ],
   "source": [
    "#ASP(converted) es siempre USD\n",
    "aspBySource = opportunities[[\"Source\",\"ASP_(converted)\",\"Opportunity_ID\"]].groupby(\"Source\").\\\n",
    "    agg({\"ASP_(converted)\":\"mean\",\"Opportunity_ID\":\"count\"}).sort_values(by=\"ASP_(converted)\")\n",
    "aspBySource.reset_index(inplace=True)\n",
    "aspBySource[\"Source\"] = aspBySource[\"Source\"].apply(lambda x: x.replace(\"Source_\",\"\"))\n",
    "aspBySource.rename(columns={\"ASP_(converted)\":\"ASP(USD)\",\"Opportunity_ID\":\"Cantidad\"},inplace=True)\n",
    "aspBySource = aspBySource[aspBySource[\"Cantidad\"]>100]\n",
    "aspBySource = aspBySource[aspBySource[\"Source\"] != \"None\"]\n",
    "aspBySource = aspBySource.sort_values(by=\"ASP(USD)\")\n",
    "aspBySource"
   ]
  },
  {
   "cell_type": "code",
   "execution_count": 13,
   "metadata": {},
   "outputs": [
    {
     "data": {
      "image/png": "[encoded data removed]",
      "text/plain": [
       "<Figure size 360x360 with 1 Axes>"
      ]
     },
     "metadata": {
      "needs_background": "light"
     },
     "output_type": "display_data"
    }
   ],
   "source": [
    "fig1 = sns.catplot(kind=\"bar\",x=\"Source\",y=\"ASP(USD)\",data=aspBySource,order=aspBySource[\"Source\"])\n",
    "plt.savefig(\"img/Source/ASPPorSource.png\")\n",
    "plt.xlabel(\"Sources\")\n",
    "plt.ylabel(\"ASP(USD)\")\n",
    "plt.title(\"Precio de venta promedio por Source\")\n",
    "plt.show(fig1)\n",
    "\n",
    "#Lo unico que puedo decir es que la source 3 tiene un precio considerablemente mas alto que las otras"
   ]
  },
  {
   "cell_type": "markdown",
   "metadata": {},
   "source": [
    "# Source vs TRF"
   ]
  },
  {
   "cell_type": "code",
   "execution_count": 14,
   "metadata": {},
   "outputs": [
    {
     "data": {
      "text/html": [
       "<div>\n",
       "<style scoped>\n",
       "    .dataframe tbody tr th:only-of-type {\n",
       "        vertical-align: middle;\n",
       "    }\n",
       "\n",
       "    .dataframe tbody tr th {\n",
       "        vertical-align: top;\n",
       "    }\n",
       "\n",
       "    .dataframe thead th {\n",
       "        text-align: right;\n",
       "    }\n",
       "</style>\n",
       "<table border=\"1\" class=\"dataframe\">\n",
       "  <thead>\n",
       "    <tr style=\"text-align: right;\">\n",
       "      <th></th>\n",
       "      <th>Source</th>\n",
       "      <th>TRF</th>\n",
       "      <th>Opportunity_ID</th>\n",
       "    </tr>\n",
       "  </thead>\n",
       "  <tbody>\n",
       "    <tr>\n",
       "      <th>5</th>\n",
       "      <td>9</td>\n",
       "      <td>1.663230</td>\n",
       "      <td>873</td>\n",
       "    </tr>\n",
       "    <tr>\n",
       "      <th>2</th>\n",
       "      <td>13</td>\n",
       "      <td>2.242537</td>\n",
       "      <td>536</td>\n",
       "    </tr>\n",
       "    <tr>\n",
       "      <th>1</th>\n",
       "      <td>11</td>\n",
       "      <td>2.412043</td>\n",
       "      <td>847</td>\n",
       "    </tr>\n",
       "    <tr>\n",
       "      <th>3</th>\n",
       "      <td>3</td>\n",
       "      <td>2.750820</td>\n",
       "      <td>305</td>\n",
       "    </tr>\n",
       "    <tr>\n",
       "      <th>4</th>\n",
       "      <td>7</td>\n",
       "      <td>4.150314</td>\n",
       "      <td>2069</td>\n",
       "    </tr>\n",
       "  </tbody>\n",
       "</table>\n",
       "</div>"
      ],
      "text/plain": [
       "  Source       TRF  Opportunity_ID\n",
       "5      9  1.663230             873\n",
       "2     13  2.242537             536\n",
       "1     11  2.412043             847\n",
       "3      3  2.750820             305\n",
       "4      7  4.150314            2069"
      ]
     },
     "execution_count": 14,
     "metadata": {},
     "output_type": "execute_result"
    }
   ],
   "source": [
    "sourceVsTRF = opportunities[[\"Source\",\"TRF\",\"Opportunity_ID\"]].groupby(\"Source\").agg({\"TRF\":\"mean\",\"Opportunity_ID\":\"count\"})\n",
    "sourceVsTRF = sourceVsTRF[(sourceVsTRF[\"TRF\"] > 0) & (sourceVsTRF[\"Opportunity_ID\"]>100)]\n",
    "sourceVsTRF.reset_index(inplace=True)\n",
    "sourceVsTRF = sourceVsTRF[sourceVsTRF[\"Source\"] != \"None\"]\n",
    "sourceVsTRF[\"Source\"] = sourceVsTRF[\"Source\"].apply(lambda x: x.replace(\"Source_\",\"\"))\n",
    "sourceVsTRF = sourceVsTRF.sort_values(by=\"TRF\")\n",
    "sourceVsTRF"
   ]
  },
  {
   "cell_type": "code",
   "execution_count": 15,
   "metadata": {},
   "outputs": [
    {
     "data": {
      "image/png": "[encoded data removed]",
      "text/plain": [
       "<Figure size 432x288 with 1 Axes>"
      ]
     },
     "metadata": {
      "needs_background": "light"
     },
     "output_type": "display_data"
    }
   ],
   "source": [
    "plot = sns.barplot(x=\"Source\",y=\"TRF\",data=sourceVsTRF, order=sourceVsTRF[\"Source\"])\n",
    "plt.savefig(\"img/Source/TRFPorSource.png\")\n",
    "plt.xlabel(\"Sources\")\n",
    "plt.ylabel(\"TRF\")\n",
    "plt.title(\"TRF por Source\")\n",
    "plt.show(fig1)"
   ]
  },
  {
   "cell_type": "code",
   "execution_count": null,
   "metadata": {},
   "outputs": [],
   "source": []
  }
 ],
 "metadata": {
  "kernelspec": {
   "display_name": "Python 3",
   "language": "python",
   "name": "python3"
  },
  "language_info": {
   "codemirror_mode": {
    "name": "ipython",
    "version": 3
   },
   "file_extension": ".py",
   "mimetype": "text/x-python",
   "name": "python",
   "nbconvert_exporter": "python",
   "pygments_lexer": "ipython3",
   "version": "3.8.3"
  }
 },
 "nbformat": 4,
 "nbformat_minor": 4
}
