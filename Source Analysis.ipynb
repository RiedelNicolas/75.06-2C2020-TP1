{
 "cells": [
  {
   "cell_type": "code",
   "execution_count": 1,
   "metadata": {},
   "outputs": [],
   "source": [
    "import pandas as pd\n",
    "import numpy as np\n",
    "import matplotlib as mp\n",
    "import seaborn as sns"
   ]
  },
  {
   "cell_type": "code",
   "execution_count": 2,
   "metadata": {},
   "outputs": [],
   "source": [
    "opportunities = pd.read_csv(\"Entrenamieto_ECI_2020.csv\")"
   ]
  },
  {
   "cell_type": "markdown",
   "metadata": {},
   "source": [
    "# Voy a ver la cantidad de veces que aparece cada Source"
   ]
  },
  {
   "cell_type": "code",
   "execution_count": 3,
   "metadata": {},
   "outputs": [
    {
     "data": {
      "text/html": [
       "<div>\n",
       "<style scoped>\n",
       "    .dataframe tbody tr th:only-of-type {\n",
       "        vertical-align: middle;\n",
       "    }\n",
       "\n",
       "    .dataframe tbody tr th {\n",
       "        vertical-align: top;\n",
       "    }\n",
       "\n",
       "    .dataframe thead th {\n",
       "        text-align: right;\n",
       "    }\n",
       "</style>\n",
       "<table border=\"1\" class=\"dataframe\">\n",
       "  <thead>\n",
       "    <tr style=\"text-align: right;\">\n",
       "      <th></th>\n",
       "      <th>Source</th>\n",
       "      <th>Cantidad</th>\n",
       "    </tr>\n",
       "  </thead>\n",
       "  <tbody>\n",
       "    <tr>\n",
       "      <th>0</th>\n",
       "      <td>5</td>\n",
       "      <td>1</td>\n",
       "    </tr>\n",
       "    <tr>\n",
       "      <th>1</th>\n",
       "      <td>12</td>\n",
       "      <td>2</td>\n",
       "    </tr>\n",
       "    <tr>\n",
       "      <th>2</th>\n",
       "      <td>0</td>\n",
       "      <td>4</td>\n",
       "    </tr>\n",
       "    <tr>\n",
       "      <th>3</th>\n",
       "      <td>6</td>\n",
       "      <td>17</td>\n",
       "    </tr>\n",
       "    <tr>\n",
       "      <th>4</th>\n",
       "      <td>4</td>\n",
       "      <td>32</td>\n",
       "    </tr>\n",
       "    <tr>\n",
       "      <th>5</th>\n",
       "      <td>2</td>\n",
       "      <td>68</td>\n",
       "    </tr>\n",
       "    <tr>\n",
       "      <th>6</th>\n",
       "      <td>1</td>\n",
       "      <td>88</td>\n",
       "    </tr>\n",
       "    <tr>\n",
       "      <th>7</th>\n",
       "      <td>10</td>\n",
       "      <td>89</td>\n",
       "    </tr>\n",
       "    <tr>\n",
       "      <th>8</th>\n",
       "      <td>3</td>\n",
       "      <td>305</td>\n",
       "    </tr>\n",
       "    <tr>\n",
       "      <th>9</th>\n",
       "      <td>13</td>\n",
       "      <td>536</td>\n",
       "    </tr>\n",
       "    <tr>\n",
       "      <th>10</th>\n",
       "      <td>11</td>\n",
       "      <td>847</td>\n",
       "    </tr>\n",
       "    <tr>\n",
       "      <th>11</th>\n",
       "      <td>9</td>\n",
       "      <td>873</td>\n",
       "    </tr>\n",
       "    <tr>\n",
       "      <th>12</th>\n",
       "      <td>7</td>\n",
       "      <td>2069</td>\n",
       "    </tr>\n",
       "    <tr>\n",
       "      <th>13</th>\n",
       "      <td>None</td>\n",
       "      <td>4910</td>\n",
       "    </tr>\n",
       "  </tbody>\n",
       "</table>\n",
       "</div>"
      ],
      "text/plain": [
       "   Source  Cantidad\n",
       "0       5         1\n",
       "1      12         2\n",
       "2       0         4\n",
       "3       6        17\n",
       "4       4        32\n",
       "5       2        68\n",
       "6       1        88\n",
       "7      10        89\n",
       "8       3       305\n",
       "9      13       536\n",
       "10     11       847\n",
       "11      9       873\n",
       "12      7      2069\n",
       "13   None      4910"
      ]
     },
     "execution_count": 3,
     "metadata": {},
     "output_type": "execute_result"
    }
   ],
   "source": [
    "opportunities.drop_duplicates(subset=\"Opportunity_ID\", inplace=True) #Hago esto porque algunas oportunidades tienen mas de una entrada\n",
    "sources = opportunities.groupby(\"Source\").agg({\"Opportunity_ID\":\"count\"}).sort_values(by=\"Opportunity_ID\").reset_index() #Cuantas veces aparece cada source\n",
    "sources[\"Source\"] = sources[\"Source\"].apply(lambda x: x.replace(\"Source_\",\"\")) #Saco Source_ de los nombres porque rompe los ejes\n",
    "sources.rename(columns={\"Opportunity_ID\":\"Cantidad\"},inplace=True)\n",
    "sources"
   ]
  },
  {
   "cell_type": "code",
   "execution_count": 4,
   "metadata": {},
   "outputs": [
    {
     "data": {
      "text/plain": [
       "<seaborn.axisgrid.FacetGrid at 0x7fc9ac2f3100>"
      ]
     },
     "execution_count": 4,
     "metadata": {},
     "output_type": "execute_result"
    },
    {
     "data": {
      "image/png": "[encoded data removed]",
      "text/plain": [
       "<Figure size 360x360 with 1 Axes>"
      ]
     },
     "metadata": {
      "needs_background": "light"
     },
     "output_type": "display_data"
    },
    {
     "data": {
      "image/png": "[encoded data removed]",
      "text/plain": [
       "<Figure size 360x360 with 1 Axes>"
      ]
     },
     "metadata": {
      "needs_background": "light"
     },
     "output_type": "display_data"
    }
   ],
   "source": [
    "sns.catplot(y=\"Cantidad\", x=\"Source\",data=sources,kind=\"bar\",color=\"blue\") #Cuantas veces aparece cada fuente\n",
    "sources.drop(axis=0, labels=13, inplace=True)\n",
    "sns.catplot(y=\"Cantidad\", x=\"Source\",data=sources,kind=\"bar\",color=\"blue\",order=sources[\"Source\"]) #Cuantas veces aparece cada fuente sin contar None"
   ]
  },
  {
   "cell_type": "markdown",
   "metadata": {},
   "source": [
    "# Voy a ver con que porcentaje cada Source termina en Closed Won"
   ]
  },
  {
   "cell_type": "code",
   "execution_count": 25,
   "metadata": {},
   "outputs": [
    {
     "data": {
      "text/html": [
       "<div>\n",
       "<style scoped>\n",
       "    .dataframe tbody tr th:only-of-type {\n",
       "        vertical-align: middle;\n",
       "    }\n",
       "\n",
       "    .dataframe tbody tr th {\n",
       "        vertical-align: top;\n",
       "    }\n",
       "\n",
       "    .dataframe thead th {\n",
       "        text-align: right;\n",
       "    }\n",
       "</style>\n",
       "<table border=\"1\" class=\"dataframe\">\n",
       "  <thead>\n",
       "    <tr style=\"text-align: right;\">\n",
       "      <th>Stage</th>\n",
       "      <th>Source</th>\n",
       "      <th>Closed Lost</th>\n",
       "      <th>Closed Won</th>\n",
       "      <th>Negotiation</th>\n",
       "      <th>Proposal</th>\n",
       "      <th>Qualification</th>\n",
       "      <th>Total</th>\n",
       "    </tr>\n",
       "  </thead>\n",
       "  <tbody>\n",
       "    <tr>\n",
       "      <th>1</th>\n",
       "      <td>0</td>\n",
       "      <td>4.0</td>\n",
       "      <td>0.000000</td>\n",
       "      <td>0.0</td>\n",
       "      <td>0.0</td>\n",
       "      <td>0.0</td>\n",
       "      <td>4</td>\n",
       "    </tr>\n",
       "    <tr>\n",
       "      <th>5</th>\n",
       "      <td>12</td>\n",
       "      <td>2.0</td>\n",
       "      <td>0.000000</td>\n",
       "      <td>0.0</td>\n",
       "      <td>0.0</td>\n",
       "      <td>0.0</td>\n",
       "      <td>2</td>\n",
       "    </tr>\n",
       "    <tr>\n",
       "      <th>10</th>\n",
       "      <td>5</td>\n",
       "      <td>1.0</td>\n",
       "      <td>0.000000</td>\n",
       "      <td>0.0</td>\n",
       "      <td>0.0</td>\n",
       "      <td>0.0</td>\n",
       "      <td>1</td>\n",
       "    </tr>\n",
       "    <tr>\n",
       "      <th>11</th>\n",
       "      <td>6</td>\n",
       "      <td>12.0</td>\n",
       "      <td>0.294118</td>\n",
       "      <td>0.0</td>\n",
       "      <td>0.0</td>\n",
       "      <td>0.0</td>\n",
       "      <td>17</td>\n",
       "    </tr>\n",
       "    <tr>\n",
       "      <th>2</th>\n",
       "      <td>1</td>\n",
       "      <td>60.0</td>\n",
       "      <td>0.318182</td>\n",
       "      <td>0.0</td>\n",
       "      <td>0.0</td>\n",
       "      <td>0.0</td>\n",
       "      <td>88</td>\n",
       "    </tr>\n",
       "    <tr>\n",
       "      <th>3</th>\n",
       "      <td>10</td>\n",
       "      <td>58.0</td>\n",
       "      <td>0.348315</td>\n",
       "      <td>0.0</td>\n",
       "      <td>0.0</td>\n",
       "      <td>0.0</td>\n",
       "      <td>89</td>\n",
       "    </tr>\n",
       "    <tr>\n",
       "      <th>7</th>\n",
       "      <td>2</td>\n",
       "      <td>42.0</td>\n",
       "      <td>0.382353</td>\n",
       "      <td>0.0</td>\n",
       "      <td>0.0</td>\n",
       "      <td>0.0</td>\n",
       "      <td>68</td>\n",
       "    </tr>\n",
       "    <tr>\n",
       "      <th>12</th>\n",
       "      <td>7</td>\n",
       "      <td>1155.0</td>\n",
       "      <td>0.438859</td>\n",
       "      <td>2.0</td>\n",
       "      <td>3.0</td>\n",
       "      <td>1.0</td>\n",
       "      <td>2069</td>\n",
       "    </tr>\n",
       "    <tr>\n",
       "      <th>9</th>\n",
       "      <td>4</td>\n",
       "      <td>16.0</td>\n",
       "      <td>0.500000</td>\n",
       "      <td>0.0</td>\n",
       "      <td>0.0</td>\n",
       "      <td>0.0</td>\n",
       "      <td>32</td>\n",
       "    </tr>\n",
       "    <tr>\n",
       "      <th>0</th>\n",
       "      <td>None</td>\n",
       "      <td>2371.0</td>\n",
       "      <td>0.509776</td>\n",
       "      <td>7.0</td>\n",
       "      <td>21.0</td>\n",
       "      <td>8.0</td>\n",
       "      <td>4910</td>\n",
       "    </tr>\n",
       "    <tr>\n",
       "      <th>8</th>\n",
       "      <td>3</td>\n",
       "      <td>143.0</td>\n",
       "      <td>0.521311</td>\n",
       "      <td>0.0</td>\n",
       "      <td>3.0</td>\n",
       "      <td>0.0</td>\n",
       "      <td>305</td>\n",
       "    </tr>\n",
       "    <tr>\n",
       "      <th>13</th>\n",
       "      <td>9</td>\n",
       "      <td>385.0</td>\n",
       "      <td>0.556701</td>\n",
       "      <td>0.0</td>\n",
       "      <td>2.0</td>\n",
       "      <td>0.0</td>\n",
       "      <td>873</td>\n",
       "    </tr>\n",
       "    <tr>\n",
       "      <th>4</th>\n",
       "      <td>11</td>\n",
       "      <td>311.0</td>\n",
       "      <td>0.632822</td>\n",
       "      <td>0.0</td>\n",
       "      <td>0.0</td>\n",
       "      <td>0.0</td>\n",
       "      <td>847</td>\n",
       "    </tr>\n",
       "    <tr>\n",
       "      <th>6</th>\n",
       "      <td>13</td>\n",
       "      <td>159.0</td>\n",
       "      <td>0.697761</td>\n",
       "      <td>2.0</td>\n",
       "      <td>1.0</td>\n",
       "      <td>0.0</td>\n",
       "      <td>536</td>\n",
       "    </tr>\n",
       "  </tbody>\n",
       "</table>\n",
       "</div>"
      ],
      "text/plain": [
       "Stage Source  Closed Lost  Closed Won  Negotiation  Proposal  Qualification  \\\n",
       "1          0          4.0    0.000000          0.0       0.0            0.0   \n",
       "5         12          2.0    0.000000          0.0       0.0            0.0   \n",
       "10         5          1.0    0.000000          0.0       0.0            0.0   \n",
       "11         6         12.0    0.294118          0.0       0.0            0.0   \n",
       "2          1         60.0    0.318182          0.0       0.0            0.0   \n",
       "3         10         58.0    0.348315          0.0       0.0            0.0   \n",
       "7          2         42.0    0.382353          0.0       0.0            0.0   \n",
       "12         7       1155.0    0.438859          2.0       3.0            1.0   \n",
       "9          4         16.0    0.500000          0.0       0.0            0.0   \n",
       "0       None       2371.0    0.509776          7.0      21.0            8.0   \n",
       "8          3        143.0    0.521311          0.0       3.0            0.0   \n",
       "13         9        385.0    0.556701          0.0       2.0            0.0   \n",
       "4         11        311.0    0.632822          0.0       0.0            0.0   \n",
       "6         13        159.0    0.697761          2.0       1.0            0.0   \n",
       "\n",
       "Stage  Total  \n",
       "1          4  \n",
       "5          2  \n",
       "10         1  \n",
       "11        17  \n",
       "2         88  \n",
       "3         89  \n",
       "7         68  \n",
       "12      2069  \n",
       "9         32  \n",
       "0       4910  \n",
       "8        305  \n",
       "13       873  \n",
       "4        847  \n",
       "6        536  "
      ]
     },
     "execution_count": 25,
     "metadata": {},
     "output_type": "execute_result"
    }
   ],
   "source": [
    "sourcesVsWon = opportunities.pivot_table(columns=\"Stage\",index=\"Source\",values=\"Opportunity_ID\", aggfunc=\"count\").fillna(0)\n",
    "sourcesVsWon[\"Total\"] = opportunities[\"Source\"].value_counts()\n",
    "sourcesVsWon = sourcesVsWon.reset_index()\n",
    "sourcesVsWon[\"Source\"] = sourcesVsWon[\"Source\"].apply(lambda x: x.replace(\"Source_\",\"\"))\n",
    "sourcesVsWon[\"Closed Won\"] = sourcesVsWon[\"Closed Won\"]/sourcesVsWon[\"Total\"]\n",
    "sourcesVsWon = sourcesVsWon.sort_values(by=\"Closed Won\")\n",
    "sourcesVsWon"
   ]
  },
  {
   "cell_type": "code",
   "execution_count": 7,
   "metadata": {},
   "outputs": [
    {
     "data": {
      "text/plain": [
       "<seaborn.axisgrid.FacetGrid at 0x7fc980064eb0>"
      ]
     },
     "execution_count": 7,
     "metadata": {},
     "output_type": "execute_result"
    },
    {
     "data": {
      "image/png": "[encoded data removed]",
      "text/plain": [
       "<Figure size 360x360 with 1 Axes>"
      ]
     },
     "metadata": {
      "needs_background": "light"
     },
     "output_type": "display_data"
    },
    {
     "data": {
      "image/png": "[encoded data removed]",
      "text/plain": [
       "<Figure size 360x360 with 1 Axes>"
      ]
     },
     "metadata": {
      "needs_background": "light"
     },
     "output_type": "display_data"
    }
   ],
   "source": [
    "sns.catplot(x=\"Source\", y=\"Closed Won\",kind=\"bar\", data=sourcesVsWon)\n",
    "sourcesVsWonWithoutNone = sourcesVsWon.drop(axis=0, labels=0) #Saco los None\n",
    "sns.catplot(x=\"Source\", y=\"Closed Won\",kind=\"bar\", data=sourcesVsWonWithoutNone,order=sourcesVsWonWithoutNone[\"Source\"])"
   ]
  },
  {
   "cell_type": "markdown",
   "metadata": {},
   "source": [
    "# Filtro los que tienen menos de 100 entradas"
   ]
  },
  {
   "cell_type": "code",
   "execution_count": 8,
   "metadata": {},
   "outputs": [
    {
     "data": {
      "text/html": [
       "<div>\n",
       "<style scoped>\n",
       "    .dataframe tbody tr th:only-of-type {\n",
       "        vertical-align: middle;\n",
       "    }\n",
       "\n",
       "    .dataframe tbody tr th {\n",
       "        vertical-align: top;\n",
       "    }\n",
       "\n",
       "    .dataframe thead th {\n",
       "        text-align: right;\n",
       "    }\n",
       "</style>\n",
       "<table border=\"1\" class=\"dataframe\">\n",
       "  <thead>\n",
       "    <tr style=\"text-align: right;\">\n",
       "      <th>Stage</th>\n",
       "      <th>Source</th>\n",
       "      <th>Closed Lost</th>\n",
       "      <th>Closed Won</th>\n",
       "      <th>Negotiation</th>\n",
       "      <th>Proposal</th>\n",
       "      <th>Qualification</th>\n",
       "      <th>Total</th>\n",
       "    </tr>\n",
       "  </thead>\n",
       "  <tbody>\n",
       "    <tr>\n",
       "      <th>12</th>\n",
       "      <td>7</td>\n",
       "      <td>1155.0</td>\n",
       "      <td>0.438859</td>\n",
       "      <td>2.0</td>\n",
       "      <td>3.0</td>\n",
       "      <td>1.0</td>\n",
       "      <td>2069</td>\n",
       "    </tr>\n",
       "    <tr>\n",
       "      <th>0</th>\n",
       "      <td>None</td>\n",
       "      <td>2371.0</td>\n",
       "      <td>0.509776</td>\n",
       "      <td>7.0</td>\n",
       "      <td>21.0</td>\n",
       "      <td>8.0</td>\n",
       "      <td>4910</td>\n",
       "    </tr>\n",
       "    <tr>\n",
       "      <th>8</th>\n",
       "      <td>3</td>\n",
       "      <td>143.0</td>\n",
       "      <td>0.521311</td>\n",
       "      <td>0.0</td>\n",
       "      <td>3.0</td>\n",
       "      <td>0.0</td>\n",
       "      <td>305</td>\n",
       "    </tr>\n",
       "    <tr>\n",
       "      <th>13</th>\n",
       "      <td>9</td>\n",
       "      <td>385.0</td>\n",
       "      <td>0.556701</td>\n",
       "      <td>0.0</td>\n",
       "      <td>2.0</td>\n",
       "      <td>0.0</td>\n",
       "      <td>873</td>\n",
       "    </tr>\n",
       "    <tr>\n",
       "      <th>4</th>\n",
       "      <td>11</td>\n",
       "      <td>311.0</td>\n",
       "      <td>0.632822</td>\n",
       "      <td>0.0</td>\n",
       "      <td>0.0</td>\n",
       "      <td>0.0</td>\n",
       "      <td>847</td>\n",
       "    </tr>\n",
       "    <tr>\n",
       "      <th>6</th>\n",
       "      <td>13</td>\n",
       "      <td>159.0</td>\n",
       "      <td>0.697761</td>\n",
       "      <td>2.0</td>\n",
       "      <td>1.0</td>\n",
       "      <td>0.0</td>\n",
       "      <td>536</td>\n",
       "    </tr>\n",
       "  </tbody>\n",
       "</table>\n",
       "</div>"
      ],
      "text/plain": [
       "Stage Source  Closed Lost  Closed Won  Negotiation  Proposal  Qualification  \\\n",
       "12         7       1155.0    0.438859          2.0       3.0            1.0   \n",
       "0       None       2371.0    0.509776          7.0      21.0            8.0   \n",
       "8          3        143.0    0.521311          0.0       3.0            0.0   \n",
       "13         9        385.0    0.556701          0.0       2.0            0.0   \n",
       "4         11        311.0    0.632822          0.0       0.0            0.0   \n",
       "6         13        159.0    0.697761          2.0       1.0            0.0   \n",
       "\n",
       "Stage  Total  \n",
       "12      2069  \n",
       "0       4910  \n",
       "8        305  \n",
       "13       873  \n",
       "4        847  \n",
       "6        536  "
      ]
     },
     "execution_count": 8,
     "metadata": {},
     "output_type": "execute_result"
    }
   ],
   "source": [
    "sourcesVsWonFiltered = sourcesVsWon[sourcesVsWon[\"Total\"]>100]\n",
    "sourcesVsWonFiltered"
   ]
  },
  {
   "cell_type": "code",
   "execution_count": 9,
   "metadata": {},
   "outputs": [
    {
     "data": {
      "text/plain": [
       "<seaborn.axisgrid.FacetGrid at 0x7fc97de436d0>"
      ]
     },
     "execution_count": 9,
     "metadata": {},
     "output_type": "execute_result"
    },
    {
     "data": {
      "image/png": "[encoded data removed]",
      "text/plain": [
       "<Figure size 360x360 with 1 Axes>"
      ]
     },
     "metadata": {
      "needs_background": "light"
     },
     "output_type": "display_data"
    },
    {
     "data": {
      "image/png": "[encoded data removed]",
      "text/plain": [
       "<Figure size 360x360 with 1 Axes>"
      ]
     },
     "metadata": {
      "needs_background": "light"
     },
     "output_type": "display_data"
    }
   ],
   "source": [
    "sns.catplot(x=\"Source\", y=\"Closed Won\",kind=\"bar\", data=sourcesVsWonFiltered)\n",
    "sourcesVsWonFilteredWithoutNone = sourcesVsWonFiltered.drop(axis=0, labels=0) #Saco los None\n",
    "sns.catplot(x=\"Source\", y=\"Closed Won\",kind=\"bar\", data=sourcesVsWonFilteredWithoutNone,order=sourcesVsWonFilteredWithoutNone[\"Source\"])\n",
    "\n",
    "#VER EL TEMA DE LOS COLORES"
   ]
  },
  {
   "cell_type": "markdown",
   "metadata": {},
   "source": [
    "# Veo como termina cada Source que tenga mas de 100 entradas"
   ]
  },
  {
   "cell_type": "code",
   "execution_count": 83,
   "metadata": {},
   "outputs": [
    {
     "data": {
      "text/html": [
       "<div>\n",
       "<style scoped>\n",
       "    .dataframe tbody tr th:only-of-type {\n",
       "        vertical-align: middle;\n",
       "    }\n",
       "\n",
       "    .dataframe tbody tr th {\n",
       "        vertical-align: top;\n",
       "    }\n",
       "\n",
       "    .dataframe thead th {\n",
       "        text-align: right;\n",
       "    }\n",
       "</style>\n",
       "<table border=\"1\" class=\"dataframe\">\n",
       "  <thead>\n",
       "    <tr style=\"text-align: right;\">\n",
       "      <th></th>\n",
       "      <th>Source</th>\n",
       "      <th>Stage</th>\n",
       "      <th>Cantidad</th>\n",
       "      <th>Total</th>\n",
       "    </tr>\n",
       "  </thead>\n",
       "  <tbody>\n",
       "    <tr>\n",
       "      <th>0</th>\n",
       "      <td>None</td>\n",
       "      <td>Closed Lost</td>\n",
       "      <td>2371</td>\n",
       "      <td>4910</td>\n",
       "    </tr>\n",
       "    <tr>\n",
       "      <th>1</th>\n",
       "      <td>None</td>\n",
       "      <td>Closed Won</td>\n",
       "      <td>2503</td>\n",
       "      <td>4910</td>\n",
       "    </tr>\n",
       "    <tr>\n",
       "      <th>2</th>\n",
       "      <td>None</td>\n",
       "      <td>Negotiation</td>\n",
       "      <td>7</td>\n",
       "      <td>4910</td>\n",
       "    </tr>\n",
       "    <tr>\n",
       "      <th>3</th>\n",
       "      <td>None</td>\n",
       "      <td>Proposal</td>\n",
       "      <td>21</td>\n",
       "      <td>4910</td>\n",
       "    </tr>\n",
       "    <tr>\n",
       "      <th>4</th>\n",
       "      <td>None</td>\n",
       "      <td>Qualification</td>\n",
       "      <td>8</td>\n",
       "      <td>4910</td>\n",
       "    </tr>\n",
       "    <tr>\n",
       "      <th>5</th>\n",
       "      <td>11</td>\n",
       "      <td>Closed Lost</td>\n",
       "      <td>311</td>\n",
       "      <td>847</td>\n",
       "    </tr>\n",
       "    <tr>\n",
       "      <th>6</th>\n",
       "      <td>11</td>\n",
       "      <td>Closed Won</td>\n",
       "      <td>536</td>\n",
       "      <td>847</td>\n",
       "    </tr>\n",
       "    <tr>\n",
       "      <th>7</th>\n",
       "      <td>13</td>\n",
       "      <td>Closed Lost</td>\n",
       "      <td>159</td>\n",
       "      <td>536</td>\n",
       "    </tr>\n",
       "    <tr>\n",
       "      <th>8</th>\n",
       "      <td>13</td>\n",
       "      <td>Closed Won</td>\n",
       "      <td>374</td>\n",
       "      <td>536</td>\n",
       "    </tr>\n",
       "    <tr>\n",
       "      <th>9</th>\n",
       "      <td>13</td>\n",
       "      <td>Negotiation</td>\n",
       "      <td>2</td>\n",
       "      <td>536</td>\n",
       "    </tr>\n",
       "    <tr>\n",
       "      <th>10</th>\n",
       "      <td>13</td>\n",
       "      <td>Proposal</td>\n",
       "      <td>1</td>\n",
       "      <td>536</td>\n",
       "    </tr>\n",
       "    <tr>\n",
       "      <th>11</th>\n",
       "      <td>3</td>\n",
       "      <td>Closed Lost</td>\n",
       "      <td>143</td>\n",
       "      <td>305</td>\n",
       "    </tr>\n",
       "    <tr>\n",
       "      <th>12</th>\n",
       "      <td>3</td>\n",
       "      <td>Closed Won</td>\n",
       "      <td>159</td>\n",
       "      <td>305</td>\n",
       "    </tr>\n",
       "    <tr>\n",
       "      <th>13</th>\n",
       "      <td>3</td>\n",
       "      <td>Proposal</td>\n",
       "      <td>3</td>\n",
       "      <td>305</td>\n",
       "    </tr>\n",
       "    <tr>\n",
       "      <th>14</th>\n",
       "      <td>7</td>\n",
       "      <td>Closed Lost</td>\n",
       "      <td>1155</td>\n",
       "      <td>2069</td>\n",
       "    </tr>\n",
       "    <tr>\n",
       "      <th>15</th>\n",
       "      <td>7</td>\n",
       "      <td>Closed Won</td>\n",
       "      <td>908</td>\n",
       "      <td>2069</td>\n",
       "    </tr>\n",
       "    <tr>\n",
       "      <th>16</th>\n",
       "      <td>7</td>\n",
       "      <td>Negotiation</td>\n",
       "      <td>2</td>\n",
       "      <td>2069</td>\n",
       "    </tr>\n",
       "    <tr>\n",
       "      <th>17</th>\n",
       "      <td>7</td>\n",
       "      <td>Proposal</td>\n",
       "      <td>3</td>\n",
       "      <td>2069</td>\n",
       "    </tr>\n",
       "    <tr>\n",
       "      <th>18</th>\n",
       "      <td>7</td>\n",
       "      <td>Qualification</td>\n",
       "      <td>1</td>\n",
       "      <td>2069</td>\n",
       "    </tr>\n",
       "    <tr>\n",
       "      <th>19</th>\n",
       "      <td>9</td>\n",
       "      <td>Closed Lost</td>\n",
       "      <td>385</td>\n",
       "      <td>873</td>\n",
       "    </tr>\n",
       "    <tr>\n",
       "      <th>20</th>\n",
       "      <td>9</td>\n",
       "      <td>Closed Won</td>\n",
       "      <td>486</td>\n",
       "      <td>873</td>\n",
       "    </tr>\n",
       "    <tr>\n",
       "      <th>21</th>\n",
       "      <td>9</td>\n",
       "      <td>Proposal</td>\n",
       "      <td>2</td>\n",
       "      <td>873</td>\n",
       "    </tr>\n",
       "  </tbody>\n",
       "</table>\n",
       "</div>"
      ],
      "text/plain": [
       "   Source          Stage  Cantidad  Total\n",
       "0    None    Closed Lost      2371   4910\n",
       "1    None     Closed Won      2503   4910\n",
       "2    None    Negotiation         7   4910\n",
       "3    None       Proposal        21   4910\n",
       "4    None  Qualification         8   4910\n",
       "5      11    Closed Lost       311    847\n",
       "6      11     Closed Won       536    847\n",
       "7      13    Closed Lost       159    536\n",
       "8      13     Closed Won       374    536\n",
       "9      13    Negotiation         2    536\n",
       "10     13       Proposal         1    536\n",
       "11      3    Closed Lost       143    305\n",
       "12      3     Closed Won       159    305\n",
       "13      3       Proposal         3    305\n",
       "14      7    Closed Lost      1155   2069\n",
       "15      7     Closed Won       908   2069\n",
       "16      7    Negotiation         2   2069\n",
       "17      7       Proposal         3   2069\n",
       "18      7  Qualification         1   2069\n",
       "19      9    Closed Lost       385    873\n",
       "20      9     Closed Won       486    873\n",
       "21      9       Proposal         2    873"
      ]
     },
     "execution_count": 83,
     "metadata": {},
     "output_type": "execute_result"
    }
   ],
   "source": [
    "sourcesVsStage = opportunities.groupby([\"Source\",\"Stage\"]).agg({\"Opportunity_ID\":\"count\"})#Consigo la cantidad de veces de cada Stage por cada source\n",
    "sourcesVsStage = sourcesVsStage.reset_index()\n",
    "sourcesVsStage[\"Source\"] = sourcesVsStage[\"Source\"].apply(lambda x: x.replace(\"Source_\",\"\"))\n",
    "sourcesVsStage.rename(columns={\"Opportunity_ID\":\"Cantidad\"},inplace = True)\n",
    "total = sourcesVsStage.groupby(\"Source\").agg({\"Cantidad\":\"sum\"}) #La cantidad total de veces que aparece source\n",
    "sourcesVsStage.set_index(\"Source\",inplace=True)\n",
    "sourcesVsStage[\"Total\"] = total[\"Cantidad\"]\n",
    "sourcesVsStage = sourcesVsStage[sourcesVsStage[\"Total\"]>100]#Filtro a los q tienen mas de 100 entradas\n",
    "sourcesVsStage.reset_index(inplace=True)\n",
    "sourcesVsStage"
   ]
  },
  {
   "cell_type": "code",
   "execution_count": 84,
   "metadata": {},
   "outputs": [
    {
     "data": {
      "text/plain": [
       "<seaborn.axisgrid.FacetGrid at 0x7fc97d326910>"
      ]
     },
     "execution_count": 84,
     "metadata": {},
     "output_type": "execute_result"
    },
    {
     "data": {
      "image/png": "[encoded data removed]",
      "text/plain": [
       "<Figure size 459.25x360 with 1 Axes>"
      ]
     },
     "metadata": {
      "needs_background": "light"
     },
     "output_type": "display_data"
    },
    {
     "data": {
      "image/png": "[encoded data removed]",
      "text/plain": [
       "<Figure size 459.25x360 with 1 Axes>"
      ]
     },
     "metadata": {
      "needs_background": "light"
     },
     "output_type": "display_data"
    }
   ],
   "source": [
    "sns.catplot(x=\"Source\",y=\"Cantidad\",hue=\"Stage\",data=sourcesVsStage,kind=\"bar\")\n",
    "sourcesVsStage.drop(axis=0,labels=[0,1,2,3,4],inplace=True)\n",
    "sns.catplot(x=\"Source\",y=\"Cantidad\",hue=\"Stage\",data=sourcesVsStage,kind=\"bar\")\n",
    "\n",
    "#ME PARECE QUE VA A SER MEJOR SOLO VER CLOSED WON Y CLOSED LOST PORQUE LOS OTROS TIENEN MUY POCOS VALORES"
   ]
  },
  {
   "cell_type": "code",
   "execution_count": null,
   "metadata": {},
   "outputs": [],
   "source": []
  }
 ],
 "metadata": {
  "kernelspec": {
   "display_name": "Python 3",
   "language": "python",
   "name": "python3"
  },
  "language_info": {
   "codemirror_mode": {
    "name": "ipython",
    "version": 3
   },
   "file_extension": ".py",
   "mimetype": "text/x-python",
   "name": "python",
   "nbconvert_exporter": "python",
   "pygments_lexer": "ipython3",
   "version": "3.8.3"
  }
 },
 "nbformat": 4,
 "nbformat_minor": 4
}
