{
 "cells": [
  {
   "cell_type": "code",
   "execution_count": 1,
   "metadata": {},
   "outputs": [],
   "source": [
    "import pandas as pd\n",
    "import numpy as np\n",
    "import matplotlib as mp\n",
    "import seaborn as sns"
   ]
  },
  {
   "cell_type": "code",
   "execution_count": 2,
   "metadata": {},
   "outputs": [],
   "source": [
    "opportunities = pd.read_csv(\"Entrenamieto_ECI_2020.csv\")"
   ]
  },
  {
   "cell_type": "code",
   "execution_count": 3,
   "metadata": {},
   "outputs": [
    {
     "data": {
      "text/html": [
       "<div>\n",
       "<style scoped>\n",
       "    .dataframe tbody tr th:only-of-type {\n",
       "        vertical-align: middle;\n",
       "    }\n",
       "\n",
       "    .dataframe tbody tr th {\n",
       "        vertical-align: top;\n",
       "    }\n",
       "\n",
       "    .dataframe thead th {\n",
       "        text-align: right;\n",
       "    }\n",
       "</style>\n",
       "<table border=\"1\" class=\"dataframe\">\n",
       "  <thead>\n",
       "    <tr style=\"text-align: right;\">\n",
       "      <th></th>\n",
       "      <th>Size</th>\n",
       "      <th>Total</th>\n",
       "    </tr>\n",
       "    <tr>\n",
       "      <th>Opportunity_ID</th>\n",
       "      <th></th>\n",
       "      <th></th>\n",
       "    </tr>\n",
       "  </thead>\n",
       "  <tbody>\n",
       "  </tbody>\n",
       "</table>\n",
       "</div>"
      ],
      "text/plain": [
       "Empty DataFrame\n",
       "Columns: [Size, Total]\n",
       "Index: []"
      ]
     },
     "execution_count": 3,
     "metadata": {},
     "output_type": "execute_result"
    }
   ],
   "source": [
    "sizes = opportunities.groupby(\"Opportunity_ID\").agg({\"Size\":\"unique\"})\n",
    "sizes[\"Total\"] = sizes[\"Size\"].apply(lambda x: len(x))\n",
    "sizes = sizes[sizes[\"Total\"] != 1]\n",
    "sizes\n",
    "# VEO QUE TODAS LAS OPORTUNITIES TENGAN UN SOLO SIZE"
   ]
  },
  {
   "cell_type": "code",
   "execution_count": 4,
   "metadata": {},
   "outputs": [
    {
     "data": {
      "text/html": [
       "<div>\n",
       "<style scoped>\n",
       "    .dataframe tbody tr th:only-of-type {\n",
       "        vertical-align: middle;\n",
       "    }\n",
       "\n",
       "    .dataframe tbody tr th {\n",
       "        vertical-align: top;\n",
       "    }\n",
       "\n",
       "    .dataframe thead th {\n",
       "        text-align: right;\n",
       "    }\n",
       "</style>\n",
       "<table border=\"1\" class=\"dataframe\">\n",
       "  <thead>\n",
       "    <tr style=\"text-align: right;\">\n",
       "      <th></th>\n",
       "      <th>Tamaño</th>\n",
       "      <th>Cantidad de apariciones</th>\n",
       "    </tr>\n",
       "  </thead>\n",
       "  <tbody>\n",
       "    <tr>\n",
       "      <th>0</th>\n",
       "      <td>Other</td>\n",
       "      <td>254</td>\n",
       "    </tr>\n",
       "    <tr>\n",
       "      <th>1</th>\n",
       "      <td>Size_3</td>\n",
       "      <td>245</td>\n",
       "    </tr>\n",
       "    <tr>\n",
       "      <th>2</th>\n",
       "      <td>Size_4</td>\n",
       "      <td>122</td>\n",
       "    </tr>\n",
       "    <tr>\n",
       "      <th>3</th>\n",
       "      <td>Size_1</td>\n",
       "      <td>11</td>\n",
       "    </tr>\n",
       "    <tr>\n",
       "      <th>4</th>\n",
       "      <td>Size_0</td>\n",
       "      <td>5</td>\n",
       "    </tr>\n",
       "    <tr>\n",
       "      <th>5</th>\n",
       "      <td>Size_2</td>\n",
       "      <td>1</td>\n",
       "    </tr>\n",
       "  </tbody>\n",
       "</table>\n",
       "</div>"
      ],
      "text/plain": [
       "   Tamaño  Cantidad de apariciones\n",
       "0   Other                      254\n",
       "1  Size_3                      245\n",
       "2  Size_4                      122\n",
       "3  Size_1                       11\n",
       "4  Size_0                        5\n",
       "5  Size_2                        1"
      ]
     },
     "execution_count": 4,
     "metadata": {},
     "output_type": "execute_result"
    }
   ],
   "source": [
    "opportunities = opportunities[(opportunities[\"Size\"]!=\"None\")]\n",
    "opportunities.drop_duplicates(subset=\"Opportunity_ID\",inplace=True)\n",
    "sizes = opportunities[\"Size\"].value_counts().to_frame()\n",
    "sizes = sizes.reset_index()\n",
    "sizes = sizes.rename(columns={\"index\":\"Tamaño\",\"Size\":\"Cantidad de apariciones\"})\n",
    "sizes"
   ]
  },
  {
   "cell_type": "code",
   "execution_count": 5,
   "metadata": {},
   "outputs": [
    {
     "data": {
      "text/plain": [
       "<matplotlib.axes._subplots.AxesSubplot at 0x7f71bb9cfd60>"
      ]
     },
     "execution_count": 5,
     "metadata": {},
     "output_type": "execute_result"
    },
    {
     "data": {
      "image/png": "[encoded data removed]",
      "text/plain": [
       "<Figure size 432x288 with 1 Axes>"
      ]
     },
     "metadata": {
      "needs_background": "light"
     },
     "output_type": "display_data"
    }
   ],
   "source": [
    "sns.barplot(sizes.Tamaño, sizes[\"Cantidad de apariciones\"])"
   ]
  },
  {
   "cell_type": "code",
   "execution_count": 6,
   "metadata": {},
   "outputs": [
    {
     "data": {
      "text/plain": [
       "<matplotlib.axes._subplots.AxesSubplot at 0x7f71bb8e5760>"
      ]
     },
     "execution_count": 6,
     "metadata": {},
     "output_type": "execute_result"
    },
    {
     "data": {
      "image/png": "[encoded data removed]",
      "text/plain": [
       "<Figure size 432x288 with 1 Axes>"
      ]
     },
     "metadata": {
      "needs_background": "light"
     },
     "output_type": "display_data"
    }
   ],
   "source": [
    "#Borro los tamaños que tienen muy pocos datos\n",
    "sizes = sizes[sizes[\"Cantidad de apariciones\"]>100]\n",
    "sns.barplot(sizes.Tamaño, sizes[\"Cantidad de apariciones\"])"
   ]
  },
  {
   "cell_type": "markdown",
   "metadata": {},
   "source": [
    "# Veo ASP(dolar) promedio de cada size"
   ]
  },
  {
   "cell_type": "code",
   "execution_count": 7,
   "metadata": {},
   "outputs": [
    {
     "data": {
      "text/html": [
       "<div>\n",
       "<style scoped>\n",
       "    .dataframe tbody tr th:only-of-type {\n",
       "        vertical-align: middle;\n",
       "    }\n",
       "\n",
       "    .dataframe tbody tr th {\n",
       "        vertical-align: top;\n",
       "    }\n",
       "\n",
       "    .dataframe thead th {\n",
       "        text-align: right;\n",
       "    }\n",
       "</style>\n",
       "<table border=\"1\" class=\"dataframe\">\n",
       "  <thead>\n",
       "    <tr style=\"text-align: right;\">\n",
       "      <th></th>\n",
       "      <th>Tamaño</th>\n",
       "      <th>ASP(Dolar)</th>\n",
       "      <th>Cantidad</th>\n",
       "    </tr>\n",
       "  </thead>\n",
       "  <tbody>\n",
       "    <tr>\n",
       "      <th>0</th>\n",
       "      <td>Other</td>\n",
       "      <td>0.344258</td>\n",
       "      <td>254</td>\n",
       "    </tr>\n",
       "    <tr>\n",
       "      <th>4</th>\n",
       "      <td>Size_3</td>\n",
       "      <td>0.356324</td>\n",
       "      <td>245</td>\n",
       "    </tr>\n",
       "    <tr>\n",
       "      <th>5</th>\n",
       "      <td>Size_4</td>\n",
       "      <td>0.364506</td>\n",
       "      <td>122</td>\n",
       "    </tr>\n",
       "  </tbody>\n",
       "</table>\n",
       "</div>"
      ],
      "text/plain": [
       "   Tamaño  ASP(Dolar)  Cantidad\n",
       "0   Other    0.344258       254\n",
       "4  Size_3    0.356324       245\n",
       "5  Size_4    0.364506       122"
      ]
     },
     "execution_count": 7,
     "metadata": {},
     "output_type": "execute_result"
    }
   ],
   "source": [
    "#ASP(converted) es siempre USD\n",
    "aspBySize = opportunities[[\"Size\",\"ASP_(converted)\",\"Opportunity_ID\"]].groupby(\"Size\").agg({\"ASP_(converted)\":\"mean\",\"Opportunity_ID\":\"count\"})\n",
    "aspBySize = aspBySize.reset_index()\n",
    "aspBySize.rename(columns={\"ASP_(converted)\":\"ASP(Dolar)\", \"Size\":\"Tamaño\",\"Opportunity_ID\":\"Cantidad\"}, inplace=True) \n",
    "aspBySize = aspBySize[aspBySize[\"Cantidad\"]>100]\n",
    "aspBySize"
   ]
  },
  {
   "cell_type": "code",
   "execution_count": 8,
   "metadata": {},
   "outputs": [
    {
     "data": {
      "text/plain": [
       "<matplotlib.axes._subplots.AxesSubplot at 0x7f71bb2dca00>"
      ]
     },
     "execution_count": 8,
     "metadata": {},
     "output_type": "execute_result"
    },
    {
     "data": {
      "image/png": "[encoded data removed]",
      "text/plain": [
       "<Figure size 432x288 with 1 Axes>"
      ]
     },
     "metadata": {
      "needs_background": "light"
     },
     "output_type": "display_data"
    }
   ],
   "source": [
    "sns.barplot(x=\"Tamaño\",y=\"ASP(Dolar)\",data=aspBySize)\n",
    "#No me dice nada esto, los precios son muy parecidos"
   ]
  },
  {
   "cell_type": "markdown",
   "metadata": {},
   "source": [
    "# Size vs Stage"
   ]
  },
  {
   "cell_type": "code",
   "execution_count": 9,
   "metadata": {},
   "outputs": [
    {
     "data": {
      "text/html": [
       "<div>\n",
       "<style scoped>\n",
       "    .dataframe tbody tr th:only-of-type {\n",
       "        vertical-align: middle;\n",
       "    }\n",
       "\n",
       "    .dataframe tbody tr th {\n",
       "        vertical-align: top;\n",
       "    }\n",
       "\n",
       "    .dataframe thead th {\n",
       "        text-align: right;\n",
       "    }\n",
       "</style>\n",
       "<table border=\"1\" class=\"dataframe\">\n",
       "  <thead>\n",
       "    <tr style=\"text-align: right;\">\n",
       "      <th>Stage</th>\n",
       "      <th>Tamaño</th>\n",
       "      <th>Closed Lost</th>\n",
       "      <th>Total</th>\n",
       "      <th>Porcentaje Closed Lost</th>\n",
       "    </tr>\n",
       "  </thead>\n",
       "  <tbody>\n",
       "    <tr>\n",
       "      <th>0</th>\n",
       "      <td>Other</td>\n",
       "      <td>254</td>\n",
       "      <td>254</td>\n",
       "      <td>1.0</td>\n",
       "    </tr>\n",
       "    <tr>\n",
       "      <th>4</th>\n",
       "      <td>Size_3</td>\n",
       "      <td>245</td>\n",
       "      <td>245</td>\n",
       "      <td>1.0</td>\n",
       "    </tr>\n",
       "    <tr>\n",
       "      <th>5</th>\n",
       "      <td>Size_4</td>\n",
       "      <td>122</td>\n",
       "      <td>122</td>\n",
       "      <td>1.0</td>\n",
       "    </tr>\n",
       "  </tbody>\n",
       "</table>\n",
       "</div>"
      ],
      "text/plain": [
       "Stage  Tamaño  Closed Lost  Total  Porcentaje Closed Lost\n",
       "0       Other          254    254                     1.0\n",
       "4      Size_3          245    245                     1.0\n",
       "5      Size_4          122    122                     1.0"
      ]
     },
     "execution_count": 9,
     "metadata": {},
     "output_type": "execute_result"
    }
   ],
   "source": [
    "sizesVsStage = opportunities.pivot_table(index=\"Size\",columns=\"Stage\",values=\"Opportunity_ID\",aggfunc=\"count\")\n",
    "sizesVsStage[\"Total\"] = opportunities[\"Size\"].value_counts()\n",
    "sizesVsStage[\"Closed Lost Percentage\"] = sizesVsStage[\"Closed Lost\"]/sizesVsStage[\"Total\"]\n",
    "sizesVsStage = sizesVsStage.reset_index()\n",
    "sizesVsStage.rename(columns={\"Closed Lost Percentage\":\"Porcentaje Closed Lost\", \"Size\":\"Tamaño\"},inplace=True)\n",
    "sizesVsStage = sizesVsStage[sizesVsStage[\"Total\"]>100]\n",
    "sizesVsStage"
   ]
  },
  {
   "cell_type": "code",
   "execution_count": 10,
   "metadata": {},
   "outputs": [
    {
     "data": {
      "text/plain": [
       "<matplotlib.axes._subplots.AxesSubplot at 0x7f71bb333430>"
      ]
     },
     "execution_count": 10,
     "metadata": {},
     "output_type": "execute_result"
    },
    {
     "data": {
      "image/png": "[encoded data removed]",
      "text/plain": [
       "<Figure size 432x288 with 1 Axes>"
      ]
     },
     "metadata": {
      "needs_background": "light"
     },
     "output_type": "display_data"
    }
   ],
   "source": [
    "sns.barplot(x=\"Tamaño\",y=\"Porcentaje Closed Lost\",data=sizesVsStage)\n",
    "#MUY FEO EL GRAFICO, PERO MUESTRA QUE TODOS SON CLOSED LOST, ver si se puede hacer de otra forma"
   ]
  },
  {
   "cell_type": "markdown",
   "metadata": {},
   "source": [
    "# Size vs Product Type"
   ]
  },
  {
   "cell_type": "code",
   "execution_count": 11,
   "metadata": {},
   "outputs": [
    {
     "data": {
      "text/html": [
       "<div>\n",
       "<style scoped>\n",
       "    .dataframe tbody tr th:only-of-type {\n",
       "        vertical-align: middle;\n",
       "    }\n",
       "\n",
       "    .dataframe tbody tr th {\n",
       "        vertical-align: top;\n",
       "    }\n",
       "\n",
       "    .dataframe thead th {\n",
       "        text-align: right;\n",
       "    }\n",
       "</style>\n",
       "<table border=\"1\" class=\"dataframe\">\n",
       "  <thead>\n",
       "    <tr style=\"text-align: right;\">\n",
       "      <th></th>\n",
       "      <th>Size</th>\n",
       "      <th>Product_Type</th>\n",
       "      <th>Cantidad</th>\n",
       "      <th>Total Size</th>\n",
       "    </tr>\n",
       "  </thead>\n",
       "  <tbody>\n",
       "    <tr>\n",
       "      <th>0</th>\n",
       "      <td>Other</td>\n",
       "      <td>None</td>\n",
       "      <td>5</td>\n",
       "      <td>254</td>\n",
       "    </tr>\n",
       "    <tr>\n",
       "      <th>1</th>\n",
       "      <td>Other</td>\n",
       "      <td>Other</td>\n",
       "      <td>226</td>\n",
       "      <td>254</td>\n",
       "    </tr>\n",
       "    <tr>\n",
       "      <th>2</th>\n",
       "      <td>Other</td>\n",
       "      <td>Product_Type_0</td>\n",
       "      <td>2</td>\n",
       "      <td>254</td>\n",
       "    </tr>\n",
       "    <tr>\n",
       "      <th>3</th>\n",
       "      <td>Other</td>\n",
       "      <td>Product_Type_1</td>\n",
       "      <td>6</td>\n",
       "      <td>254</td>\n",
       "    </tr>\n",
       "    <tr>\n",
       "      <th>4</th>\n",
       "      <td>Other</td>\n",
       "      <td>Product_Type_2</td>\n",
       "      <td>4</td>\n",
       "      <td>254</td>\n",
       "    </tr>\n",
       "    <tr>\n",
       "      <th>5</th>\n",
       "      <td>Other</td>\n",
       "      <td>Product_Type_3</td>\n",
       "      <td>10</td>\n",
       "      <td>254</td>\n",
       "    </tr>\n",
       "    <tr>\n",
       "      <th>6</th>\n",
       "      <td>Other</td>\n",
       "      <td>Product_Type_4</td>\n",
       "      <td>1</td>\n",
       "      <td>254</td>\n",
       "    </tr>\n",
       "    <tr>\n",
       "      <th>7</th>\n",
       "      <td>Size_3</td>\n",
       "      <td>None</td>\n",
       "      <td>1</td>\n",
       "      <td>245</td>\n",
       "    </tr>\n",
       "    <tr>\n",
       "      <th>8</th>\n",
       "      <td>Size_3</td>\n",
       "      <td>Other</td>\n",
       "      <td>42</td>\n",
       "      <td>245</td>\n",
       "    </tr>\n",
       "    <tr>\n",
       "      <th>9</th>\n",
       "      <td>Size_3</td>\n",
       "      <td>Product_Type_0</td>\n",
       "      <td>42</td>\n",
       "      <td>245</td>\n",
       "    </tr>\n",
       "    <tr>\n",
       "      <th>10</th>\n",
       "      <td>Size_3</td>\n",
       "      <td>Product_Type_1</td>\n",
       "      <td>60</td>\n",
       "      <td>245</td>\n",
       "    </tr>\n",
       "    <tr>\n",
       "      <th>11</th>\n",
       "      <td>Size_3</td>\n",
       "      <td>Product_Type_2</td>\n",
       "      <td>2</td>\n",
       "      <td>245</td>\n",
       "    </tr>\n",
       "    <tr>\n",
       "      <th>12</th>\n",
       "      <td>Size_3</td>\n",
       "      <td>Product_Type_3</td>\n",
       "      <td>72</td>\n",
       "      <td>245</td>\n",
       "    </tr>\n",
       "    <tr>\n",
       "      <th>13</th>\n",
       "      <td>Size_3</td>\n",
       "      <td>Product_Type_4</td>\n",
       "      <td>26</td>\n",
       "      <td>245</td>\n",
       "    </tr>\n",
       "    <tr>\n",
       "      <th>14</th>\n",
       "      <td>Size_4</td>\n",
       "      <td>None</td>\n",
       "      <td>4</td>\n",
       "      <td>122</td>\n",
       "    </tr>\n",
       "    <tr>\n",
       "      <th>15</th>\n",
       "      <td>Size_4</td>\n",
       "      <td>Other</td>\n",
       "      <td>23</td>\n",
       "      <td>122</td>\n",
       "    </tr>\n",
       "    <tr>\n",
       "      <th>16</th>\n",
       "      <td>Size_4</td>\n",
       "      <td>Product_Type_0</td>\n",
       "      <td>21</td>\n",
       "      <td>122</td>\n",
       "    </tr>\n",
       "    <tr>\n",
       "      <th>17</th>\n",
       "      <td>Size_4</td>\n",
       "      <td>Product_Type_1</td>\n",
       "      <td>28</td>\n",
       "      <td>122</td>\n",
       "    </tr>\n",
       "    <tr>\n",
       "      <th>18</th>\n",
       "      <td>Size_4</td>\n",
       "      <td>Product_Type_2</td>\n",
       "      <td>2</td>\n",
       "      <td>122</td>\n",
       "    </tr>\n",
       "    <tr>\n",
       "      <th>19</th>\n",
       "      <td>Size_4</td>\n",
       "      <td>Product_Type_3</td>\n",
       "      <td>33</td>\n",
       "      <td>122</td>\n",
       "    </tr>\n",
       "    <tr>\n",
       "      <th>20</th>\n",
       "      <td>Size_4</td>\n",
       "      <td>Product_Type_4</td>\n",
       "      <td>11</td>\n",
       "      <td>122</td>\n",
       "    </tr>\n",
       "  </tbody>\n",
       "</table>\n",
       "</div>"
      ],
      "text/plain": [
       "      Size    Product_Type  Cantidad  Total Size\n",
       "0    Other            None         5         254\n",
       "1    Other           Other       226         254\n",
       "2    Other  Product_Type_0         2         254\n",
       "3    Other  Product_Type_1         6         254\n",
       "4    Other  Product_Type_2         4         254\n",
       "5    Other  Product_Type_3        10         254\n",
       "6    Other  Product_Type_4         1         254\n",
       "7   Size_3            None         1         245\n",
       "8   Size_3           Other        42         245\n",
       "9   Size_3  Product_Type_0        42         245\n",
       "10  Size_3  Product_Type_1        60         245\n",
       "11  Size_3  Product_Type_2         2         245\n",
       "12  Size_3  Product_Type_3        72         245\n",
       "13  Size_3  Product_Type_4        26         245\n",
       "14  Size_4            None         4         122\n",
       "15  Size_4           Other        23         122\n",
       "16  Size_4  Product_Type_0        21         122\n",
       "17  Size_4  Product_Type_1        28         122\n",
       "18  Size_4  Product_Type_2         2         122\n",
       "19  Size_4  Product_Type_3        33         122\n",
       "20  Size_4  Product_Type_4        11         122"
      ]
     },
     "execution_count": 11,
     "metadata": {},
     "output_type": "execute_result"
    }
   ],
   "source": [
    "sizeVsProductType = opportunities[[\"Size\",\"Product_Type\",\"Opportunity_ID\"]].groupby([\"Size\",\"Product_Type\"]).agg({\"Opportunity_ID\":\"count\"})\n",
    "sizeVsProductType.reset_index(inplace=True)\n",
    "totalSize = sizeVsProductType.groupby(\"Size\").agg({\"Opportunity_ID\":\"sum\"})\n",
    "sizeVsProductType.set_index(\"Size\",inplace=True)\n",
    "sizeVsProductType[\"Total Size\"] = totalSize[\"Opportunity_ID\"]\n",
    "sizeVsProductType = sizeVsProductType[sizeVsProductType[\"Total Size\"]>100]\n",
    "sizeVsProductType.reset_index(inplace=True)\n",
    "sizeVsProductType.rename(columns={\"Opportunity_ID\":\"Cantidad\"},inplace=True)\n",
    "sizeVsProductType"
   ]
  },
  {
   "cell_type": "code",
   "execution_count": 12,
   "metadata": {},
   "outputs": [
    {
     "data": {
      "text/plain": [
       "[Text(0, 0, 'None'),\n",
       " Text(0, 0, 'Other'),\n",
       " Text(0, 0, 'Product_Type_0'),\n",
       " Text(0, 0, 'Product_Type_1'),\n",
       " Text(0, 0, 'Product_Type_2'),\n",
       " Text(0, 0, 'Product_Type_3'),\n",
       " Text(0, 0, 'Product_Type_4')]"
      ]
     },
     "execution_count": 12,
     "metadata": {},
     "output_type": "execute_result"
    },
    {
     "data": {
      "image/png": "[encoded data removed]",
      "text/plain": [
       "<Figure size 432x288 with 1 Axes>"
      ]
     },
     "metadata": {
      "needs_background": "light"
     },
     "output_type": "display_data"
    }
   ],
   "source": [
    "plot = sns.barplot(x=\"Product_Type\",y=\"Cantidad\",hue=\"Size\",data=sizeVsProductType)\n",
    "plot.set_xticklabels(plot.get_xticklabels(), rotation=15)"
   ]
  },
  {
   "cell_type": "code",
   "execution_count": 13,
   "metadata": {},
   "outputs": [
    {
     "data": {
      "text/html": [
       "<div>\n",
       "<style scoped>\n",
       "    .dataframe tbody tr th:only-of-type {\n",
       "        vertical-align: middle;\n",
       "    }\n",
       "\n",
       "    .dataframe tbody tr th {\n",
       "        vertical-align: top;\n",
       "    }\n",
       "\n",
       "    .dataframe thead th {\n",
       "        text-align: right;\n",
       "    }\n",
       "</style>\n",
       "<table border=\"1\" class=\"dataframe\">\n",
       "  <thead>\n",
       "    <tr style=\"text-align: right;\">\n",
       "      <th></th>\n",
       "      <th>Product_Type</th>\n",
       "      <th>Size</th>\n",
       "      <th>Cantidad</th>\n",
       "      <th>Total Size</th>\n",
       "      <th>Total PT</th>\n",
       "    </tr>\n",
       "  </thead>\n",
       "  <tbody>\n",
       "    <tr>\n",
       "      <th>0</th>\n",
       "      <td>Other</td>\n",
       "      <td>Other</td>\n",
       "      <td>226</td>\n",
       "      <td>254</td>\n",
       "      <td>291</td>\n",
       "    </tr>\n",
       "    <tr>\n",
       "      <th>1</th>\n",
       "      <td>Product_Type_0</td>\n",
       "      <td>Other</td>\n",
       "      <td>2</td>\n",
       "      <td>254</td>\n",
       "      <td>65</td>\n",
       "    </tr>\n",
       "    <tr>\n",
       "      <th>2</th>\n",
       "      <td>Product_Type_1</td>\n",
       "      <td>Other</td>\n",
       "      <td>6</td>\n",
       "      <td>254</td>\n",
       "      <td>94</td>\n",
       "    </tr>\n",
       "    <tr>\n",
       "      <th>3</th>\n",
       "      <td>Product_Type_3</td>\n",
       "      <td>Other</td>\n",
       "      <td>10</td>\n",
       "      <td>254</td>\n",
       "      <td>115</td>\n",
       "    </tr>\n",
       "    <tr>\n",
       "      <th>4</th>\n",
       "      <td>Other</td>\n",
       "      <td>Size_3</td>\n",
       "      <td>42</td>\n",
       "      <td>245</td>\n",
       "      <td>291</td>\n",
       "    </tr>\n",
       "    <tr>\n",
       "      <th>5</th>\n",
       "      <td>Product_Type_0</td>\n",
       "      <td>Size_3</td>\n",
       "      <td>42</td>\n",
       "      <td>245</td>\n",
       "      <td>65</td>\n",
       "    </tr>\n",
       "    <tr>\n",
       "      <th>6</th>\n",
       "      <td>Product_Type_1</td>\n",
       "      <td>Size_3</td>\n",
       "      <td>60</td>\n",
       "      <td>245</td>\n",
       "      <td>94</td>\n",
       "    </tr>\n",
       "    <tr>\n",
       "      <th>7</th>\n",
       "      <td>Product_Type_3</td>\n",
       "      <td>Size_3</td>\n",
       "      <td>72</td>\n",
       "      <td>245</td>\n",
       "      <td>115</td>\n",
       "    </tr>\n",
       "    <tr>\n",
       "      <th>8</th>\n",
       "      <td>Other</td>\n",
       "      <td>Size_4</td>\n",
       "      <td>23</td>\n",
       "      <td>122</td>\n",
       "      <td>291</td>\n",
       "    </tr>\n",
       "    <tr>\n",
       "      <th>9</th>\n",
       "      <td>Product_Type_0</td>\n",
       "      <td>Size_4</td>\n",
       "      <td>21</td>\n",
       "      <td>122</td>\n",
       "      <td>65</td>\n",
       "    </tr>\n",
       "    <tr>\n",
       "      <th>10</th>\n",
       "      <td>Product_Type_1</td>\n",
       "      <td>Size_4</td>\n",
       "      <td>28</td>\n",
       "      <td>122</td>\n",
       "      <td>94</td>\n",
       "    </tr>\n",
       "    <tr>\n",
       "      <th>11</th>\n",
       "      <td>Product_Type_3</td>\n",
       "      <td>Size_4</td>\n",
       "      <td>33</td>\n",
       "      <td>122</td>\n",
       "      <td>115</td>\n",
       "    </tr>\n",
       "  </tbody>\n",
       "</table>\n",
       "</div>"
      ],
      "text/plain": [
       "      Product_Type    Size  Cantidad  Total Size  Total PT\n",
       "0            Other   Other       226         254       291\n",
       "1   Product_Type_0   Other         2         254        65\n",
       "2   Product_Type_1   Other         6         254        94\n",
       "3   Product_Type_3   Other        10         254       115\n",
       "4            Other  Size_3        42         245       291\n",
       "5   Product_Type_0  Size_3        42         245        65\n",
       "6   Product_Type_1  Size_3        60         245        94\n",
       "7   Product_Type_3  Size_3        72         245       115\n",
       "8            Other  Size_4        23         122       291\n",
       "9   Product_Type_0  Size_4        21         122        65\n",
       "10  Product_Type_1  Size_4        28         122        94\n",
       "11  Product_Type_3  Size_4        33         122       115"
      ]
     },
     "execution_count": 13,
     "metadata": {},
     "output_type": "execute_result"
    }
   ],
   "source": [
    "#QUIERO SACAR NONE Y PT2 PORQUE TIENEN POCOS DATOS\n",
    "totalPT = sizeVsProductType.groupby(\"Product_Type\").agg({\"Cantidad\":\"sum\"})\n",
    "totalPT\n",
    "sizeVsProductType.set_index(\"Product_Type\",inplace=True)\n",
    "sizeVsProductType[\"Total PT\"] = totalPT[\"Cantidad\"]\n",
    "sizeVsProductType\n",
    "sizeVsProductType = sizeVsProductType[sizeVsProductType[\"Total PT\"]>50]\n",
    "sizeVsProductType.reset_index(inplace=True)\n",
    "sizeVsProductType"
   ]
  },
  {
   "cell_type": "code",
   "execution_count": 14,
   "metadata": {},
   "outputs": [
    {
     "data": {
      "text/plain": [
       "[Text(0, 0, 'Other'),\n",
       " Text(0, 0, 'Product_Type_0'),\n",
       " Text(0, 0, 'Product_Type_1'),\n",
       " Text(0, 0, 'Product_Type_3')]"
      ]
     },
     "execution_count": 14,
     "metadata": {},
     "output_type": "execute_result"
    },
    {
     "data": {
      "image/png": "[encoded data removed]",
      "text/plain": [
       "<Figure size 432x288 with 1 Axes>"
      ]
     },
     "metadata": {
      "needs_background": "light"
     },
     "output_type": "display_data"
    }
   ],
   "source": [
    "plot = sns.barplot(x=\"Product_Type\",y=\"Cantidad\",hue=\"Size\",data=sizeVsProductType)\n",
    "plot.set_xticklabels(plot.get_xticklabels(), rotation=15)\n",
    "#PUEDO VER QUE PARA CAD PRODUCT TYPE PREVALECE EL SIZE 3, SEGUIDO DEL SIZE 4 Y ALGUNOS TIENEN OTHER. LO DE OTHER - OTHER TIENE SENTIDO XQ ES GENERICO"
   ]
  },
  {
   "cell_type": "markdown",
   "metadata": {},
   "source": [
    "# Size vs TRF"
   ]
  },
  {
   "cell_type": "code",
   "execution_count": 21,
   "metadata": {},
   "outputs": [
    {
     "data": {
      "text/html": [
       "<div>\n",
       "<style scoped>\n",
       "    .dataframe tbody tr th:only-of-type {\n",
       "        vertical-align: middle;\n",
       "    }\n",
       "\n",
       "    .dataframe tbody tr th {\n",
       "        vertical-align: top;\n",
       "    }\n",
       "\n",
       "    .dataframe thead th {\n",
       "        text-align: right;\n",
       "    }\n",
       "</style>\n",
       "<table border=\"1\" class=\"dataframe\">\n",
       "  <thead>\n",
       "    <tr style=\"text-align: right;\">\n",
       "      <th></th>\n",
       "      <th>Size</th>\n",
       "      <th>TRF</th>\n",
       "      <th>Opportunity_ID</th>\n",
       "    </tr>\n",
       "  </thead>\n",
       "  <tbody>\n",
       "    <tr>\n",
       "      <th>1</th>\n",
       "      <td>Size_3</td>\n",
       "      <td>2.032653</td>\n",
       "      <td>245</td>\n",
       "    </tr>\n",
       "    <tr>\n",
       "      <th>0</th>\n",
       "      <td>Other</td>\n",
       "      <td>4.027559</td>\n",
       "      <td>254</td>\n",
       "    </tr>\n",
       "    <tr>\n",
       "      <th>2</th>\n",
       "      <td>Size_4</td>\n",
       "      <td>14.368852</td>\n",
       "      <td>122</td>\n",
       "    </tr>\n",
       "  </tbody>\n",
       "</table>\n",
       "</div>"
      ],
      "text/plain": [
       "     Size        TRF  Opportunity_ID\n",
       "1  Size_3   2.032653             245\n",
       "0   Other   4.027559             254\n",
       "2  Size_4  14.368852             122"
      ]
     },
     "execution_count": 21,
     "metadata": {},
     "output_type": "execute_result"
    }
   ],
   "source": [
    "sizeVsTRF = opportunities[[\"Size\",\"TRF\",\"Opportunity_ID\"]].groupby(\"Size\").agg({\"TRF\":\"mean\",\"Opportunity_ID\":\"count\"})\n",
    "sizeVsTRF = sizeVsTRF[(sizeVsTRF[\"TRF\"] > 0) & (sizeVsTRF[\"Opportunity_ID\"]>100)]\n",
    "sizeVsTRF.reset_index(inplace=True)\n",
    "sizeVsTRF = sizeVsTRF.sort_values(by=\"TRF\")\n",
    "sizeVsTRF"
   ]
  },
  {
   "cell_type": "code",
   "execution_count": 22,
   "metadata": {},
   "outputs": [
    {
     "data": {
      "text/plain": [
       "[Text(0, 0, 'Size_3'), Text(0, 0, 'Other'), Text(0, 0, 'Size_4')]"
      ]
     },
     "execution_count": 22,
     "metadata": {},
     "output_type": "execute_result"
    },
    {
     "data": {
      "image/png": "[encoded data removed]",
      "text/plain": [
       "<Figure size 432x288 with 1 Axes>"
      ]
     },
     "metadata": {
      "needs_background": "light"
     },
     "output_type": "display_data"
    }
   ],
   "source": [
    "plot = sns.barplot(x=\"Size\",y=\"TRF\",data=sizeVsTRF)\n",
    "plot.set_xticklabels(plot.get_xticklabels(), rotation=75)"
   ]
  },
  {
   "cell_type": "code",
   "execution_count": null,
   "metadata": {},
   "outputs": [],
   "source": []
  }
 ],
 "metadata": {
  "kernelspec": {
   "display_name": "Python 3",
   "language": "python",
   "name": "python3"
  },
  "language_info": {
   "codemirror_mode": {
    "name": "ipython",
    "version": 3
   },
   "file_extension": ".py",
   "mimetype": "text/x-python",
   "name": "python",
   "nbconvert_exporter": "python",
   "pygments_lexer": "ipython3",
   "version": "3.8.3"
  }
 },
 "nbformat": 4,
 "nbformat_minor": 4
}
