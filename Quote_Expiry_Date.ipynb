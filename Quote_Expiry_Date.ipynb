{
 "cells": [
  {
   "cell_type": "markdown",
   "metadata": {
    "collapsed": true,
    "pycharm": {
     "name": "#%% md\n"
    }
   },
   "source": [
    "Analizo si las oportunidades que tienen fecha de vencimiento\n",
    "para el Quote tienden a perder mas, pareceria logico. O quiza tener esta\n",
    "presion hace que la operacion se lleve a cabo porque no se pospone al\n",
    "dope."
   ]
  },
  {
   "cell_type": "code",
   "execution_count": 25,
   "metadata": {
    "pycharm": {
     "name": "#%%\n"
    }
   },
   "outputs": [
    {
     "name": "stderr",
     "output_type": "stream",
     "text": [
      "/home/marcos/anaconda3/lib/python3.8/site-packages/pandas/core/indexing.py:966: SettingWithCopyWarning: \n",
      "A value is trying to be set on a copy of a slice from a DataFrame.\n",
      "Try using .loc[row_indexer,col_indexer] = value instead\n",
      "\n",
      "See the caveats in the documentation: https://pandas.pydata.org/pandas-docs/stable/user_guide/indexing.html#returning-a-view-versus-a-copy\n",
      "  self.obj[item] = s\n",
      "/home/marcos/anaconda3/lib/python3.8/site-packages/pandas/core/indexing.py:671: SettingWithCopyWarning: \n",
      "A value is trying to be set on a copy of a slice from a DataFrame\n",
      "\n",
      "See the caveats in the documentation: https://pandas.pydata.org/pandas-docs/stable/user_guide/indexing.html#returning-a-view-versus-a-copy\n",
      "  self._setitem_with_indexer(indexer, value)\n",
      "<ipython-input-25-b38d4facd14e>:14: SettingWithCopyWarning: \n",
      "A value is trying to be set on a copy of a slice from a DataFrame\n",
      "\n",
      "See the caveats in the documentation: https://pandas.pydata.org/pandas-docs/stable/user_guide/indexing.html#returning-a-view-versus-a-copy\n",
      "  quoteDates.loc[quoteDates['Quote_Expiry_Date'].isnull(), 'Quote_Expiry_Date'] = 'No' #Pandas se queja de slice copy pero esta flasheando de nuevo\n",
      "/home/marcos/anaconda3/lib/python3.8/site-packages/pandas/core/frame.py:4166: SettingWithCopyWarning: \n",
      "A value is trying to be set on a copy of a slice from a DataFrame\n",
      "\n",
      "See the caveats in the documentation: https://pandas.pydata.org/pandas-docs/stable/user_guide/indexing.html#returning-a-view-versus-a-copy\n",
      "  return super().replace(\n"
     ]
    },
    {
     "data": {
      "text/plain": [
       "<matplotlib.axes._subplots.AxesSubplot at 0x7fa237178f40>"
      ]
     },
     "execution_count": 25,
     "metadata": {},
     "output_type": "execute_result"
    },
    {
     "data": {
      "image/png": "[encoded data removed]",
      "text/plain": [
       "<Figure size 432x288 with 1 Axes>"
      ]
     },
     "metadata": {
      "needs_background": "light"
     },
     "output_type": "display_data"
    }
   ],
   "source": [
    "import pandas as pd\n",
    "import seaborn as sns\n",
    "\n",
    "data = pd.read_csv('Entrenamieto_ECI_2020.csv')\n",
    "\n",
    "data['Quote_Expiry_Date'] = pd.to_datetime(data['Quote_Expiry_Date'], 'coerce',\n",
    "                                           format='%m/%d/%Y')\n",
    "data.drop_duplicates(subset='Opportunity_ID', inplace=True)\n",
    "data = data[data['Stage'].isin(['Closed Won', 'Closed Lost'])] #Me quedo con los won y lost, los otros nome interesan\n",
    "\n",
    "\n",
    "quoteDates = data[['Quote_Expiry_Date', 'Stage']]\n",
    "quoteDates.loc[~quoteDates['Quote_Expiry_Date'].isnull(), 'Quote_Expiry_Date'] = 'Yes' #Pandas se queja de slice copy pero esta flasheando de nuevo\n",
    "quoteDates.loc[quoteDates['Quote_Expiry_Date'].isnull(), 'Quote_Expiry_Date'] = 'No' #Pandas se queja de slice copy pero esta flasheando de nuevo\n",
    "quoteDates.replace(['Closed Won', 'Closed Lost'], [1, 0], inplace=True)\n",
    "qouteWonRate = quoteDates.groupby('Quote_Expiry_Date').agg({'Stage':'mean'})\n",
    "\n",
    "qouteWonRate.rename(columns={'Stage':'Won Rate'}, inplace=True)\n",
    "qouteWonRate.rename_axis(index='Has Quote Expiry Date', inplace=True)\n",
    "qouteWonRate.reset_index(inplace=True)\n",
    "\n",
    "sns.barplot(x='Has Quote Expiry Date', y='Won Rate', data=qouteWonRate)"
   ]
  }
 ],
 "metadata": {
  "kernelspec": {
   "display_name": "Python 3",
   "language": "python",
   "name": "python3"
  },
  "language_info": {
   "codemirror_mode": {
    "name": "ipython",
    "version": 3
   },
   "file_extension": ".py",
   "mimetype": "text/x-python",
   "name": "python",
   "nbconvert_exporter": "python",
   "pygments_lexer": "ipython3",
   "version": "3.8.3"
  }
 },
 "nbformat": 4,
 "nbformat_minor": 1
}