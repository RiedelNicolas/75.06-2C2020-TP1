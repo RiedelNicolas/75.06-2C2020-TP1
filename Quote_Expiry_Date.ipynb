{
 "cells": [
  {
   "cell_type": "markdown",
   "metadata": {
    "collapsed": true,
    "pycharm": {
     "name": "#%% md\n"
    }
   },
   "source": [
    "Analizo si las oportunidades que tienen fecha de vencimiento\n",
    "para el Quote tienden a perder mas, pareceria logico. O quiza tener esta\n",
    "presion hace que la operacion se lleve a cabo porque no se pospone al\n",
    "dope."
   ]
  },
  {
   "cell_type": "code",
   "execution_count": 6,
   "metadata": {
    "pycharm": {
     "name": "#%%\n"
    }
   },
   "outputs": [
    {
     "name": "stderr",
     "output_type": "stream",
     "text": [
      "/home/marcos/anaconda3/lib/python3.8/site-packages/pandas/core/indexing.py:966: SettingWithCopyWarning: \n",
      "A value is trying to be set on a copy of a slice from a DataFrame.\n",
      "Try using .loc[row_indexer,col_indexer] = value instead\n",
      "\n",
      "See the caveats in the documentation: https://pandas.pydata.org/pandas-docs/stable/user_guide/indexing.html#returning-a-view-versus-a-copy\n",
      "  self.obj[item] = s\n",
      "/home/marcos/anaconda3/lib/python3.8/site-packages/pandas/core/indexing.py:671: SettingWithCopyWarning: \n",
      "A value is trying to be set on a copy of a slice from a DataFrame\n",
      "\n",
      "See the caveats in the documentation: https://pandas.pydata.org/pandas-docs/stable/user_guide/indexing.html#returning-a-view-versus-a-copy\n",
      "  self._setitem_with_indexer(indexer, value)\n",
      "<ipython-input-6-3d6ee80223f6>:16: SettingWithCopyWarning: \n",
      "A value is trying to be set on a copy of a slice from a DataFrame\n",
      "\n",
      "See the caveats in the documentation: https://pandas.pydata.org/pandas-docs/stable/user_guide/indexing.html#returning-a-view-versus-a-copy\n",
      "  quoteDates.loc[quoteDates['Quote_Expiry_Date'].isnull(), 'Quote_Expiry_Date'] = 'No' #Pandas se queja de slice copy pero esta flasheando de nuevo\n",
      "/home/marcos/anaconda3/lib/python3.8/site-packages/pandas/core/frame.py:4166: SettingWithCopyWarning: \n",
      "A value is trying to be set on a copy of a slice from a DataFrame\n",
      "\n",
      "See the caveats in the documentation: https://pandas.pydata.org/pandas-docs/stable/user_guide/indexing.html#returning-a-view-versus-a-copy\n",
      "  return super().replace(\n"
     ]
    },
    {
     "data": {
      "text/plain": "<Figure size 432x288 with 1 Axes>",
      "image/png": "[encoded data removed]"
     },
     "metadata": {
      "needs_background": "light"
     },
     "output_type": "display_data"
    }
   ],
   "source": [
    "import pandas as pd\n",
    "import seaborn as sns\n",
    "import matplotlib.pyplot as plt\n",
    "import numpy as np\n",
    "\n",
    "data = pd.read_csv('Entrenamieto_ECI_2020.csv')\n",
    "\n",
    "data['Quote_Expiry_Date'] = pd.to_datetime(data['Quote_Expiry_Date'], 'coerce',\n",
    "                                           format='%m/%d/%Y')\n",
    "data.drop_duplicates(subset='Opportunity_ID', inplace=True)\n",
    "data = data[data['Stage'].isin(['Closed Won', 'Closed Lost'])] #Me quedo con los won y lost, los otros nome interesan\n",
    "\n",
    "\n",
    "quoteDates = data[['Quote_Expiry_Date', 'Stage']]\n",
    "quoteDates.loc[~quoteDates['Quote_Expiry_Date'].isnull(), 'Quote_Expiry_Date'] = 'Si' #Pandas se queja de slice copy pero esta flasheando de nuevo\n",
    "quoteDates.loc[quoteDates['Quote_Expiry_Date'].isnull(), 'Quote_Expiry_Date'] = 'No' #Pandas se queja de slice copy pero esta flasheando de nuevo\n",
    "quoteDates.replace(['Closed Won', 'Closed Lost'], [1, 0], inplace=True)\n",
    "qouteWonRate = quoteDates.groupby('Quote_Expiry_Date').agg({'Stage':'mean'}).sort_values('Quote_Expiry_Date', ascending=False)\n",
    "\n",
    "qouteWonRate.rename(columns={'Stage':'Won Rate'}, inplace=True)\n",
    "qouteWonRate.rename_axis(index='Has Quote Expiry Date', inplace=True)\n",
    "qouteWonRate.reset_index(inplace=True)\n",
    "\n",
    "cmap = plt.get_cmap('YlGnBu')\n",
    "saltos = np.linspace(0.7, 0.6, 2)\n",
    "colores = cmap(saltos)\n",
    "\n",
    "ax = sns.barplot(x='Has Quote Expiry Date', y='Won Rate', data=qouteWonRate, palette=colores)\n",
    "\n",
    "ax.set(xlabel='Tiene fecha de vencimiento de cuota', ylabel='Proporcion de oportunidades ganadas')\n",
    "\n",
    "plt.savefig('img/DeliveryAndExpiryDate/ExpiryDateRate.png')"
   ]
  }
 ],
 "metadata": {
  "kernelspec": {
   "display_name": "Python 3",
   "language": "python",
   "name": "python3"
  },
  "language_info": {
   "codemirror_mode": {
    "name": "ipython",
    "version": 3
   },
   "file_extension": ".py",
   "mimetype": "text/x-python",
   "name": "python",
   "nbconvert_exporter": "python",
   "pygments_lexer": "ipython3",
   "version": "3.8.3"
  }
 },
 "nbformat": 4,
 "nbformat_minor": 1
}