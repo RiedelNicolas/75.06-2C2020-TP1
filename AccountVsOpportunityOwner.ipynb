{
 "cells": [
  {
   "cell_type": "markdown",
   "metadata": {
    "collapsed": true,
    "pycharm": {
     "name": "#%% md\n"
    }
   },
   "source": [
    "Voy a analizar si quiza haya alguna relacion (aka mas chances de ganar la stage)\n",
    "cuando los account y opportunity owner matchean."
   ]
  },
  {
   "cell_type": "code",
   "execution_count": 22,
   "outputs": [
    {
     "data": {
      "text/plain": "<matplotlib.axes._subplots.AxesSubplot at 0x7f4d99296880>"
     },
     "execution_count": 22,
     "metadata": {},
     "output_type": "execute_result"
    },
    {
     "data": {
      "text/plain": "<Figure size 432x288 with 1 Axes>",
      "image/png": "[encoded data removed]"
     },
     "metadata": {
      "needs_background": "light"
     },
     "output_type": "display_data"
    }
   ],
   "source": [
    "import pandas as pd\n",
    "import seaborn as sns\n",
    "\n",
    "data = pd.read_csv('Entrenamieto_ECI_2020.csv')\n",
    "data.drop_duplicates('Opportunity_ID', inplace=True) #Los owners se mantienen entre oportunidades asi que dropeo las repetidas\n",
    "data.replace(['Closed Won', 'Closed Lost'], [1, 0], inplace=True)\n",
    "data = data[data['Stage'].isin([1, 0])]\n",
    "\n",
    "data = data[['Account_Owner', 'Opportunity_Owner', 'Stage']]\n",
    "\n",
    "sameOwners = data[data['Account_Owner'] == data['Opportunity_Owner']]\n",
    "\n",
    "diffOwners = data[data['Account_Owner'] != data['Opportunity_Owner']]\n",
    "\n",
    "owners = pd.DataFrame(columns=['Won Rate'])\n",
    "owners['Won Rate'] = (sameOwners['Stage'].mean(), diffOwners['Stage'].mean())\n",
    "owners.rename(index={0:'Same Owner', 1:'Different Owner'}, inplace=True)\n",
    "owners = owners.reset_index().rename(columns={'index':''})\n",
    "\n",
    "sns.barplot(x='', y='Won Rate', data=owners)"
   ],
   "metadata": {
    "collapsed": false,
    "pycharm": {
     "name": "#%%\n"
    }
   }
  }
 ],
 "metadata": {
  "kernelspec": {
   "display_name": "Python 3",
   "language": "python",
   "name": "python3"
  },
  "language_info": {
   "codemirror_mode": {
    "name": "ipython",
    "version": 2
   },
   "file_extension": ".py",
   "mimetype": "text/x-python",
   "name": "python",
   "nbconvert_exporter": "python",
   "pygments_lexer": "ipython2",
   "version": "2.7.6"
  }
 },
 "nbformat": 4,
 "nbformat_minor": 0
}