{
 "cells": [
  {
   "cell_type": "code",
   "execution_count": 51,
   "metadata": {},
   "outputs": [],
   "source": [
    "import pandas as pd\n",
    "import numpy as np\n",
    "#import matplotlib as mp\n",
    "import seaborn as sns\n",
    "import matplotlib.pyplot as plt"
   ]
  },
  {
   "cell_type": "code",
   "execution_count": 52,
   "metadata": {},
   "outputs": [],
   "source": [
    "opportunities = pd.read_csv(\"Entrenamieto_ECI_2020.csv\")"
   ]
  },
  {
   "cell_type": "markdown",
   "metadata": {},
   "source": [
    "# Cantidad de apariciones de cada tipo de oportunidad"
   ]
  },
  {
   "cell_type": "code",
   "execution_count": 53,
   "metadata": {},
   "outputs": [
    {
     "data": {
      "text/html": [
       "<div>\n",
       "<style scoped>\n",
       "    .dataframe tbody tr th:only-of-type {\n",
       "        vertical-align: middle;\n",
       "    }\n",
       "\n",
       "    .dataframe tbody tr th {\n",
       "        vertical-align: top;\n",
       "    }\n",
       "\n",
       "    .dataframe thead th {\n",
       "        text-align: right;\n",
       "    }\n",
       "</style>\n",
       "<table border=\"1\" class=\"dataframe\">\n",
       "  <thead>\n",
       "    <tr style=\"text-align: right;\">\n",
       "      <th></th>\n",
       "      <th>Opportunity_Type</th>\n",
       "      <th>Cantidad</th>\n",
       "    </tr>\n",
       "  </thead>\n",
       "  <tbody>\n",
       "    <tr>\n",
       "      <th>13</th>\n",
       "      <td>20</td>\n",
       "      <td>135</td>\n",
       "    </tr>\n",
       "    <tr>\n",
       "      <th>4</th>\n",
       "      <td>12</td>\n",
       "      <td>138</td>\n",
       "    </tr>\n",
       "    <tr>\n",
       "      <th>18</th>\n",
       "      <td>3</td>\n",
       "      <td>183</td>\n",
       "    </tr>\n",
       "    <tr>\n",
       "      <th>23</th>\n",
       "      <td>8</td>\n",
       "      <td>735</td>\n",
       "    </tr>\n",
       "    <tr>\n",
       "      <th>11</th>\n",
       "      <td>19</td>\n",
       "      <td>1287</td>\n",
       "    </tr>\n",
       "    <tr>\n",
       "      <th>22</th>\n",
       "      <td>7</td>\n",
       "      <td>1998</td>\n",
       "    </tr>\n",
       "    <tr>\n",
       "      <th>1</th>\n",
       "      <td>1</td>\n",
       "      <td>5160</td>\n",
       "    </tr>\n",
       "  </tbody>\n",
       "</table>\n",
       "</div>"
      ],
      "text/plain": [
       "   Opportunity_Type  Cantidad\n",
       "13               20       135\n",
       "4                12       138\n",
       "18                3       183\n",
       "23                8       735\n",
       "11               19      1287\n",
       "22                7      1998\n",
       "1                 1      5160"
      ]
     },
     "execution_count": 53,
     "metadata": {},
     "output_type": "execute_result"
    }
   ],
   "source": [
    "opportunities.drop_duplicates(subset=\"Opportunity_ID\",inplace=True)\n",
    "opTypes = opportunities[[\"Opportunity_Type\",\"Opportunity_ID\"]].groupby(\"Opportunity_Type\").agg({\"Opportunity_ID\":\"count\"})\n",
    "opTypes.rename(columns={\"Opportunity_ID\":\"Cantidad\"},inplace=True)\n",
    "opTypes.reset_index(inplace=True)\n",
    "opTypes = opTypes[opTypes[\"Cantidad\"] > 100]\n",
    "opTypes[\"Opportunity_Type\"] = opTypes[\"Opportunity_Type\"].apply(lambda x: x.replace(\"Opportunity_Type_\",\"\"))\n",
    "opTypes.sort_values(by=\"Cantidad\",inplace=True)\n",
    "opTypes"
   ]
  },
  {
   "cell_type": "code",
   "execution_count": 57,
   "metadata": {},
   "outputs": [
    {
     "data": {
      "image/png": "[encoded data removed]",
      "text/plain": [
       "<Figure size 432x288 with 1 Axes>"
      ]
     },
     "metadata": {
      "needs_background": "light"
     },
     "output_type": "display_data"
    }
   ],
   "source": [
    "plot = sns.barplot(x=\"Opportunity_Type\",y=\"Cantidad\",data=opTypes,order=opTypes[\"Opportunity_Type\"])\n",
    "plt.xlabel(\"Opportunity Type\")\n",
    "plt.ylabel(\"Cantidad\")\n",
    "plt.title(\"Frecuencia de Opportunity Type\")\n",
    "plt.savefig(\"img/OpType/CantidadOpType.png\")#,bbox_inches=tr.Bbox([[0, -0.3],[6,4]]))\n",
    "plt.show(plot)"
   ]
  },
  {
   "cell_type": "markdown",
   "metadata": {},
   "source": [
    "# OP TYPE VS STAGE"
   ]
  },
  {
   "cell_type": "code",
   "execution_count": 21,
   "metadata": {},
   "outputs": [
    {
     "data": {
      "text/html": [
       "<div>\n",
       "<style scoped>\n",
       "    .dataframe tbody tr th:only-of-type {\n",
       "        vertical-align: middle;\n",
       "    }\n",
       "\n",
       "    .dataframe tbody tr th {\n",
       "        vertical-align: top;\n",
       "    }\n",
       "\n",
       "    .dataframe thead th {\n",
       "        text-align: right;\n",
       "    }\n",
       "</style>\n",
       "<table border=\"1\" class=\"dataframe\">\n",
       "  <thead>\n",
       "    <tr style=\"text-align: right;\">\n",
       "      <th></th>\n",
       "      <th>Opportunity_Type</th>\n",
       "      <th>Stage</th>\n",
       "      <th>Cantidad</th>\n",
       "      <th>Total</th>\n",
       "      <th>Porcentaje</th>\n",
       "    </tr>\n",
       "  </thead>\n",
       "  <tbody>\n",
       "    <tr>\n",
       "      <th>0</th>\n",
       "      <td>1</td>\n",
       "      <td>Closed Lost</td>\n",
       "      <td>2460</td>\n",
       "      <td>5160</td>\n",
       "      <td>0.476744</td>\n",
       "    </tr>\n",
       "    <tr>\n",
       "      <th>1</th>\n",
       "      <td>1</td>\n",
       "      <td>Closed Won</td>\n",
       "      <td>2668</td>\n",
       "      <td>5160</td>\n",
       "      <td>0.517054</td>\n",
       "    </tr>\n",
       "    <tr>\n",
       "      <th>5</th>\n",
       "      <td>12</td>\n",
       "      <td>Closed Lost</td>\n",
       "      <td>16</td>\n",
       "      <td>138</td>\n",
       "      <td>0.115942</td>\n",
       "    </tr>\n",
       "    <tr>\n",
       "      <th>6</th>\n",
       "      <td>12</td>\n",
       "      <td>Closed Won</td>\n",
       "      <td>122</td>\n",
       "      <td>138</td>\n",
       "      <td>0.884058</td>\n",
       "    </tr>\n",
       "    <tr>\n",
       "      <th>7</th>\n",
       "      <td>19</td>\n",
       "      <td>Closed Lost</td>\n",
       "      <td>1075</td>\n",
       "      <td>1287</td>\n",
       "      <td>0.835276</td>\n",
       "    </tr>\n",
       "    <tr>\n",
       "      <th>8</th>\n",
       "      <td>19</td>\n",
       "      <td>Closed Won</td>\n",
       "      <td>202</td>\n",
       "      <td>1287</td>\n",
       "      <td>0.156954</td>\n",
       "    </tr>\n",
       "    <tr>\n",
       "      <th>12</th>\n",
       "      <td>20</td>\n",
       "      <td>Closed Lost</td>\n",
       "      <td>105</td>\n",
       "      <td>135</td>\n",
       "      <td>0.777778</td>\n",
       "    </tr>\n",
       "    <tr>\n",
       "      <th>13</th>\n",
       "      <td>20</td>\n",
       "      <td>Closed Won</td>\n",
       "      <td>30</td>\n",
       "      <td>135</td>\n",
       "      <td>0.222222</td>\n",
       "    </tr>\n",
       "    <tr>\n",
       "      <th>14</th>\n",
       "      <td>3</td>\n",
       "      <td>Closed Lost</td>\n",
       "      <td>100</td>\n",
       "      <td>183</td>\n",
       "      <td>0.546448</td>\n",
       "    </tr>\n",
       "    <tr>\n",
       "      <th>15</th>\n",
       "      <td>3</td>\n",
       "      <td>Closed Won</td>\n",
       "      <td>82</td>\n",
       "      <td>183</td>\n",
       "      <td>0.448087</td>\n",
       "    </tr>\n",
       "    <tr>\n",
       "      <th>17</th>\n",
       "      <td>7</td>\n",
       "      <td>Closed Lost</td>\n",
       "      <td>622</td>\n",
       "      <td>1998</td>\n",
       "      <td>0.311311</td>\n",
       "    </tr>\n",
       "    <tr>\n",
       "      <th>18</th>\n",
       "      <td>7</td>\n",
       "      <td>Closed Won</td>\n",
       "      <td>1373</td>\n",
       "      <td>1998</td>\n",
       "      <td>0.687187</td>\n",
       "    </tr>\n",
       "    <tr>\n",
       "      <th>20</th>\n",
       "      <td>8</td>\n",
       "      <td>Closed Lost</td>\n",
       "      <td>219</td>\n",
       "      <td>735</td>\n",
       "      <td>0.297959</td>\n",
       "    </tr>\n",
       "    <tr>\n",
       "      <th>21</th>\n",
       "      <td>8</td>\n",
       "      <td>Closed Won</td>\n",
       "      <td>516</td>\n",
       "      <td>735</td>\n",
       "      <td>0.702041</td>\n",
       "    </tr>\n",
       "  </tbody>\n",
       "</table>\n",
       "</div>"
      ],
      "text/plain": [
       "   Opportunity_Type        Stage  Cantidad  Total  Porcentaje\n",
       "0                 1  Closed Lost      2460   5160    0.476744\n",
       "1                 1   Closed Won      2668   5160    0.517054\n",
       "5                12  Closed Lost        16    138    0.115942\n",
       "6                12   Closed Won       122    138    0.884058\n",
       "7                19  Closed Lost      1075   1287    0.835276\n",
       "8                19   Closed Won       202   1287    0.156954\n",
       "12               20  Closed Lost       105    135    0.777778\n",
       "13               20   Closed Won        30    135    0.222222\n",
       "14                3  Closed Lost       100    183    0.546448\n",
       "15                3   Closed Won        82    183    0.448087\n",
       "17                7  Closed Lost       622   1998    0.311311\n",
       "18                7   Closed Won      1373   1998    0.687187\n",
       "20                8  Closed Lost       219    735    0.297959\n",
       "21                8   Closed Won       516    735    0.702041"
      ]
     },
     "execution_count": 21,
     "metadata": {},
     "output_type": "execute_result"
    }
   ],
   "source": [
    "opTypeVsStage = opportunities.groupby([\"Opportunity_Type\",\"Stage\"]).agg({\"Opportunity_ID\":\"count\"})#Consigo la cantidad de veces de cada OT por cada source\n",
    "opTypeVsStage = opTypeVsStage.reset_index()\n",
    "#opTypeVsStage[\"Opportunity_Type\"] = opTypeVsStage[\"Opportunity_Type\"].apply(lambda x: x.replace(\"Opportunity_Type_\",\"\"))\n",
    "opTypeVsStage.rename(columns={\"Opportunity_ID\":\"Cantidad\"},inplace = True)\n",
    "total = opTypeVsStage.groupby(\"Opportunity_Type\").agg({\"Cantidad\":\"sum\"}) #La cantidad total de veces que aparece OT\n",
    "opTypeVsStage.set_index(\"Opportunity_Type\",inplace=True)\n",
    "opTypeVsStage[\"Total\"] = total[\"Cantidad\"]\n",
    "opTypeVsStage = opTypeVsStage[opTypeVsStage[\"Total\"]>100]#Filtro a los q tienen mas de 100 entradas\n",
    "opTypeVsStage.reset_index(inplace=True)\n",
    "opTypeVsStage = opTypeVsStage[(opTypeVsStage[\"Stage\"]==\"Closed Won\") | (opTypeVsStage[\"Stage\"]==\"Closed Lost\")]\n",
    "opTypeVsStage[\"Porcentaje\"] = opTypeVsStage[\"Cantidad\"]/opTypeVsStage[\"Total\"]\n",
    "opTypeVsStage[\"Opportunity_Type\"] = opTypeVsStage[\"Opportunity_Type\"].apply(lambda x: x.replace(\"Opportunity_Type_\",\"\"))\n",
    "opTypeVsStage"
   ]
  },
  {
   "cell_type": "code",
   "execution_count": 22,
   "metadata": {},
   "outputs": [
    {
     "data": {
      "image/png": "[encoded data removed]",
      "text/plain": [
       "<Figure size 432x288 with 1 Axes>"
      ]
     },
     "metadata": {
      "needs_background": "light"
     },
     "output_type": "display_data"
    }
   ],
   "source": [
    "plot = sns.barplot(x=\"Opportunity_Type\",y=\"Porcentaje\",hue=\"Stage\",data=opTypeVsStage)\n",
    "#plot.set_xticklabels(plot.get_xticklabels(), rotation=30)\n",
    "plt.xlabel(\"Opportunity Type\")\n",
    "plt.ylabel(\"Cantidad\")\n",
    "plt.title(\"Oportunidades Ganadas vs Perdidas\")\n",
    "plt.savefig(\"img/OpType/ClosedWonVsLostPorOpType.png\")#,bbox_inches=tr.Bbox([[0, -0.3],[6,4]]))\n",
    "plt.show(plot)"
   ]
  },
  {
   "cell_type": "markdown",
   "metadata": {},
   "source": [
    "# Op Types vs ASP"
   ]
  },
  {
   "cell_type": "code",
   "execution_count": 34,
   "metadata": {},
   "outputs": [
    {
     "data": {
      "text/html": [
       "<div>\n",
       "<style scoped>\n",
       "    .dataframe tbody tr th:only-of-type {\n",
       "        vertical-align: middle;\n",
       "    }\n",
       "\n",
       "    .dataframe tbody tr th {\n",
       "        vertical-align: top;\n",
       "    }\n",
       "\n",
       "    .dataframe thead th {\n",
       "        text-align: right;\n",
       "    }\n",
       "</style>\n",
       "<table border=\"1\" class=\"dataframe\">\n",
       "  <thead>\n",
       "    <tr style=\"text-align: right;\">\n",
       "      <th></th>\n",
       "      <th>Opportunity_Type</th>\n",
       "      <th>ASP_(converted)</th>\n",
       "      <th>Cantidad</th>\n",
       "    </tr>\n",
       "  </thead>\n",
       "  <tbody>\n",
       "    <tr>\n",
       "      <th>4</th>\n",
       "      <td>12</td>\n",
       "      <td>0.349652</td>\n",
       "      <td>138</td>\n",
       "    </tr>\n",
       "    <tr>\n",
       "      <th>18</th>\n",
       "      <td>3</td>\n",
       "      <td>0.404088</td>\n",
       "      <td>183</td>\n",
       "    </tr>\n",
       "    <tr>\n",
       "      <th>13</th>\n",
       "      <td>20</td>\n",
       "      <td>0.418260</td>\n",
       "      <td>135</td>\n",
       "    </tr>\n",
       "    <tr>\n",
       "      <th>22</th>\n",
       "      <td>7</td>\n",
       "      <td>0.431177</td>\n",
       "      <td>1998</td>\n",
       "    </tr>\n",
       "    <tr>\n",
       "      <th>23</th>\n",
       "      <td>8</td>\n",
       "      <td>0.432679</td>\n",
       "      <td>735</td>\n",
       "    </tr>\n",
       "    <tr>\n",
       "      <th>1</th>\n",
       "      <td>1</td>\n",
       "      <td>0.440101</td>\n",
       "      <td>5160</td>\n",
       "    </tr>\n",
       "    <tr>\n",
       "      <th>11</th>\n",
       "      <td>19</td>\n",
       "      <td>0.469482</td>\n",
       "      <td>1287</td>\n",
       "    </tr>\n",
       "  </tbody>\n",
       "</table>\n",
       "</div>"
      ],
      "text/plain": [
       "   Opportunity_Type  ASP_(converted)  Cantidad\n",
       "4                12         0.349652       138\n",
       "18                3         0.404088       183\n",
       "13               20         0.418260       135\n",
       "22                7         0.431177      1998\n",
       "23                8         0.432679       735\n",
       "1                 1         0.440101      5160\n",
       "11               19         0.469482      1287"
      ]
     },
     "execution_count": 34,
     "metadata": {},
     "output_type": "execute_result"
    }
   ],
   "source": [
    "#ASP(converted) es siempre USD\n",
    "opTypesVsASP = opportunities[[\"Opportunity_Type\",\"ASP_(converted)\",\"Opportunity_ID\"]].groupby(\"Opportunity_Type\").\\\n",
    "            agg({\"ASP_(converted)\":\"mean\",\"Opportunity_ID\":\"count\"})\n",
    "opTypesVsASP.rename(columns={\"Opportunity_ID\":\"Cantidad\"},inplace=True)\n",
    "opTypesVsASP.reset_index(inplace=True)\n",
    "opTypesVsASP.sort_values(by=\"Cantidad\",inplace=True)\n",
    "opTypesVsASP = opTypesVsASP[opTypesVsASP[\"Cantidad\"] > 100]\n",
    "opTypesVsASP[\"Opportunity_Type\"] = opTypesVsASP[\"Opportunity_Type\"].apply(lambda x: x.replace(\"Opportunity_Type_\",\"\"))\n",
    "opTypesVsASP.sort_values(by=\"ASP_(converted)\",inplace=True)\n",
    "opTypesVsASP"
   ]
  },
  {
   "cell_type": "code",
   "execution_count": 36,
   "metadata": {},
   "outputs": [
    {
     "data": {
      "image/png": "[encoded data removed]",
      "text/plain": [
       "<Figure size 432x288 with 1 Axes>"
      ]
     },
     "metadata": {
      "needs_background": "light"
     },
     "output_type": "display_data"
    }
   ],
   "source": [
    "plot = sns.barplot(x=\"Opportunity_Type\",y=\"ASP_(converted)\",data=opTypesVsASP, order=opTypesVsASP[\"Opportunity_Type\"])\n",
    "plt.xlabel(\"Opportunity Type\")\n",
    "plt.ylabel(\"ASP(USD)\")\n",
    "plt.title(\"ASP Por Opportunity Type\")\n",
    "plt.savefig(\"img/OpType/ASPPorOpType.png\")#,bbox_inches=tr.Bbox([[0, -0.3],[6,4]]))\n",
    "plt.show(plot)"
   ]
  },
  {
   "cell_type": "markdown",
   "metadata": {},
   "source": [
    "# Op Type vs TRF"
   ]
  },
  {
   "cell_type": "code",
   "execution_count": 44,
   "metadata": {},
   "outputs": [
    {
     "data": {
      "text/html": [
       "<div>\n",
       "<style scoped>\n",
       "    .dataframe tbody tr th:only-of-type {\n",
       "        vertical-align: middle;\n",
       "    }\n",
       "\n",
       "    .dataframe tbody tr th {\n",
       "        vertical-align: top;\n",
       "    }\n",
       "\n",
       "    .dataframe thead th {\n",
       "        text-align: right;\n",
       "    }\n",
       "</style>\n",
       "<table border=\"1\" class=\"dataframe\">\n",
       "  <thead>\n",
       "    <tr style=\"text-align: right;\">\n",
       "      <th></th>\n",
       "      <th>Opportunity_Type</th>\n",
       "      <th>TRF</th>\n",
       "      <th>Opportunity_ID</th>\n",
       "    </tr>\n",
       "  </thead>\n",
       "  <tbody>\n",
       "    <tr>\n",
       "      <th>6</th>\n",
       "      <td>8</td>\n",
       "      <td>0.315646</td>\n",
       "      <td>735</td>\n",
       "    </tr>\n",
       "    <tr>\n",
       "      <th>5</th>\n",
       "      <td>7</td>\n",
       "      <td>0.322322</td>\n",
       "      <td>1998</td>\n",
       "    </tr>\n",
       "    <tr>\n",
       "      <th>1</th>\n",
       "      <td>12</td>\n",
       "      <td>0.326087</td>\n",
       "      <td>138</td>\n",
       "    </tr>\n",
       "    <tr>\n",
       "      <th>4</th>\n",
       "      <td>3</td>\n",
       "      <td>0.732240</td>\n",
       "      <td>183</td>\n",
       "    </tr>\n",
       "    <tr>\n",
       "      <th>0</th>\n",
       "      <td>1</td>\n",
       "      <td>1.017829</td>\n",
       "      <td>5160</td>\n",
       "    </tr>\n",
       "    <tr>\n",
       "      <th>3</th>\n",
       "      <td>20</td>\n",
       "      <td>7.133333</td>\n",
       "      <td>135</td>\n",
       "    </tr>\n",
       "    <tr>\n",
       "      <th>2</th>\n",
       "      <td>19</td>\n",
       "      <td>16.660451</td>\n",
       "      <td>1287</td>\n",
       "    </tr>\n",
       "  </tbody>\n",
       "</table>\n",
       "</div>"
      ],
      "text/plain": [
       "  Opportunity_Type        TRF  Opportunity_ID\n",
       "6                8   0.315646             735\n",
       "5                7   0.322322            1998\n",
       "1               12   0.326087             138\n",
       "4                3   0.732240             183\n",
       "0                1   1.017829            5160\n",
       "3               20   7.133333             135\n",
       "2               19  16.660451            1287"
      ]
     },
     "execution_count": 44,
     "metadata": {},
     "output_type": "execute_result"
    }
   ],
   "source": [
    "opTypeVsTRF = opportunities[[\"Opportunity_Type\",\"TRF\",\"Opportunity_ID\"]].groupby(\"Opportunity_Type\").agg({\"TRF\":\"mean\",\"Opportunity_ID\":\"count\"})\n",
    "opTypeVsTRF = opTypeVsTRF[(opTypeVsTRF[\"TRF\"] > 0) & (opTypeVsTRF[\"Opportunity_ID\"]>100)]\n",
    "opTypeVsTRF.reset_index(inplace=True)\n",
    "opTypeVsTRF[\"Opportunity_Type\"] = opTypeVsTRF[\"Opportunity_Type\"].apply(lambda x: x.replace(\"Opportunity_Type_\",\"\"))\n",
    "opTypeVsTRF = opTypeVsTRF.sort_values(by=\"TRF\")\n",
    "opTypeVsTRF"
   ]
  },
  {
   "cell_type": "code",
   "execution_count": 46,
   "metadata": {},
   "outputs": [
    {
     "data": {
      "image/png": "[encoded data removed]",
      "text/plain": [
       "<Figure size 432x288 with 1 Axes>"
      ]
     },
     "metadata": {
      "needs_background": "light"
     },
     "output_type": "display_data"
    }
   ],
   "source": [
    "plot = sns.barplot(x=\"Opportunity_Type\",y=\"TRF\",data=opTypeVsTRF,order=opTypeVsTRF[\"Opportunity_Type\"])\n",
    "plt.xlabel(\"Opportunity Type\")\n",
    "plt.ylabel(\"TRF\")\n",
    "plt.title(\"TRF Por Opportunity Type\")\n",
    "plt.savefig(\"img/OpType/TRFPorOpType.png\")#,bbox_inches=tr.Bbox([[0, -0.3],[6,4]]))\n",
    "plt.show(plot)\n",
    "#OT 19 y OT 20 son los que venden una cantidad considerable de TRF. \n",
    "#Este grafico iria mejor en el analisis de TRF, para comparar que afecta mas a la cantidad. Por ej, aca el OT 19 vende en promedio 16 toneladas, mientras que la source q mas vende\n",
    "#llega solo a 4, entonces la cantidad de TRF depende mas del OT que del source"
   ]
  },
  {
   "cell_type": "code",
   "execution_count": null,
   "metadata": {},
   "outputs": [],
   "source": []
  }
 ],
 "metadata": {
  "kernelspec": {
   "display_name": "Python 3",
   "language": "python",
   "name": "python3"
  },
  "language_info": {
   "codemirror_mode": {
    "name": "ipython",
    "version": 3
   },
   "file_extension": ".py",
   "mimetype": "text/x-python",
   "name": "python",
   "nbconvert_exporter": "python",
   "pygments_lexer": "ipython3",
   "version": "3.8.3"
  }
 },
 "nbformat": 4,
 "nbformat_minor": 4
}
