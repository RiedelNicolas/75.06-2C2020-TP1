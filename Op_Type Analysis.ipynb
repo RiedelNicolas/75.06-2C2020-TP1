{
 "cells": [
  {
   "cell_type": "code",
   "execution_count": 1,
   "metadata": {},
   "outputs": [],
   "source": [
    "import pandas as pd\n",
    "import numpy as np\n",
    "#import matplotlib as mp\n",
    "import seaborn as sns\n",
    "import matplotlib.pyplot as plt"
   ]
  },
  {
   "cell_type": "code",
   "execution_count": 2,
   "metadata": {},
   "outputs": [],
   "source": [
    "opportunities = pd.read_csv(\"Entrenamieto_ECI_2020.csv\")"
   ]
  },
  {
   "cell_type": "markdown",
   "metadata": {},
   "source": [
    "# Cantidad de apariciones de cada tipo de oportunidad"
   ]
  },
  {
   "cell_type": "code",
   "execution_count": 3,
   "metadata": {},
   "outputs": [
    {
     "data": {
      "text/html": [
       "<div>\n",
       "<style scoped>\n",
       "    .dataframe tbody tr th:only-of-type {\n",
       "        vertical-align: middle;\n",
       "    }\n",
       "\n",
       "    .dataframe tbody tr th {\n",
       "        vertical-align: top;\n",
       "    }\n",
       "\n",
       "    .dataframe thead th {\n",
       "        text-align: right;\n",
       "    }\n",
       "</style>\n",
       "<table border=\"1\" class=\"dataframe\">\n",
       "  <thead>\n",
       "    <tr style=\"text-align: right;\">\n",
       "      <th></th>\n",
       "      <th>Opportunity_Type</th>\n",
       "      <th>Cantidad</th>\n",
       "    </tr>\n",
       "  </thead>\n",
       "  <tbody>\n",
       "    <tr>\n",
       "      <th>13</th>\n",
       "      <td>Opportunity_Type_20</td>\n",
       "      <td>135</td>\n",
       "    </tr>\n",
       "    <tr>\n",
       "      <th>4</th>\n",
       "      <td>Opportunity_Type_12</td>\n",
       "      <td>138</td>\n",
       "    </tr>\n",
       "    <tr>\n",
       "      <th>18</th>\n",
       "      <td>Opportunity_Type_3</td>\n",
       "      <td>183</td>\n",
       "    </tr>\n",
       "    <tr>\n",
       "      <th>23</th>\n",
       "      <td>Opportunity_Type_8</td>\n",
       "      <td>735</td>\n",
       "    </tr>\n",
       "    <tr>\n",
       "      <th>11</th>\n",
       "      <td>Opportunity_Type_19</td>\n",
       "      <td>1287</td>\n",
       "    </tr>\n",
       "    <tr>\n",
       "      <th>22</th>\n",
       "      <td>Opportunity_Type_7</td>\n",
       "      <td>1998</td>\n",
       "    </tr>\n",
       "    <tr>\n",
       "      <th>1</th>\n",
       "      <td>Opportunity_Type_1</td>\n",
       "      <td>5160</td>\n",
       "    </tr>\n",
       "  </tbody>\n",
       "</table>\n",
       "</div>"
      ],
      "text/plain": [
       "       Opportunity_Type  Cantidad\n",
       "13  Opportunity_Type_20       135\n",
       "4   Opportunity_Type_12       138\n",
       "18   Opportunity_Type_3       183\n",
       "23   Opportunity_Type_8       735\n",
       "11  Opportunity_Type_19      1287\n",
       "22   Opportunity_Type_7      1998\n",
       "1    Opportunity_Type_1      5160"
      ]
     },
     "execution_count": 3,
     "metadata": {},
     "output_type": "execute_result"
    }
   ],
   "source": [
    "opportunities.drop_duplicates(subset=\"Opportunity_ID\",inplace=True)\n",
    "opTypes = opportunities[[\"Opportunity_Type\",\"Opportunity_ID\"]].groupby(\"Opportunity_Type\").agg({\"Opportunity_ID\":\"count\"})\n",
    "opTypes.rename(columns={\"Opportunity_ID\":\"Cantidad\"},inplace=True)\n",
    "opTypes.reset_index(inplace=True)\n",
    "opTypes.sort_values(by=\"Cantidad\",inplace=True)\n",
    "opTypes = opTypes[opTypes[\"Cantidad\"] > 100]\n",
    "opTypes"
   ]
  },
  {
   "cell_type": "code",
   "execution_count": 4,
   "metadata": {},
   "outputs": [
    {
     "data": {
      "text/plain": [
       "[Text(0, 0, 'Opportunity_Type_20'),\n",
       " Text(0, 0, 'Opportunity_Type_12'),\n",
       " Text(0, 0, 'Opportunity_Type_3'),\n",
       " Text(0, 0, 'Opportunity_Type_8'),\n",
       " Text(0, 0, 'Opportunity_Type_19'),\n",
       " Text(0, 0, 'Opportunity_Type_7'),\n",
       " Text(0, 0, 'Opportunity_Type_1')]"
      ]
     },
     "execution_count": 4,
     "metadata": {},
     "output_type": "execute_result"
    },
    {
     "data": {
      "image/png": "[encoded data removed]",
      "text/plain": [
       "<Figure size 432x288 with 1 Axes>"
      ]
     },
     "metadata": {
      "needs_background": "light"
     },
     "output_type": "display_data"
    }
   ],
   "source": [
    "plot = sns.barplot(x=\"Opportunity_Type\",y=\"Cantidad\",data=opTypes)\n",
    "plot.set_xticklabels(plot.get_xticklabels(), rotation=60)"
   ]
  },
  {
   "cell_type": "markdown",
   "metadata": {},
   "source": [
    "# OP TYPE VS STAGE"
   ]
  },
  {
   "cell_type": "code",
   "execution_count": 7,
   "metadata": {},
   "outputs": [
    {
     "data": {
      "text/html": [
       "<div>\n",
       "<style scoped>\n",
       "    .dataframe tbody tr th:only-of-type {\n",
       "        vertical-align: middle;\n",
       "    }\n",
       "\n",
       "    .dataframe tbody tr th {\n",
       "        vertical-align: top;\n",
       "    }\n",
       "\n",
       "    .dataframe thead th {\n",
       "        text-align: right;\n",
       "    }\n",
       "</style>\n",
       "<table border=\"1\" class=\"dataframe\">\n",
       "  <thead>\n",
       "    <tr style=\"text-align: right;\">\n",
       "      <th></th>\n",
       "      <th>Opportunity_Type</th>\n",
       "      <th>Stage</th>\n",
       "      <th>Cantidad</th>\n",
       "      <th>Total</th>\n",
       "    </tr>\n",
       "  </thead>\n",
       "  <tbody>\n",
       "    <tr>\n",
       "      <th>0</th>\n",
       "      <td>Opportunity_Type_1</td>\n",
       "      <td>Closed Lost</td>\n",
       "      <td>2460</td>\n",
       "      <td>5160</td>\n",
       "    </tr>\n",
       "    <tr>\n",
       "      <th>1</th>\n",
       "      <td>Opportunity_Type_1</td>\n",
       "      <td>Closed Won</td>\n",
       "      <td>2668</td>\n",
       "      <td>5160</td>\n",
       "    </tr>\n",
       "    <tr>\n",
       "      <th>5</th>\n",
       "      <td>Opportunity_Type_12</td>\n",
       "      <td>Closed Lost</td>\n",
       "      <td>16</td>\n",
       "      <td>138</td>\n",
       "    </tr>\n",
       "    <tr>\n",
       "      <th>6</th>\n",
       "      <td>Opportunity_Type_12</td>\n",
       "      <td>Closed Won</td>\n",
       "      <td>122</td>\n",
       "      <td>138</td>\n",
       "    </tr>\n",
       "    <tr>\n",
       "      <th>7</th>\n",
       "      <td>Opportunity_Type_19</td>\n",
       "      <td>Closed Lost</td>\n",
       "      <td>1075</td>\n",
       "      <td>1287</td>\n",
       "    </tr>\n",
       "    <tr>\n",
       "      <th>8</th>\n",
       "      <td>Opportunity_Type_19</td>\n",
       "      <td>Closed Won</td>\n",
       "      <td>202</td>\n",
       "      <td>1287</td>\n",
       "    </tr>\n",
       "    <tr>\n",
       "      <th>12</th>\n",
       "      <td>Opportunity_Type_20</td>\n",
       "      <td>Closed Lost</td>\n",
       "      <td>105</td>\n",
       "      <td>135</td>\n",
       "    </tr>\n",
       "    <tr>\n",
       "      <th>13</th>\n",
       "      <td>Opportunity_Type_20</td>\n",
       "      <td>Closed Won</td>\n",
       "      <td>30</td>\n",
       "      <td>135</td>\n",
       "    </tr>\n",
       "    <tr>\n",
       "      <th>14</th>\n",
       "      <td>Opportunity_Type_3</td>\n",
       "      <td>Closed Lost</td>\n",
       "      <td>100</td>\n",
       "      <td>183</td>\n",
       "    </tr>\n",
       "    <tr>\n",
       "      <th>15</th>\n",
       "      <td>Opportunity_Type_3</td>\n",
       "      <td>Closed Won</td>\n",
       "      <td>82</td>\n",
       "      <td>183</td>\n",
       "    </tr>\n",
       "    <tr>\n",
       "      <th>17</th>\n",
       "      <td>Opportunity_Type_7</td>\n",
       "      <td>Closed Lost</td>\n",
       "      <td>622</td>\n",
       "      <td>1998</td>\n",
       "    </tr>\n",
       "    <tr>\n",
       "      <th>18</th>\n",
       "      <td>Opportunity_Type_7</td>\n",
       "      <td>Closed Won</td>\n",
       "      <td>1373</td>\n",
       "      <td>1998</td>\n",
       "    </tr>\n",
       "    <tr>\n",
       "      <th>20</th>\n",
       "      <td>Opportunity_Type_8</td>\n",
       "      <td>Closed Lost</td>\n",
       "      <td>219</td>\n",
       "      <td>735</td>\n",
       "    </tr>\n",
       "    <tr>\n",
       "      <th>21</th>\n",
       "      <td>Opportunity_Type_8</td>\n",
       "      <td>Closed Won</td>\n",
       "      <td>516</td>\n",
       "      <td>735</td>\n",
       "    </tr>\n",
       "  </tbody>\n",
       "</table>\n",
       "</div>"
      ],
      "text/plain": [
       "       Opportunity_Type        Stage  Cantidad  Total\n",
       "0    Opportunity_Type_1  Closed Lost      2460   5160\n",
       "1    Opportunity_Type_1   Closed Won      2668   5160\n",
       "5   Opportunity_Type_12  Closed Lost        16    138\n",
       "6   Opportunity_Type_12   Closed Won       122    138\n",
       "7   Opportunity_Type_19  Closed Lost      1075   1287\n",
       "8   Opportunity_Type_19   Closed Won       202   1287\n",
       "12  Opportunity_Type_20  Closed Lost       105    135\n",
       "13  Opportunity_Type_20   Closed Won        30    135\n",
       "14   Opportunity_Type_3  Closed Lost       100    183\n",
       "15   Opportunity_Type_3   Closed Won        82    183\n",
       "17   Opportunity_Type_7  Closed Lost       622   1998\n",
       "18   Opportunity_Type_7   Closed Won      1373   1998\n",
       "20   Opportunity_Type_8  Closed Lost       219    735\n",
       "21   Opportunity_Type_8   Closed Won       516    735"
      ]
     },
     "execution_count": 7,
     "metadata": {},
     "output_type": "execute_result"
    }
   ],
   "source": [
    "opTypeVsStage = opportunities.groupby([\"Opportunity_Type\",\"Stage\"]).agg({\"Opportunity_ID\":\"count\"})#Consigo la cantidad de veces de cada OT por cada source\n",
    "opTypeVsStage = opTypeVsStage.reset_index()\n",
    "#opTypeVsStage[\"Opportunity_Type\"] = opTypeVsStage[\"Opportunity_Type\"].apply(lambda x: x.replace(\"Opportunity_Type_\",\"\"))\n",
    "opTypeVsStage.rename(columns={\"Opportunity_ID\":\"Cantidad\"},inplace = True)\n",
    "total = opTypeVsStage.groupby(\"Opportunity_Type\").agg({\"Cantidad\":\"sum\"}) #La cantidad total de veces que aparece OT\n",
    "opTypeVsStage.set_index(\"Opportunity_Type\",inplace=True)\n",
    "opTypeVsStage[\"Total\"] = total[\"Cantidad\"]\n",
    "opTypeVsStage = opTypeVsStage[opTypeVsStage[\"Total\"]>100]#Filtro a los q tienen mas de 100 entradas\n",
    "opTypeVsStage.reset_index(inplace=True)\n",
    "opTypeVsStage = opTypeVsStage[(opTypeVsStage[\"Stage\"]==\"Closed Won\") | (opTypeVsStage[\"Stage\"]==\"Closed Lost\")]\n",
    "opTypeVsStage"
   ]
  },
  {
   "cell_type": "code",
   "execution_count": 9,
   "metadata": {},
   "outputs": [
    {
     "data": {
      "text/plain": [
       "[Text(0, 0, 'Opportunity_Type_1'),\n",
       " Text(0, 0, 'Opportunity_Type_12'),\n",
       " Text(0, 0, 'Opportunity_Type_19'),\n",
       " Text(0, 0, 'Opportunity_Type_20'),\n",
       " Text(0, 0, 'Opportunity_Type_3'),\n",
       " Text(0, 0, 'Opportunity_Type_7'),\n",
       " Text(0, 0, 'Opportunity_Type_8')]"
      ]
     },
     "execution_count": 9,
     "metadata": {},
     "output_type": "execute_result"
    },
    {
     "data": {
      "image/png": "[encoded data removed]",
      "text/plain": [
       "<Figure size 432x288 with 1 Axes>"
      ]
     },
     "metadata": {
      "needs_background": "light"
     },
     "output_type": "display_data"
    }
   ],
   "source": [
    "plot = sns.barplot(x=\"Opportunity_Type\",y=\"Cantidad\",hue=\"Stage\",data=opTypeVsStage)\n",
    "plot.set_xticklabels(plot.get_xticklabels(), rotation=90)"
   ]
  },
  {
   "cell_type": "markdown",
   "metadata": {},
   "source": [
    "# Op Types vs ASP"
   ]
  },
  {
   "cell_type": "code",
   "execution_count": 13,
   "metadata": {},
   "outputs": [
    {
     "data": {
      "text/html": [
       "<div>\n",
       "<style scoped>\n",
       "    .dataframe tbody tr th:only-of-type {\n",
       "        vertical-align: middle;\n",
       "    }\n",
       "\n",
       "    .dataframe tbody tr th {\n",
       "        vertical-align: top;\n",
       "    }\n",
       "\n",
       "    .dataframe thead th {\n",
       "        text-align: right;\n",
       "    }\n",
       "</style>\n",
       "<table border=\"1\" class=\"dataframe\">\n",
       "  <thead>\n",
       "    <tr style=\"text-align: right;\">\n",
       "      <th></th>\n",
       "      <th>Opportunity_Type</th>\n",
       "      <th>ASP_(converted)</th>\n",
       "      <th>Cantidad</th>\n",
       "    </tr>\n",
       "  </thead>\n",
       "  <tbody>\n",
       "    <tr>\n",
       "      <th>13</th>\n",
       "      <td>Opportunity_Type_20</td>\n",
       "      <td>0.418260</td>\n",
       "      <td>135</td>\n",
       "    </tr>\n",
       "    <tr>\n",
       "      <th>4</th>\n",
       "      <td>Opportunity_Type_12</td>\n",
       "      <td>0.349652</td>\n",
       "      <td>138</td>\n",
       "    </tr>\n",
       "    <tr>\n",
       "      <th>18</th>\n",
       "      <td>Opportunity_Type_3</td>\n",
       "      <td>0.404088</td>\n",
       "      <td>183</td>\n",
       "    </tr>\n",
       "    <tr>\n",
       "      <th>23</th>\n",
       "      <td>Opportunity_Type_8</td>\n",
       "      <td>0.432679</td>\n",
       "      <td>735</td>\n",
       "    </tr>\n",
       "    <tr>\n",
       "      <th>11</th>\n",
       "      <td>Opportunity_Type_19</td>\n",
       "      <td>0.469482</td>\n",
       "      <td>1287</td>\n",
       "    </tr>\n",
       "    <tr>\n",
       "      <th>22</th>\n",
       "      <td>Opportunity_Type_7</td>\n",
       "      <td>0.431177</td>\n",
       "      <td>1998</td>\n",
       "    </tr>\n",
       "    <tr>\n",
       "      <th>1</th>\n",
       "      <td>Opportunity_Type_1</td>\n",
       "      <td>0.440101</td>\n",
       "      <td>5160</td>\n",
       "    </tr>\n",
       "  </tbody>\n",
       "</table>\n",
       "</div>"
      ],
      "text/plain": [
       "       Opportunity_Type  ASP_(converted)  Cantidad\n",
       "13  Opportunity_Type_20         0.418260       135\n",
       "4   Opportunity_Type_12         0.349652       138\n",
       "18   Opportunity_Type_3         0.404088       183\n",
       "23   Opportunity_Type_8         0.432679       735\n",
       "11  Opportunity_Type_19         0.469482      1287\n",
       "22   Opportunity_Type_7         0.431177      1998\n",
       "1    Opportunity_Type_1         0.440101      5160"
      ]
     },
     "execution_count": 13,
     "metadata": {},
     "output_type": "execute_result"
    }
   ],
   "source": [
    "opTypesVsASP = opportunities[[\"Opportunity_Type\",\"ASP_(converted)\",\"Opportunity_ID\"]].groupby(\"Opportunity_Type\").\\\n",
    "            agg({\"ASP_(converted)\":\"mean\",\"Opportunity_ID\":\"count\"})\n",
    "opTypesVsASP.rename(columns={\"Opportunity_ID\":\"Cantidad\"},inplace=True)\n",
    "opTypesVsASP.reset_index(inplace=True)\n",
    "opTypesVsASP.sort_values(by=\"Cantidad\",inplace=True)\n",
    "opTypesVsASP = opTypesVsASP[opTypesVsASP[\"Cantidad\"] > 100]\n",
    "opTypesVsASP"
   ]
  },
  {
   "cell_type": "code",
   "execution_count": 16,
   "metadata": {},
   "outputs": [
    {
     "data": {
      "text/plain": [
       "[Text(0, 0, 'Opportunity_Type_20'),\n",
       " Text(0, 0, 'Opportunity_Type_12'),\n",
       " Text(0, 0, 'Opportunity_Type_3'),\n",
       " Text(0, 0, 'Opportunity_Type_8'),\n",
       " Text(0, 0, 'Opportunity_Type_19'),\n",
       " Text(0, 0, 'Opportunity_Type_7'),\n",
       " Text(0, 0, 'Opportunity_Type_1')]"
      ]
     },
     "execution_count": 16,
     "metadata": {},
     "output_type": "execute_result"
    },
    {
     "data": {
      "image/png": "[encoded data removed]",
      "text/plain": [
       "<Figure size 432x288 with 1 Axes>"
      ]
     },
     "metadata": {
      "needs_background": "light"
     },
     "output_type": "display_data"
    }
   ],
   "source": [
    "plot = sns.barplot(x=\"Opportunity_Type\",y=\"ASP_(converted)\",data=opTypesVsASP)\n",
    "plot.set_xticklabels(plot.get_xticklabels(), rotation=90)"
   ]
  },
  {
   "cell_type": "code",
   "execution_count": null,
   "metadata": {},
   "outputs": [],
   "source": []
  }
 ],
 "metadata": {
  "kernelspec": {
   "display_name": "Python 3",
   "language": "python",
   "name": "python3"
  },
  "language_info": {
   "codemirror_mode": {
    "name": "ipython",
    "version": 3
   },
   "file_extension": ".py",
   "mimetype": "text/x-python",
   "name": "python",
   "nbconvert_exporter": "python",
   "pygments_lexer": "ipython3",
   "version": "3.8.3"
  }
 },
 "nbformat": 4,
 "nbformat_minor": 4
}
